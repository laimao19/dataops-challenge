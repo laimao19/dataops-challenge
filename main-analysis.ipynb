{
 "cells": [
  {
   "cell_type": "markdown",
   "id": "795d8ec9",
   "metadata": {},
   "source": [
    "# Data Ops Challenge Main Analysis File\n",
    "In this file, I'll be using a Jupyter notebook to produce the core visualizations that will supplement the presentation and be used for answering the provided guiding questions."
   ]
  },
  {
   "cell_type": "markdown",
   "id": "673b9b64",
   "metadata": {},
   "source": [
    "## Loading, Adjusting, and Merging the Data"
   ]
  },
  {
   "cell_type": "code",
   "execution_count": 1,
   "id": "7a61e62a",
   "metadata": {},
   "outputs": [],
   "source": [
    "#imports\n",
    "import sqlite3\n",
    "import pandas as pd\n",
    "import plotly.graph_objects as plt\n",
    "import matplotlib.pyplot as plot\n",
    "import plotly.express as px\n",
    "from plotly.subplots import make_subplots\n",
    "import numpy as np"
   ]
  },
  {
   "cell_type": "code",
   "execution_count": 2,
   "id": "fb28d3ea",
   "metadata": {},
   "outputs": [
    {
     "name": "stdout",
     "output_type": "stream",
     "text": [
      "number of rows from the 500 cities dataset: 27,210\n",
      "number of rows from the fda food atlas dataset: 3,143\n"
     ]
    }
   ],
   "source": [
    "#first, i'm going to initially connect to the database\n",
    "conn = sqlite3.connect(\"challenge.db\")\n",
    "\n",
    "#now i'll load in each table as a dataframe\n",
    "cities_df = pd.read_sql(\"SELECT * FROM five_hundred_cities;\", conn)\n",
    "access_df = pd.read_sql(\"SELECT * FROM access;\", conn)\n",
    "variablelist_df = pd.read_sql(\"SELECT * FROM variable_list\", conn)\n",
    "\n",
    "print(f\"number of rows from the 500 cities dataset: {len(cities_df):,}\")\n",
    "print(f\"number of rows from the fda food atlas dataset: {len(access_df):,}\")"
   ]
  },
  {
   "cell_type": "code",
   "execution_count": 3,
   "id": "14ee6e7c",
   "metadata": {},
   "outputs": [
    {
     "name": "stdout",
     "output_type": "stream",
     "text": [
      "0    1073000100\n",
      "1    1073000300\n",
      "2    1073000400\n",
      "3    1073000500\n",
      "4    1073000700\n",
      "Name: TractFIPS, dtype: int64\n",
      "0    01073\n",
      "1    01073\n",
      "2    01073\n",
      "3    01073\n",
      "4    01073\n",
      "Name: CountyFIPS, dtype: object\n",
      "0    1001\n",
      "1    1003\n",
      "2    1005\n",
      "3    1007\n",
      "4    1009\n",
      "5    1011\n",
      "6    1013\n",
      "7    1015\n",
      "8    1017\n",
      "9    1019\n",
      "Name: FIPS, dtype: int64\n",
      "0    01001\n",
      "1    01003\n",
      "2    01005\n",
      "3    01007\n",
      "4    01009\n",
      "5    01011\n",
      "6    01013\n",
      "7    01015\n",
      "8    01017\n",
      "9    01019\n",
      "Name: FIPS, dtype: object\n"
     ]
    }
   ],
   "source": [
    "#now, when reading through the tables, i saw that the FIPS value for the access table was NOT the standard 5 digits for some\n",
    "#of the codes. after looking up the FIPS codes, i found out that any FIPS code that originally had a \"0\" at the beginning\n",
    "#was now missing a 0 at the beginning. if it had a non-zero value at the beginning, it still had that value. so i'll be\n",
    "#adding in a zero at the beginning of each FIPS code that was supposed to have a 0 in the access table\n",
    "#this was actually the case in the 500 cities dataset as well, with the PlaceFIPS and TractFIPS codes so i fixed that too.\n",
    "#i've included a print before and after to show that this was the case.\n",
    "\n",
    "print(cities_df[\"TractFIPS\"].head())\n",
    "cities_df[\"TractFIPS\"] = cities_df[\"TractFIPS\"].astype(str).str.zfill(11).str[:5]\n",
    "cities_df[\"CountyFIPS\"] = cities_df[\"TractFIPS\"]\n",
    "print(cities_df[\"CountyFIPS\"].head())\n",
    "\n",
    "print(access_df[\"FIPS\"].head(10))\n",
    "access_df[\"FIPS\"] = access_df[\"FIPS\"].astype(str).str.zfill(5)\n",
    "print(access_df[\"FIPS\"].head(10))"
   ]
  },
  {
   "cell_type": "code",
   "execution_count": 4,
   "id": "9d0e8e2a",
   "metadata": {},
   "outputs": [],
   "source": [
    "#we will extract lat/lon from geolocation \"(lat, lon)\" strings for visualization purposes later (specifically visualization 1)\n",
    "cities_df[[\"lat\",\"lon\"]] = cities_df[\"Geolocation\"].str.strip(\"()\").str.split(\",\", expand=True)\n",
    "cities_df[\"lat\"] = cities_df[\"lat\"].astype(float)\n",
    "cities_df[\"lon\"] = cities_df[\"lon\"].astype(float)"
   ]
  },
  {
   "cell_type": "code",
   "execution_count": 5,
   "id": "a69123d7",
   "metadata": {},
   "outputs": [
    {
     "name": "stdout",
     "output_type": "stream",
     "text": [
      "rows dropped due to missing data: 152\n",
      "remaining rows: 27,058\n"
     ]
    }
   ],
   "source": [
    "#now we can aggregate the 500 cities data to a county-level\n",
    "\n",
    "#key columns we use in analysis for visualizations\n",
    "disease_cols = [\"COPD_CrudePrev\", \"CASTHMA_CrudePrev\", \"DIABETES_CrudePrev\", \n",
    "                \"ARTHRITIS_CrudePrev\", \"BPHIGH_CrudePrev\"]\n",
    "engagement_cols = [\"COREM_CrudePrev\", \"COREW_CrudePrev\"]\n",
    "key_cols = disease_cols + engagement_cols + [\"Population2010\"]\n",
    "\n",
    "#drop rows with missing vals in key cols\n",
    "cities_clean = cities_df.dropna(subset=key_cols + [\"CountyFIPS\", \"lat\", \"lon\"]).copy()\n",
    "print(f\"rows dropped due to missing data: {len(cities_df) - len(cities_clean)}\")\n",
    "print(f\"remaining rows: {len(cities_clean):,}\")\n",
    "\n",
    "#aggregate to county level using population-weighted means for prevalence\n",
    "county_health = cities_clean.groupby(\"CountyFIPS\").apply(\n",
    "    lambda x: pd.Series({\n",
    "        'State': x['StateAbbr'].iloc[0],\n",
    "        'County': x['TractFIPS'].iloc[0],  \n",
    "        'total_pop': x['Population2010'].sum(),\n",
    "        'COPD_CrudePrev': np.average(x['COPD_CrudePrev'], weights=x['Population2010']),\n",
    "        'CASTHMA_CrudePrev': np.average(x['CASTHMA_CrudePrev'], weights=x['Population2010']),\n",
    "        'DIABETES_CrudePrev': np.average(x['DIABETES_CrudePrev'], weights=x['Population2010']),\n",
    "        'ARTHRITIS_CrudePrev': np.average(x['ARTHRITIS_CrudePrev'], weights=x['Population2010']),\n",
    "        'BPHIGH_CrudePrev': np.average(x['BPHIGH_CrudePrev'], weights=x['Population2010']),\n",
    "        'COREM_CrudePrev': np.average(x['COREM_CrudePrev'], weights=x['Population2010']),\n",
    "        'COREW_CrudePrev': np.average(x['COREW_CrudePrev'], weights=x['Population2010']),\n",
    "        'lat': x['lat'].mean(),\n",
    "        'lon': x['lon'].mean()\n",
    "    }), include_groups=False\n",
    ").reset_index()"
   ]
  },
  {
   "cell_type": "code",
   "execution_count": 6,
   "id": "93ef10a4",
   "metadata": {},
   "outputs": [
    {
     "name": "stdout",
     "output_type": "stream",
     "text": [
      "counties in FDA data before cleaning: 3,143\n",
      "counties in FDA data after cleaning: 3,124\n",
      "counties after merging: 324\n"
     ]
    }
   ],
   "source": [
    "#now we can merge the FDA food access data with the 500 cities data\n",
    "print(f\"counties in FDA data before cleaning: {len(access_df):,}\")\n",
    "#clean fda data with replacing missing codes and dropping na values\n",
    "access_clean = (\n",
    "    access_df\n",
    "    .replace([-9999, -8888, -1], np.nan)\n",
    "    .dropna(subset=[\"FIPS\", \"County\", \"State\", \"PCT_LACCESS_POP15\"]) \n",
    "    .copy()\n",
    ")\n",
    "print(f\"counties in FDA data after cleaning: {len(access_clean):,}\")\n",
    "\n",
    "#merge the two datasets on county FIPS\n",
    "merged = county_health.merge(\n",
    "    access_clean,\n",
    "    left_on=\"CountyFIPS\",\n",
    "    right_on=\"FIPS\",\n",
    "    how=\"inner\"\n",
    ")\n",
    "print(f\"counties after merging: {len(merged):,}\")"
   ]
  },
  {
   "cell_type": "markdown",
   "id": "d1864a68",
   "metadata": {},
   "source": [
    "## Visualization 1 (the where)\n",
    "This visualization aims to help supplement the guiding question **\"where should we deploy a food access program?\"**\n",
    "\n",
    "We can find this out by first considering that the only table we have available for analysis from the FDA Food Access dataset is the \"ACCESS\" sub-table, which contains information about access and proximity to grocery stores with the following subcategories within that category:\n",
    "- overall (population with low-access)\n",
    "- household resources (low income & low access, households with no car & low access, SNAP households & low access)\n",
    "- demographics (children, seniors, hispanic ethnicity, asian, american indian or alaska native, asian, hawaiian or pacific islander, multiracial with low access)\n",
    "\n",
    "We should also consider that for the 500 cities dataset, though some of the columns regarding different health conditions and their prevalences only consider elderly populations (>= 65 years old or 50-74 years old) or only adult men or only adult women, generally it doesn't account for factors such as household resources or demographics but rather just for a general age range (18-64), it looks at \"what is the crude prevalence of this health condition?\"\n",
    "\n",
    "Since we want to consider data from both datasets when we are considering where to deploy a food access program, we'll only consider the overall access to grocery stores (general population with low-access) from the FDA Food Access dataset so as to match the generality of the 500 cities dataset.\n",
    "\n",
    "Though we have past data that we can use and a percent change we can consider with access to food in specific areas (change from 2010-2015), I will only be using the percentage of population impacted by low access to food in specific areas from the most recent data (2015) so that we can target where need is highest now. For an example on why we want to target this to answer the question of where we should deploy a food access program now, we can consider that if we have a town with a large change of overall low access to grocery stores of 3% to 6% from 2010 to 2015 and another town with no change of overall low access to grocery stores of 25% to 25% from 2010 to 2015, we would want to target the latter town for food access programs since, although they have didn't change, they are experiencing more food access challenges with more of their population now.\n",
    "\n",
    "In a 2024 study by Gregory and Jones on health challenges related to household food security (https://www.ers.FDA.gov/data-products/charts-of-note/chart-detail?chartId=108211), it was found that 5 chronic diseases increased their prevalence as household food security worsened. These diseases were **hypertension, arthritis, diabetes, asthma, and COPD**. The age range included was ages 19-64 working adults, with compared household food security ranging from high, marginal, low, and very low. I'll be using these 5 diseases as the target ones to look for in the 500 cities dataset related to low food access in the FDA food atlas dataset when trying to find locations to deploy a food access program."
   ]
  },
  {
   "cell_type": "code",
   "execution_count": 7,
   "id": "7f240854",
   "metadata": {},
   "outputs": [],
   "source": [
    "#what are the columns that I want to analyze for this? (note: hypertension = long-term high blood pressure)\n",
    "    #county, city, state for the actual location (County, PlaceName, State)\n",
    "    #PCT_LACCESS_POP15 from the FDA food atlas dataset -> indicates population, low access to store (%), 2015\n",
    "    #COPD_CrudePrev from the 500 cities dataset -> indicates the model-based estimate for crude prevalence of chronic obstructive pulmonary disease among adults aged >=18 years\n",
    "    #CASTHMA_CrudePrev from the 500 cities dataset -> indicates the model-based estimate for crude prevalence of current asthma among adults aged >=18 years\n",
    "    #DIABETES_CrudePrev from the 500 cities dataset -> indicates the model-based estimate for crude prevalence of diagnosed diabetes among adults aged >=18 years\n",
    "    #ARTHRITIS_CrudePrev from the 500 cities dataset -> indicates the model-based estimate for crude prevalence of arthritis among adults aged >=18 years\n",
    "    #BPHIGH_CrudePrev from the 500 cities dataset -> indicates the model-based estimate for crude prevalence of high blood pressure among adults aged >=18 years\n",
    "\n",
    "#first, what we'll do is calculate a \"priority score\" for each county that we have available in our merged dataset.\n",
    "#the higher the score -> the more priority we should designate to that county to designate resources.\n",
    "#why does this work? -> the additive model with equal weights (0.5 each) identifies counties \n",
    "#that score high on BOTH disease burden AND food access challenges\n",
    "\n",
    "#creating a copy of the merged df for adding in the calculatuions of disease burden norm and food access norm and priority score for each location\n",
    "vis1_data = merged.copy() \n",
    "#we calculate the disease burden and food access burden normalized on a 0-1 scale and then equally add them in \n",
    "#to the priority score (become a range of 0-100)\n",
    "for col in disease_cols:\n",
    "    vis1_data[f\"{col}_norm\"] = (vis1_data[col] - vis1_data[col].min()) / (vis1_data[col].max() - vis1_data[col].min())\n",
    "vis1_data[\"disease_burden_norm\"] = vis1_data[[f\"{col}_norm\" for col in disease_cols]].mean(axis=1)\n",
    "vis1_data[\"food_access_norm\"] = (vis1_data[\"PCT_LACCESS_POP15\"] - vis1_data[\"PCT_LACCESS_POP15\"].min()) / \\\n",
    "                                 (vis1_data[\"PCT_LACCESS_POP15\"].max() - vis1_data[\"PCT_LACCESS_POP15\"].min())\n",
    "vis1_data[\"priority_score\"] = (0.5 * vis1_data[\"disease_burden_norm\"] + 0.5 * vis1_data[\"food_access_norm\"]) * 100\n",
    "\n",
    "\n",
    "#getting the relevant data for county display\n",
    "county_data = vis1_data[[\"FIPS\", \"County_y\", \"State_y\", \"priority_score\", \"lat\", \"lon\"]].copy()\n",
    "county_data = county_data.rename(columns={\"County_y\": \"County\", \"State_y\": \"State\"}) \n",
    "state_data = county_data.groupby(\"State\").agg(\n",
    "    priority_score=(\"priority_score\", \"mean\") #average priority score across all counties in that state\n",
    ").reset_index() #make it into a normal df\n",
    "\n",
    "#we also normalize the data to be on a 0-100 scale for the priority score on a state level so the visualization is easier to understand\n",
    "min_val = state_data[\"priority_score\"].min()\n",
    "max_val = state_data[\"priority_score\"].max()\n",
    "state_data[\"priority_score_norm\"] = ((state_data[\"priority_score\"] - min_val) / (max_val - min_val) * 100)\n",
    "\n",
    "#we get the top 10 highest priority score counties overall (not per state) to display on the map as the areas we should focus on\n",
    "top10 = county_data.nlargest(10, \"priority_score\").copy()\n",
    "top10 = top10.sort_values(\"priority_score\", ascending=False).reset_index(drop=True)\n",
    "\n",
    "#adding labels to the top 10 counties: rank, county, state and priority score\n",
    "top10[\"RankLabel\"] = (\n",
    "    (top10.index+1).astype(str) + \". \" +\n",
    "    top10[\"County\"] + \", \" +\n",
    "    top10[\"State\"] +\n",
    "    \" (\" + top10[\"priority_score\"].round(1).astype(str) + \")\"\n",
    ")"
   ]
  },
  {
   "cell_type": "code",
   "execution_count": 8,
   "id": "3cebe537",
   "metadata": {},
   "outputs": [
    {
     "data": {
      "application/vnd.plotly.v1+json": {
       "config": {
        "plotlyServerURL": "https://plot.ly"
       },
       "data": [
        {
         "colorbar": {
          "len": 0.6,
          "thickness": 15,
          "title": {
           "text": "Priority Score"
          },
          "x": 0.92,
          "y": 0.5
         },
         "colorscale": [
          [
           0,
           "rgb(5,48,97)"
          ],
          [
           0.1,
           "rgb(33,102,172)"
          ],
          [
           0.2,
           "rgb(67,147,195)"
          ],
          [
           0.3,
           "rgb(146,197,222)"
          ],
          [
           0.4,
           "rgb(209,229,240)"
          ],
          [
           0.5,
           "rgb(247,247,247)"
          ],
          [
           0.6,
           "rgb(253,219,199)"
          ],
          [
           0.7,
           "rgb(244,165,130)"
          ],
          [
           0.8,
           "rgb(214,96,77)"
          ],
          [
           0.9,
           "rgb(178,24,43)"
          ],
          [
           1,
           "rgb(103,0,31)"
          ]
         ],
         "locationmode": "USA-states",
         "locations": [
          "AK",
          "AL",
          "AR",
          "AZ",
          "CA",
          "CO",
          "CT",
          "DC",
          "DE",
          "FL",
          "GA",
          "HI",
          "IA",
          "ID",
          "IL",
          "IN",
          "KS",
          "KY",
          "LA",
          "MA",
          "MD",
          "ME",
          "MI",
          "MN",
          "MO",
          "MS",
          "MT",
          "NC",
          "ND",
          "NE",
          "NH",
          "NJ",
          "NM",
          "NV",
          "NY",
          "OH",
          "OK",
          "OR",
          "PA",
          "RI",
          "SC",
          "SD",
          "TN",
          "TX",
          "UT",
          "VA",
          "VT",
          "WA",
          "WI",
          "WV",
          "WY"
         ],
         "showscale": true,
         "type": "choropleth",
         "z": {
          "bdata": "V4tL7lKtSkAwnKirpBhTQBD0gR7v10ZAxs94nq0VR0AAl1wlAJw5QAn8McmztUFA9dleRtdmU0AAAAAAAAAAAB9f4DAXalRApLBaPrtvUEBi0O5+UAZTQCDyIMu2AkhAqT/7B6H+R0ClBAY5QdhDQCCOpKKiokxAIKWiYDydUkBn/2kcQZdKQKX1PIDAmExAI12hdOqRUEBcjw024fBRQEQfhTZXZDtAIiTk768VSEBTA5Xs9lRTQATpZr1lFkNA/S0eEbUvT0BehMZcYx5YQJrSayd5aUdAovh+g5/QTEB8jtUJdfExQJKOoUiIqDNAIhqkRYnWVUCRJR9/qW1GQAeLjl/XpVFAKKlSJfmoRUB5I0oK9FtDQJo+cM3ZN1RAxaKwXF00UkCWD9NlNX9DQAlF0QcKnU5A8D3KpTQwUUBIq/s7MLlIQAGgP6LfGkBApihx4FQjVkBMGgbQSclLQJOiljxhmUVAWnCkMIXtTkAG5Xzd2T8+QBM9Zu2/2kpA1cHC0DlGSUAAAAAAAABZQAhsehhgxFRA",
          "dtype": "f8"
         }
        },
        {
         "hoverinfo": "text",
         "lat": [
          43.03156113661538
         ],
         "legendgroup": "group1",
         "lon": [
          -83.69053786418974
         ],
         "marker": {
          "color": "black",
          "line": {
           "color": "white",
           "width": 1
          },
          "size": 10
         },
         "mode": "markers+text",
         "name": "1. Genesee, MI (83.4)",
         "showlegend": true,
         "text": "#1",
         "textfont": {
          "color": "black",
          "size": 12
         },
         "textposition": "top center",
         "type": "scattergeo"
        },
        {
         "hoverinfo": "text",
         "lat": [
          35.055057016784005
         ],
         "legendgroup": "group2",
         "lon": [
          -85.25144886788199
         ],
         "marker": {
          "color": "black",
          "line": {
           "color": "white",
           "width": 1
          },
          "size": 10
         },
         "mode": "markers+text",
         "name": "2. Hamilton, TN (82.0)",
         "showlegend": true,
         "text": "#2",
         "textfont": {
          "color": "black",
          "size": 12
         },
         "textposition": "top center",
         "type": "scattergeo"
        },
        {
         "hoverinfo": "text",
         "lat": [
          42.08337861982858
         ],
         "legendgroup": "group3",
         "lon": [
          -71.02350304913335
         ],
         "marker": {
          "color": "black",
          "line": {
           "color": "white",
           "width": 1
          },
          "size": 10
         },
         "mode": "markers+text",
         "name": "3. Plymouth, MA (79.5)",
         "showlegend": true,
         "text": "#3",
         "textfont": {
          "color": "black",
          "size": 12
         },
         "textposition": "top center",
         "type": "scattergeo"
        },
        {
         "hoverinfo": "text",
         "lat": [
          31.57663416744
         ],
         "legendgroup": "group4",
         "lon": [
          -84.17337340270801
         ],
         "marker": {
          "color": "black",
          "line": {
           "color": "white",
           "width": 1
          },
          "size": 10
         },
         "mode": "markers+text",
         "name": "4. Dougherty, GA (79.4)",
         "showlegend": true,
         "text": "#4",
         "textfont": {
          "color": "black",
          "size": 12
         },
         "textposition": "top center",
         "type": "scattergeo"
        },
        {
         "hoverinfo": "text",
         "lat": [
          36.179497482900004
         ],
         "legendgroup": "group5",
         "lon": [
          -96.02919527655
         ],
         "marker": {
          "color": "black",
          "line": {
           "color": "white",
           "width": 1
          },
          "size": 10
         },
         "mode": "markers+text",
         "name": "5. Osage, OK (77.2)",
         "showlegend": true,
         "text": "#5",
         "textfont": {
          "color": "black",
          "size": 12
         },
         "textposition": "top center",
         "type": "scattergeo"
        },
        {
         "hoverinfo": "text",
         "lat": [
          41.592296863053996
         ],
         "legendgroup": "group6",
         "lon": [
          -87.40048667773601
         ],
         "marker": {
          "color": "black",
          "line": {
           "color": "white",
           "width": 1
          },
          "size": 10
         },
         "mode": "markers+text",
         "name": "6. Lake, IN (75.2)",
         "showlegend": true,
         "text": "#6",
         "textfont": {
          "color": "black",
          "size": 12
         },
         "textposition": "top center",
         "type": "scattergeo"
        },
        {
         "hoverinfo": "text",
         "lat": [
          33.4323087323085
         ],
         "legendgroup": "group7",
         "lon": [
          -82.03843662738086
         ],
         "marker": {
          "color": "black",
          "line": {
           "color": "white",
           "width": 1
          },
          "size": 10
         },
         "mode": "markers+text",
         "name": "7. Richmond, GA (74.5)",
         "showlegend": true,
         "text": "#7",
         "textfont": {
          "color": "black",
          "size": 12
         },
         "textposition": "top center",
         "type": "scattergeo"
        },
        {
         "hoverinfo": "text",
         "lat": [
          28.064137144145946
         ],
         "legendgroup": "group8",
         "lon": [
          -80.64541894978107
         ],
         "marker": {
          "color": "black",
          "line": {
           "color": "white",
           "width": 1
          },
          "size": 10
         },
         "mode": "markers+text",
         "name": "8. Brevard, FL (74.5)",
         "showlegend": true,
         "text": "#8",
         "textfont": {
          "color": "black",
          "size": 12
         },
         "textposition": "top center",
         "type": "scattergeo"
        },
        {
         "hoverinfo": "text",
         "lat": [
          41.09325647511291
         ],
         "legendgroup": "group9",
         "lon": [
          -80.6531700703258
         ],
         "marker": {
          "color": "black",
          "line": {
           "color": "white",
           "width": 1
          },
          "size": 10
         },
         "mode": "markers+text",
         "name": "9. Mahoning, OH (74.2)",
         "showlegend": true,
         "text": "#9",
         "textfont": {
          "color": "black",
          "size": 12
         },
         "textposition": "top center",
         "type": "scattergeo"
        },
        {
         "hoverinfo": "text",
         "lat": [
          33.50411141448269
         ],
         "legendgroup": "group10",
         "lon": [
          -86.8050121383096
         ],
         "marker": {
          "color": "black",
          "line": {
           "color": "white",
           "width": 1
          },
          "size": 10
         },
         "mode": "markers+text",
         "name": "10. Jefferson, AL (72.2)",
         "showlegend": true,
         "text": "#10",
         "textfont": {
          "color": "black",
          "size": 12
         },
         "textposition": "top center",
         "type": "scattergeo"
        }
       ],
       "layout": {
        "geo": {
         "scope": "usa"
        },
        "height": 750,
        "legend": {
         "bgcolor": "rgba(255,255,255,0.6)",
         "bordercolor": "gray",
         "borderwidth": 0.5,
         "font": {
          "size": 11
         },
         "title": {
          "text": "Top 10 High-Priority Counties<br>(with priority scores)"
         },
         "x": -0.18,
         "y": 0.5
        },
        "showlegend": true,
        "template": {
         "data": {
          "bar": [
           {
            "error_x": {
             "color": "#2a3f5f"
            },
            "error_y": {
             "color": "#2a3f5f"
            },
            "marker": {
             "line": {
              "color": "#E5ECF6",
              "width": 0.5
             },
             "pattern": {
              "fillmode": "overlay",
              "size": 10,
              "solidity": 0.2
             }
            },
            "type": "bar"
           }
          ],
          "barpolar": [
           {
            "marker": {
             "line": {
              "color": "#E5ECF6",
              "width": 0.5
             },
             "pattern": {
              "fillmode": "overlay",
              "size": 10,
              "solidity": 0.2
             }
            },
            "type": "barpolar"
           }
          ],
          "carpet": [
           {
            "aaxis": {
             "endlinecolor": "#2a3f5f",
             "gridcolor": "white",
             "linecolor": "white",
             "minorgridcolor": "white",
             "startlinecolor": "#2a3f5f"
            },
            "baxis": {
             "endlinecolor": "#2a3f5f",
             "gridcolor": "white",
             "linecolor": "white",
             "minorgridcolor": "white",
             "startlinecolor": "#2a3f5f"
            },
            "type": "carpet"
           }
          ],
          "choropleth": [
           {
            "colorbar": {
             "outlinewidth": 0,
             "ticks": ""
            },
            "type": "choropleth"
           }
          ],
          "contour": [
           {
            "colorbar": {
             "outlinewidth": 0,
             "ticks": ""
            },
            "colorscale": [
             [
              0,
              "#0d0887"
             ],
             [
              0.1111111111111111,
              "#46039f"
             ],
             [
              0.2222222222222222,
              "#7201a8"
             ],
             [
              0.3333333333333333,
              "#9c179e"
             ],
             [
              0.4444444444444444,
              "#bd3786"
             ],
             [
              0.5555555555555556,
              "#d8576b"
             ],
             [
              0.6666666666666666,
              "#ed7953"
             ],
             [
              0.7777777777777778,
              "#fb9f3a"
             ],
             [
              0.8888888888888888,
              "#fdca26"
             ],
             [
              1,
              "#f0f921"
             ]
            ],
            "type": "contour"
           }
          ],
          "contourcarpet": [
           {
            "colorbar": {
             "outlinewidth": 0,
             "ticks": ""
            },
            "type": "contourcarpet"
           }
          ],
          "heatmap": [
           {
            "colorbar": {
             "outlinewidth": 0,
             "ticks": ""
            },
            "colorscale": [
             [
              0,
              "#0d0887"
             ],
             [
              0.1111111111111111,
              "#46039f"
             ],
             [
              0.2222222222222222,
              "#7201a8"
             ],
             [
              0.3333333333333333,
              "#9c179e"
             ],
             [
              0.4444444444444444,
              "#bd3786"
             ],
             [
              0.5555555555555556,
              "#d8576b"
             ],
             [
              0.6666666666666666,
              "#ed7953"
             ],
             [
              0.7777777777777778,
              "#fb9f3a"
             ],
             [
              0.8888888888888888,
              "#fdca26"
             ],
             [
              1,
              "#f0f921"
             ]
            ],
            "type": "heatmap"
           }
          ],
          "histogram": [
           {
            "marker": {
             "pattern": {
              "fillmode": "overlay",
              "size": 10,
              "solidity": 0.2
             }
            },
            "type": "histogram"
           }
          ],
          "histogram2d": [
           {
            "colorbar": {
             "outlinewidth": 0,
             "ticks": ""
            },
            "colorscale": [
             [
              0,
              "#0d0887"
             ],
             [
              0.1111111111111111,
              "#46039f"
             ],
             [
              0.2222222222222222,
              "#7201a8"
             ],
             [
              0.3333333333333333,
              "#9c179e"
             ],
             [
              0.4444444444444444,
              "#bd3786"
             ],
             [
              0.5555555555555556,
              "#d8576b"
             ],
             [
              0.6666666666666666,
              "#ed7953"
             ],
             [
              0.7777777777777778,
              "#fb9f3a"
             ],
             [
              0.8888888888888888,
              "#fdca26"
             ],
             [
              1,
              "#f0f921"
             ]
            ],
            "type": "histogram2d"
           }
          ],
          "histogram2dcontour": [
           {
            "colorbar": {
             "outlinewidth": 0,
             "ticks": ""
            },
            "colorscale": [
             [
              0,
              "#0d0887"
             ],
             [
              0.1111111111111111,
              "#46039f"
             ],
             [
              0.2222222222222222,
              "#7201a8"
             ],
             [
              0.3333333333333333,
              "#9c179e"
             ],
             [
              0.4444444444444444,
              "#bd3786"
             ],
             [
              0.5555555555555556,
              "#d8576b"
             ],
             [
              0.6666666666666666,
              "#ed7953"
             ],
             [
              0.7777777777777778,
              "#fb9f3a"
             ],
             [
              0.8888888888888888,
              "#fdca26"
             ],
             [
              1,
              "#f0f921"
             ]
            ],
            "type": "histogram2dcontour"
           }
          ],
          "mesh3d": [
           {
            "colorbar": {
             "outlinewidth": 0,
             "ticks": ""
            },
            "type": "mesh3d"
           }
          ],
          "parcoords": [
           {
            "line": {
             "colorbar": {
              "outlinewidth": 0,
              "ticks": ""
             }
            },
            "type": "parcoords"
           }
          ],
          "pie": [
           {
            "automargin": true,
            "type": "pie"
           }
          ],
          "scatter": [
           {
            "fillpattern": {
             "fillmode": "overlay",
             "size": 10,
             "solidity": 0.2
            },
            "type": "scatter"
           }
          ],
          "scatter3d": [
           {
            "line": {
             "colorbar": {
              "outlinewidth": 0,
              "ticks": ""
             }
            },
            "marker": {
             "colorbar": {
              "outlinewidth": 0,
              "ticks": ""
             }
            },
            "type": "scatter3d"
           }
          ],
          "scattercarpet": [
           {
            "marker": {
             "colorbar": {
              "outlinewidth": 0,
              "ticks": ""
             }
            },
            "type": "scattercarpet"
           }
          ],
          "scattergeo": [
           {
            "marker": {
             "colorbar": {
              "outlinewidth": 0,
              "ticks": ""
             }
            },
            "type": "scattergeo"
           }
          ],
          "scattergl": [
           {
            "marker": {
             "colorbar": {
              "outlinewidth": 0,
              "ticks": ""
             }
            },
            "type": "scattergl"
           }
          ],
          "scattermap": [
           {
            "marker": {
             "colorbar": {
              "outlinewidth": 0,
              "ticks": ""
             }
            },
            "type": "scattermap"
           }
          ],
          "scattermapbox": [
           {
            "marker": {
             "colorbar": {
              "outlinewidth": 0,
              "ticks": ""
             }
            },
            "type": "scattermapbox"
           }
          ],
          "scatterpolar": [
           {
            "marker": {
             "colorbar": {
              "outlinewidth": 0,
              "ticks": ""
             }
            },
            "type": "scatterpolar"
           }
          ],
          "scatterpolargl": [
           {
            "marker": {
             "colorbar": {
              "outlinewidth": 0,
              "ticks": ""
             }
            },
            "type": "scatterpolargl"
           }
          ],
          "scatterternary": [
           {
            "marker": {
             "colorbar": {
              "outlinewidth": 0,
              "ticks": ""
             }
            },
            "type": "scatterternary"
           }
          ],
          "surface": [
           {
            "colorbar": {
             "outlinewidth": 0,
             "ticks": ""
            },
            "colorscale": [
             [
              0,
              "#0d0887"
             ],
             [
              0.1111111111111111,
              "#46039f"
             ],
             [
              0.2222222222222222,
              "#7201a8"
             ],
             [
              0.3333333333333333,
              "#9c179e"
             ],
             [
              0.4444444444444444,
              "#bd3786"
             ],
             [
              0.5555555555555556,
              "#d8576b"
             ],
             [
              0.6666666666666666,
              "#ed7953"
             ],
             [
              0.7777777777777778,
              "#fb9f3a"
             ],
             [
              0.8888888888888888,
              "#fdca26"
             ],
             [
              1,
              "#f0f921"
             ]
            ],
            "type": "surface"
           }
          ],
          "table": [
           {
            "cells": {
             "fill": {
              "color": "#EBF0F8"
             },
             "line": {
              "color": "white"
             }
            },
            "header": {
             "fill": {
              "color": "#C8D4E3"
             },
             "line": {
              "color": "white"
             }
            },
            "type": "table"
           }
          ]
         },
         "layout": {
          "annotationdefaults": {
           "arrowcolor": "#2a3f5f",
           "arrowhead": 0,
           "arrowwidth": 1
          },
          "autotypenumbers": "strict",
          "coloraxis": {
           "colorbar": {
            "outlinewidth": 0,
            "ticks": ""
           }
          },
          "colorscale": {
           "diverging": [
            [
             0,
             "#8e0152"
            ],
            [
             0.1,
             "#c51b7d"
            ],
            [
             0.2,
             "#de77ae"
            ],
            [
             0.3,
             "#f1b6da"
            ],
            [
             0.4,
             "#fde0ef"
            ],
            [
             0.5,
             "#f7f7f7"
            ],
            [
             0.6,
             "#e6f5d0"
            ],
            [
             0.7,
             "#b8e186"
            ],
            [
             0.8,
             "#7fbc41"
            ],
            [
             0.9,
             "#4d9221"
            ],
            [
             1,
             "#276419"
            ]
           ],
           "sequential": [
            [
             0,
             "#0d0887"
            ],
            [
             0.1111111111111111,
             "#46039f"
            ],
            [
             0.2222222222222222,
             "#7201a8"
            ],
            [
             0.3333333333333333,
             "#9c179e"
            ],
            [
             0.4444444444444444,
             "#bd3786"
            ],
            [
             0.5555555555555556,
             "#d8576b"
            ],
            [
             0.6666666666666666,
             "#ed7953"
            ],
            [
             0.7777777777777778,
             "#fb9f3a"
            ],
            [
             0.8888888888888888,
             "#fdca26"
            ],
            [
             1,
             "#f0f921"
            ]
           ],
           "sequentialminus": [
            [
             0,
             "#0d0887"
            ],
            [
             0.1111111111111111,
             "#46039f"
            ],
            [
             0.2222222222222222,
             "#7201a8"
            ],
            [
             0.3333333333333333,
             "#9c179e"
            ],
            [
             0.4444444444444444,
             "#bd3786"
            ],
            [
             0.5555555555555556,
             "#d8576b"
            ],
            [
             0.6666666666666666,
             "#ed7953"
            ],
            [
             0.7777777777777778,
             "#fb9f3a"
            ],
            [
             0.8888888888888888,
             "#fdca26"
            ],
            [
             1,
             "#f0f921"
            ]
           ]
          },
          "colorway": [
           "#636efa",
           "#EF553B",
           "#00cc96",
           "#ab63fa",
           "#FFA15A",
           "#19d3f3",
           "#FF6692",
           "#B6E880",
           "#FF97FF",
           "#FECB52"
          ],
          "font": {
           "color": "#2a3f5f"
          },
          "geo": {
           "bgcolor": "white",
           "lakecolor": "white",
           "landcolor": "#E5ECF6",
           "showlakes": true,
           "showland": true,
           "subunitcolor": "white"
          },
          "hoverlabel": {
           "align": "left"
          },
          "hovermode": "closest",
          "mapbox": {
           "style": "light"
          },
          "paper_bgcolor": "white",
          "plot_bgcolor": "#E5ECF6",
          "polar": {
           "angularaxis": {
            "gridcolor": "white",
            "linecolor": "white",
            "ticks": ""
           },
           "bgcolor": "#E5ECF6",
           "radialaxis": {
            "gridcolor": "white",
            "linecolor": "white",
            "ticks": ""
           }
          },
          "scene": {
           "xaxis": {
            "backgroundcolor": "#E5ECF6",
            "gridcolor": "white",
            "gridwidth": 2,
            "linecolor": "white",
            "showbackground": true,
            "ticks": "",
            "zerolinecolor": "white"
           },
           "yaxis": {
            "backgroundcolor": "#E5ECF6",
            "gridcolor": "white",
            "gridwidth": 2,
            "linecolor": "white",
            "showbackground": true,
            "ticks": "",
            "zerolinecolor": "white"
           },
           "zaxis": {
            "backgroundcolor": "#E5ECF6",
            "gridcolor": "white",
            "gridwidth": 2,
            "linecolor": "white",
            "showbackground": true,
            "ticks": "",
            "zerolinecolor": "white"
           }
          },
          "shapedefaults": {
           "line": {
            "color": "#2a3f5f"
           }
          },
          "ternary": {
           "aaxis": {
            "gridcolor": "white",
            "linecolor": "white",
            "ticks": ""
           },
           "baxis": {
            "gridcolor": "white",
            "linecolor": "white",
            "ticks": ""
           },
           "bgcolor": "#E5ECF6",
           "caxis": {
            "gridcolor": "white",
            "linecolor": "white",
            "ticks": ""
           }
          },
          "title": {
           "x": 0.05
          },
          "xaxis": {
           "automargin": true,
           "gridcolor": "white",
           "linecolor": "white",
           "ticks": "",
           "title": {
            "standoff": 15
           },
           "zerolinecolor": "white",
           "zerolinewidth": 2
          },
          "yaxis": {
           "automargin": true,
           "gridcolor": "white",
           "linecolor": "white",
           "ticks": "",
           "title": {
            "standoff": 15
           },
           "zerolinecolor": "white",
           "zerolinewidth": 2
          }
         }
        },
        "title": {
         "font": {
          "size": 18
         },
         "text": "Food Access Program Deployment Areas<br> Top 10 High-Priority Score Counties Highlighted",
         "x": 0.5,
         "xanchor": "center",
         "y": 0.8,
         "yanchor": "top"
        }
       }
      }
     },
     "metadata": {},
     "output_type": "display_data"
    }
   ],
   "source": [
    "#here we'll actually generate the figure!\n",
    "fig = plt.Figure()\n",
    "#the background will be a state-level heatmap chloropleth\n",
    "fig.add_trace(plt.Choropleth(\n",
    "    locations=state_data[\"State\"], #which geographic places are being colored\n",
    "    z=state_data[\"priority_score_norm\"], #numeric values used to determine color for each state (normalized priority score)\n",
    "    locationmode=\"USA-states\", #how to interpret locations field\n",
    "    colorscale=\"RdBu_r\",   #color scheme to shade the states\n",
    "    colorbar_title=\"Priority Score\", #color bar title\n",
    "    colorbar=dict(\n",
    "        len=0.6,           #scales down the colorbar length (default is 1)\n",
    "        thickness=15,      \n",
    "        x=0.92,             \n",
    "        y=0.5               \n",
    "    ),\n",
    "    showscale=True\n",
    "))\n",
    "\n",
    "#this overlays the top 10 counties we found before with markers and labels\n",
    "for i, row in top10.iterrows():\n",
    "    rank = i + 1\n",
    "    fig.add_trace(plt.Scattergeo(\n",
    "        lon=[row[\"lon\"]],\n",
    "        lat=[row[\"lat\"]],\n",
    "        mode=\"markers+text\",\n",
    "        name=f\"{rank}. {row['County']}, {row['State']} ({row['priority_score']:.1f})\",  \n",
    "        text=f\"#{rank}\",                                 \n",
    "        textposition=\"top center\",\n",
    "        marker=dict(\n",
    "            size=10,\n",
    "            color=\"black\",\n",
    "            symbol=\"circle\",\n",
    "            line=dict(width=1, color=\"white\")\n",
    "        ),\n",
    "        showlegend=True,\n",
    "        legendgroup=f\"group{rank}\",\n",
    "        textfont=dict(size=12, color=\"black\"),\n",
    "        marker_symbol=None,\n",
    "        hoverinfo=\"text\"\n",
    "    ))\n",
    "fig.update_geos(scope=\"usa\") #tells plotly to show the usa\n",
    "fig.update_layout(\n",
    "    title=dict(\n",
    "        text=\"Food Access Program Deployment Areas<br> Top 10 High-Priority Score Counties Highlighted\",\n",
    "        y=0.8,\n",
    "        x=0.5,\n",
    "        xanchor=\"center\",\n",
    "        yanchor=\"top\",\n",
    "        font=dict(size=18)\n",
    "    ),\n",
    "    height=750,\n",
    "    showlegend=True,\n",
    "    legend=dict(\n",
    "        title=\"Top 10 High-Priority Counties<br>(with priority scores)\",\n",
    "        x=-0.18,\n",
    "        y=0.5,\n",
    "        bgcolor=\"rgba(255,255,255,0.6)\",\n",
    "        bordercolor=\"gray\",\n",
    "        borderwidth=0.5,\n",
    "        font=dict(size=11)\n",
    "    )\n",
    ")\n",
    "fig.show() #show the figure\n"
   ]
  },
  {
   "cell_type": "code",
   "execution_count": 9,
   "id": "a85cf972",
   "metadata": {},
   "outputs": [
    {
     "name": "stdout",
     "output_type": "stream",
     "text": [
      "0 rows with missing -1 or NaN Percent65plus values\n",
      "remaining rows: 3,139\n"
     ]
    }
   ],
   "source": [
    "#getting information from the corgis csv file, making sure to only include the columns we need\n",
    "#and clean the names\n",
    "demographic_data = pd.read_csv('county_demographics.csv')\n",
    "demographic_data = demographic_data.rename(columns={\n",
    "    \"County\": \"County\",\n",
    "    \"State\": \"State\",\n",
    "    \"Age.Percent 65 and Older\": \"Percent65plus\"\n",
    "})\n",
    "#removing any extra words that might come after the county name in the csv file\n",
    "def clean_county_name(name):\n",
    "    return (name.replace(\" County\", \"\").replace(\" Parish\", \"\")\n",
    "            .replace(\" City\", \"\").replace(\" Borough\", \"\")\n",
    "            .strip().title())\n",
    "\n",
    "demographic_data[\"County\"] = demographic_data[\"County\"].apply(clean_county_name)\n",
    "demographic_data[\"State\"] = demographic_data[\"State\"].str.strip().str.upper()\n",
    "\n",
    "#making sure that the percent 65 plus has no -1 values (missing values)\n",
    "before_rows = len(demographic_data)\n",
    "demographic_data = demographic_data[demographic_data[\"Percent65plus\"] != -1].dropna(subset=[\"Percent65plus\"])\n",
    "after_rows = len(demographic_data)\n",
    "\n",
    "print(f\"{before_rows - after_rows} rows with missing -1 or NaN Percent65plus values\")\n",
    "print(f\"remaining rows: {after_rows:,}\")"
   ]
  },
  {
   "cell_type": "code",
   "execution_count": 10,
   "id": "8903516d",
   "metadata": {},
   "outputs": [],
   "source": [
    "#for the subgroup part we have the following in the FDA food atlas for subgroups/demographics:\n",
    "#household resources (low income & low access, households with no car & low access, SNAP households & low access)\n",
    "#demographics (children, seniors, hispanic ethnicity, asian, american indian or alaska native, asian, hawaiian or pacific islander, multiracial with low access)\n",
    "#we do have some missing information for 2010 values, so we will have to use the 2015 values for these demographics.\n",
    "\n",
    "#getting top 10 counties data\n",
    "vis2_county = merged[merged[\"FIPS\"].isin(top10[\"FIPS\"])].copy()\n",
    "#cleaning formatting for merging\n",
    "vis2_county[\"County_Clean\"] = vis2_county[\"County_y\"].str.strip().str.title()\n",
    "vis2_county[\"State_Clean\"] = vis2_county[\"State_y\"].str.strip().str.upper()\n",
    "#merging with CORGIS\n",
    "vis2_county = vis2_county.merge(\n",
    "    demographic_data[[\"County\", \"State\", \"Percent65plus\"]],\n",
    "    left_on=[\"County_Clean\", \"State_Clean\"],\n",
    "    right_on=[\"County\", \"State\"],\n",
    "    how=\"left\"\n",
    ")\n",
    "\n",
    "#calculate actual number of 65+ population\n",
    "vis2_county[\"population_65plus\"] = vis2_county[\"total_pop\"] * vis2_county[\"Percent65plus\"] / 100\n",
    "\n",
    "#we get only the top 10 counties (same as the ones plotted in visualization 1)\n",
    "vis2_county = vis2_county[vis2_county[\"FIPS\"].isin(top10[\"FIPS\"])].copy()\n",
    "\n",
    "#get the engaged population with using both COREM and COREW as representative of older adults who are actively using healthcare services\n",
    "vis2_county[\"engagement_rate\"] = (vis2_county[\"COREM_CrudePrev\"] * 0.5) + (0.5 * vis2_county[\"COREW_CrudePrev\"])\n",
    "vis2_county[\"engaged\"] = vis2_county[\"population_65plus\"] * vis2_county[\"engagement_rate\"] / 100\n",
    "\n",
    "#adding rank info to the vis2_county dataframe so we can order the barplot\n",
    "rank_map = dict(zip(top10[\"FIPS\"], range(1, len(top10)+1)))\n",
    "vis2_county[\"Rank\"] = vis2_county[\"FIPS\"].map(rank_map)\n",
    "vis2_county = vis2_county.sort_values(\"Rank\")\n",
    "county_labels = vis2_county[\"Rank\"].astype(str) + \". \" + vis2_county[\"County\"] + \", \" + vis2_county[\"State\"]\n",
    "\n",
    "#calculating subgroup affected numbers -> first we get all the column names\n",
    "subgroup_cols = [\n",
    "    \"LACCESS_LOWI15\", \"LACCESS_HHNV15\", \"LACCESS_SNAP15\",\n",
    "    \"LACCESS_CHILD15\", \"LACCESS_SENIORS15\", \"LACCESS_WHITE15\",\n",
    "    \"LACCESS_BLACK15\", \"LACCESS_HISP15\", \"LACCESS_NHASIAN15\",\n",
    "    \"LACCESS_NHNA15\", \"LACCESS_NHPI15\", \"LACCESS_MULTIR15\"\n",
    "]\n",
    "subgroup_totals = vis2_county[subgroup_cols].sum()\n",
    "#separating subgroups into household and demographic subgroups for visualizations\n",
    "household_dict = {\n",
    "    \"Low Income\": subgroup_totals[\"LACCESS_LOWI15\"],\n",
    "    \"Households w/ No Car\": subgroup_totals[\"LACCESS_HHNV15\"],\n",
    "    \"SNAP Households\": subgroup_totals[\"LACCESS_SNAP15\"]\n",
    "}\n",
    "household_groups = pd.DataFrame(list(household_dict.items()), columns=[\"Subgroup\", \"Count\"])\n",
    "household_groups[\"Percent\"] = household_groups[\"Count\"] / household_groups[\"Count\"].sum() * 100\n",
    "demographic_dict = {\n",
    "    \"Children\": subgroup_totals[\"LACCESS_CHILD15\"],\n",
    "    \"Seniors\": subgroup_totals[\"LACCESS_SENIORS15\"],\n",
    "    \"White\": subgroup_totals[\"LACCESS_WHITE15\"],\n",
    "    \"Black\": subgroup_totals[\"LACCESS_BLACK15\"],\n",
    "    \"Hispanic\": subgroup_totals[\"LACCESS_HISP15\"],\n",
    "    \"Asian\": subgroup_totals[\"LACCESS_NHASIAN15\"],\n",
    "    \"American Indian/Alaska Native\": subgroup_totals[\"LACCESS_NHNA15\"],\n",
    "    \"Hawaiian/Pacific Islander\": subgroup_totals[\"LACCESS_NHPI15\"],\n",
    "    \"Multiracial\": subgroup_totals[\"LACCESS_MULTIR15\"]\n",
    "}\n",
    "demographic_groups = pd.DataFrame(list(demographic_dict.items()), columns=[\"Subgroup\", \"Count\"])\n",
    "demographic_groups = demographic_groups.sort_values(\"Count\", ascending=False)"
   ]
  },
  {
   "cell_type": "code",
   "execution_count": 11,
   "id": "4957f747",
   "metadata": {},
   "outputs": [
    {
     "data": {
      "application/vnd.plotly.v1+json": {
       "config": {
        "plotlyServerURL": "https://plot.ly"
       },
       "data": [
        {
         "marker": {
          "color": "#0277C8"
         },
         "name": "Total 65+ Population",
         "type": "bar",
         "x": [
          "1. Genesee, MI",
          "2. Hamilton, TN",
          "3. Plymouth, MA",
          "4. Dougherty, GA",
          "5. Osage, OK",
          "6. Lake, IN",
          "7. Richmond, GA",
          "8. Brevard, FL",
          "9. Mahoning, OH",
          "10. Jefferson, AL"
         ],
         "y": {
          "bdata": "ZmZmZsb/0UCd76fG60vdQNijcD0qCtFASOF6FE70yEDy0k1iEMCTQL2fGi99l9pAH4XrUVi720AOLbKdryjlQIPAyqHl/ctA7nw/NRpn5UA=",
          "dtype": "f8"
         }
        },
        {
         "marker": {
          "color": "#33AD7A"
         },
         "name": "Healthcare-Engaged 65+",
         "type": "bar",
         "x": [
          "1. Genesee, MI",
          "2. Hamilton, TN",
          "3. Plymouth, MA",
          "4. Dougherty, GA",
          "5. Osage, OK",
          "6. Lake, IN",
          "7. Richmond, GA",
          "8. Brevard, FL",
          "9. Mahoning, OH",
          "10. Jefferson, AL"
         ],
         "y": {
          "bdata": "5Yi1+LS9rkCvrZ/+y7vAQGPfTiLeN7FAdP2C3VAGqkAIzEOmfJV1QLMevkzckrdAgdQmTtQJwUDDlEiiG+fJQDwVcM+7hKhA5FzDDMh+y0A=",
          "dtype": "f8"
         }
        }
       ],
       "layout": {
        "barmode": "group",
        "height": 500,
        "legend": {
         "font": {
          "size": 10
         },
         "orientation": "h",
         "x": 0.02,
         "y": 1
        },
        "template": {
         "data": {
          "bar": [
           {
            "error_x": {
             "color": "#2a3f5f"
            },
            "error_y": {
             "color": "#2a3f5f"
            },
            "marker": {
             "line": {
              "color": "#E5ECF6",
              "width": 0.5
             },
             "pattern": {
              "fillmode": "overlay",
              "size": 10,
              "solidity": 0.2
             }
            },
            "type": "bar"
           }
          ],
          "barpolar": [
           {
            "marker": {
             "line": {
              "color": "#E5ECF6",
              "width": 0.5
             },
             "pattern": {
              "fillmode": "overlay",
              "size": 10,
              "solidity": 0.2
             }
            },
            "type": "barpolar"
           }
          ],
          "carpet": [
           {
            "aaxis": {
             "endlinecolor": "#2a3f5f",
             "gridcolor": "white",
             "linecolor": "white",
             "minorgridcolor": "white",
             "startlinecolor": "#2a3f5f"
            },
            "baxis": {
             "endlinecolor": "#2a3f5f",
             "gridcolor": "white",
             "linecolor": "white",
             "minorgridcolor": "white",
             "startlinecolor": "#2a3f5f"
            },
            "type": "carpet"
           }
          ],
          "choropleth": [
           {
            "colorbar": {
             "outlinewidth": 0,
             "ticks": ""
            },
            "type": "choropleth"
           }
          ],
          "contour": [
           {
            "colorbar": {
             "outlinewidth": 0,
             "ticks": ""
            },
            "colorscale": [
             [
              0,
              "#0d0887"
             ],
             [
              0.1111111111111111,
              "#46039f"
             ],
             [
              0.2222222222222222,
              "#7201a8"
             ],
             [
              0.3333333333333333,
              "#9c179e"
             ],
             [
              0.4444444444444444,
              "#bd3786"
             ],
             [
              0.5555555555555556,
              "#d8576b"
             ],
             [
              0.6666666666666666,
              "#ed7953"
             ],
             [
              0.7777777777777778,
              "#fb9f3a"
             ],
             [
              0.8888888888888888,
              "#fdca26"
             ],
             [
              1,
              "#f0f921"
             ]
            ],
            "type": "contour"
           }
          ],
          "contourcarpet": [
           {
            "colorbar": {
             "outlinewidth": 0,
             "ticks": ""
            },
            "type": "contourcarpet"
           }
          ],
          "heatmap": [
           {
            "colorbar": {
             "outlinewidth": 0,
             "ticks": ""
            },
            "colorscale": [
             [
              0,
              "#0d0887"
             ],
             [
              0.1111111111111111,
              "#46039f"
             ],
             [
              0.2222222222222222,
              "#7201a8"
             ],
             [
              0.3333333333333333,
              "#9c179e"
             ],
             [
              0.4444444444444444,
              "#bd3786"
             ],
             [
              0.5555555555555556,
              "#d8576b"
             ],
             [
              0.6666666666666666,
              "#ed7953"
             ],
             [
              0.7777777777777778,
              "#fb9f3a"
             ],
             [
              0.8888888888888888,
              "#fdca26"
             ],
             [
              1,
              "#f0f921"
             ]
            ],
            "type": "heatmap"
           }
          ],
          "histogram": [
           {
            "marker": {
             "pattern": {
              "fillmode": "overlay",
              "size": 10,
              "solidity": 0.2
             }
            },
            "type": "histogram"
           }
          ],
          "histogram2d": [
           {
            "colorbar": {
             "outlinewidth": 0,
             "ticks": ""
            },
            "colorscale": [
             [
              0,
              "#0d0887"
             ],
             [
              0.1111111111111111,
              "#46039f"
             ],
             [
              0.2222222222222222,
              "#7201a8"
             ],
             [
              0.3333333333333333,
              "#9c179e"
             ],
             [
              0.4444444444444444,
              "#bd3786"
             ],
             [
              0.5555555555555556,
              "#d8576b"
             ],
             [
              0.6666666666666666,
              "#ed7953"
             ],
             [
              0.7777777777777778,
              "#fb9f3a"
             ],
             [
              0.8888888888888888,
              "#fdca26"
             ],
             [
              1,
              "#f0f921"
             ]
            ],
            "type": "histogram2d"
           }
          ],
          "histogram2dcontour": [
           {
            "colorbar": {
             "outlinewidth": 0,
             "ticks": ""
            },
            "colorscale": [
             [
              0,
              "#0d0887"
             ],
             [
              0.1111111111111111,
              "#46039f"
             ],
             [
              0.2222222222222222,
              "#7201a8"
             ],
             [
              0.3333333333333333,
              "#9c179e"
             ],
             [
              0.4444444444444444,
              "#bd3786"
             ],
             [
              0.5555555555555556,
              "#d8576b"
             ],
             [
              0.6666666666666666,
              "#ed7953"
             ],
             [
              0.7777777777777778,
              "#fb9f3a"
             ],
             [
              0.8888888888888888,
              "#fdca26"
             ],
             [
              1,
              "#f0f921"
             ]
            ],
            "type": "histogram2dcontour"
           }
          ],
          "mesh3d": [
           {
            "colorbar": {
             "outlinewidth": 0,
             "ticks": ""
            },
            "type": "mesh3d"
           }
          ],
          "parcoords": [
           {
            "line": {
             "colorbar": {
              "outlinewidth": 0,
              "ticks": ""
             }
            },
            "type": "parcoords"
           }
          ],
          "pie": [
           {
            "automargin": true,
            "type": "pie"
           }
          ],
          "scatter": [
           {
            "fillpattern": {
             "fillmode": "overlay",
             "size": 10,
             "solidity": 0.2
            },
            "type": "scatter"
           }
          ],
          "scatter3d": [
           {
            "line": {
             "colorbar": {
              "outlinewidth": 0,
              "ticks": ""
             }
            },
            "marker": {
             "colorbar": {
              "outlinewidth": 0,
              "ticks": ""
             }
            },
            "type": "scatter3d"
           }
          ],
          "scattercarpet": [
           {
            "marker": {
             "colorbar": {
              "outlinewidth": 0,
              "ticks": ""
             }
            },
            "type": "scattercarpet"
           }
          ],
          "scattergeo": [
           {
            "marker": {
             "colorbar": {
              "outlinewidth": 0,
              "ticks": ""
             }
            },
            "type": "scattergeo"
           }
          ],
          "scattergl": [
           {
            "marker": {
             "colorbar": {
              "outlinewidth": 0,
              "ticks": ""
             }
            },
            "type": "scattergl"
           }
          ],
          "scattermap": [
           {
            "marker": {
             "colorbar": {
              "outlinewidth": 0,
              "ticks": ""
             }
            },
            "type": "scattermap"
           }
          ],
          "scattermapbox": [
           {
            "marker": {
             "colorbar": {
              "outlinewidth": 0,
              "ticks": ""
             }
            },
            "type": "scattermapbox"
           }
          ],
          "scatterpolar": [
           {
            "marker": {
             "colorbar": {
              "outlinewidth": 0,
              "ticks": ""
             }
            },
            "type": "scatterpolar"
           }
          ],
          "scatterpolargl": [
           {
            "marker": {
             "colorbar": {
              "outlinewidth": 0,
              "ticks": ""
             }
            },
            "type": "scatterpolargl"
           }
          ],
          "scatterternary": [
           {
            "marker": {
             "colorbar": {
              "outlinewidth": 0,
              "ticks": ""
             }
            },
            "type": "scatterternary"
           }
          ],
          "surface": [
           {
            "colorbar": {
             "outlinewidth": 0,
             "ticks": ""
            },
            "colorscale": [
             [
              0,
              "#0d0887"
             ],
             [
              0.1111111111111111,
              "#46039f"
             ],
             [
              0.2222222222222222,
              "#7201a8"
             ],
             [
              0.3333333333333333,
              "#9c179e"
             ],
             [
              0.4444444444444444,
              "#bd3786"
             ],
             [
              0.5555555555555556,
              "#d8576b"
             ],
             [
              0.6666666666666666,
              "#ed7953"
             ],
             [
              0.7777777777777778,
              "#fb9f3a"
             ],
             [
              0.8888888888888888,
              "#fdca26"
             ],
             [
              1,
              "#f0f921"
             ]
            ],
            "type": "surface"
           }
          ],
          "table": [
           {
            "cells": {
             "fill": {
              "color": "#EBF0F8"
             },
             "line": {
              "color": "white"
             }
            },
            "header": {
             "fill": {
              "color": "#C8D4E3"
             },
             "line": {
              "color": "white"
             }
            },
            "type": "table"
           }
          ]
         },
         "layout": {
          "annotationdefaults": {
           "arrowcolor": "#2a3f5f",
           "arrowhead": 0,
           "arrowwidth": 1
          },
          "autotypenumbers": "strict",
          "coloraxis": {
           "colorbar": {
            "outlinewidth": 0,
            "ticks": ""
           }
          },
          "colorscale": {
           "diverging": [
            [
             0,
             "#8e0152"
            ],
            [
             0.1,
             "#c51b7d"
            ],
            [
             0.2,
             "#de77ae"
            ],
            [
             0.3,
             "#f1b6da"
            ],
            [
             0.4,
             "#fde0ef"
            ],
            [
             0.5,
             "#f7f7f7"
            ],
            [
             0.6,
             "#e6f5d0"
            ],
            [
             0.7,
             "#b8e186"
            ],
            [
             0.8,
             "#7fbc41"
            ],
            [
             0.9,
             "#4d9221"
            ],
            [
             1,
             "#276419"
            ]
           ],
           "sequential": [
            [
             0,
             "#0d0887"
            ],
            [
             0.1111111111111111,
             "#46039f"
            ],
            [
             0.2222222222222222,
             "#7201a8"
            ],
            [
             0.3333333333333333,
             "#9c179e"
            ],
            [
             0.4444444444444444,
             "#bd3786"
            ],
            [
             0.5555555555555556,
             "#d8576b"
            ],
            [
             0.6666666666666666,
             "#ed7953"
            ],
            [
             0.7777777777777778,
             "#fb9f3a"
            ],
            [
             0.8888888888888888,
             "#fdca26"
            ],
            [
             1,
             "#f0f921"
            ]
           ],
           "sequentialminus": [
            [
             0,
             "#0d0887"
            ],
            [
             0.1111111111111111,
             "#46039f"
            ],
            [
             0.2222222222222222,
             "#7201a8"
            ],
            [
             0.3333333333333333,
             "#9c179e"
            ],
            [
             0.4444444444444444,
             "#bd3786"
            ],
            [
             0.5555555555555556,
             "#d8576b"
            ],
            [
             0.6666666666666666,
             "#ed7953"
            ],
            [
             0.7777777777777778,
             "#fb9f3a"
            ],
            [
             0.8888888888888888,
             "#fdca26"
            ],
            [
             1,
             "#f0f921"
            ]
           ]
          },
          "colorway": [
           "#636efa",
           "#EF553B",
           "#00cc96",
           "#ab63fa",
           "#FFA15A",
           "#19d3f3",
           "#FF6692",
           "#B6E880",
           "#FF97FF",
           "#FECB52"
          ],
          "font": {
           "color": "#2a3f5f"
          },
          "geo": {
           "bgcolor": "white",
           "lakecolor": "white",
           "landcolor": "#E5ECF6",
           "showlakes": true,
           "showland": true,
           "subunitcolor": "white"
          },
          "hoverlabel": {
           "align": "left"
          },
          "hovermode": "closest",
          "mapbox": {
           "style": "light"
          },
          "paper_bgcolor": "white",
          "plot_bgcolor": "#E5ECF6",
          "polar": {
           "angularaxis": {
            "gridcolor": "white",
            "linecolor": "white",
            "ticks": ""
           },
           "bgcolor": "#E5ECF6",
           "radialaxis": {
            "gridcolor": "white",
            "linecolor": "white",
            "ticks": ""
           }
          },
          "scene": {
           "xaxis": {
            "backgroundcolor": "#E5ECF6",
            "gridcolor": "white",
            "gridwidth": 2,
            "linecolor": "white",
            "showbackground": true,
            "ticks": "",
            "zerolinecolor": "white"
           },
           "yaxis": {
            "backgroundcolor": "#E5ECF6",
            "gridcolor": "white",
            "gridwidth": 2,
            "linecolor": "white",
            "showbackground": true,
            "ticks": "",
            "zerolinecolor": "white"
           },
           "zaxis": {
            "backgroundcolor": "#E5ECF6",
            "gridcolor": "white",
            "gridwidth": 2,
            "linecolor": "white",
            "showbackground": true,
            "ticks": "",
            "zerolinecolor": "white"
           }
          },
          "shapedefaults": {
           "line": {
            "color": "#2a3f5f"
           }
          },
          "ternary": {
           "aaxis": {
            "gridcolor": "white",
            "linecolor": "white",
            "ticks": ""
           },
           "baxis": {
            "gridcolor": "white",
            "linecolor": "white",
            "ticks": ""
           },
           "bgcolor": "#E5ECF6",
           "caxis": {
            "gridcolor": "white",
            "linecolor": "white",
            "ticks": ""
           }
          },
          "title": {
           "x": 0.05
          },
          "xaxis": {
           "automargin": true,
           "gridcolor": "white",
           "linecolor": "white",
           "ticks": "",
           "title": {
            "standoff": 15
           },
           "zerolinecolor": "white",
           "zerolinewidth": 2
          },
          "yaxis": {
           "automargin": true,
           "gridcolor": "white",
           "linecolor": "white",
           "ticks": "",
           "title": {
            "standoff": 15
           },
           "zerolinecolor": "white",
           "zerolinewidth": 2
          }
         }
        },
        "title": {
         "font": {
          "size": 18
         },
         "text": "Total vs Engaged Population (Top 10 High-Priority Counties, 65+ years old)",
         "x": 0.5,
         "xanchor": "center",
         "y": 0.86,
         "yanchor": "top"
        },
        "width": 900,
        "xaxis": {
         "tickangle": -45,
         "title": {
          "text": "County, State"
         }
        },
        "yaxis": {
         "title": {
          "text": "Population (People)"
         }
        }
       }
      }
     },
     "metadata": {},
     "output_type": "display_data"
    }
   ],
   "source": [
    "#visualization 1 -> bar chart for total vs engaged population (65+ y/o)\n",
    "fig1 = plt.Figure()\n",
    "fig1.add_trace(\n",
    "    plt.Bar(\n",
    "        x=county_labels,\n",
    "        y=vis2_county[\"population_65plus\"],\n",
    "        marker_color=\"#0277C8\",\n",
    "        name=\"Total 65+ Population\"\n",
    "    )\n",
    ")\n",
    "fig1.add_trace(\n",
    "    plt.Bar(\n",
    "        x=county_labels,\n",
    "        y=vis2_county[\"engaged\"],\n",
    "        marker_color=\"#33AD7A\",\n",
    "        name=\"Healthcare-Engaged 65+\"\n",
    "    )\n",
    ")\n",
    "fig1.update_layout(\n",
    "    barmode=\"group\",\n",
    "    height=500,\n",
    "    width=900,\n",
    "    title=dict(\n",
    "        text=\"Total vs Engaged Population (Top 10 High-Priority Counties, 65+ years old)\",\n",
    "        y=0.86,\n",
    "        x=0.5,\n",
    "        xanchor=\"center\",\n",
    "        yanchor=\"top\",\n",
    "        font=dict(size=18)\n",
    "    ),\n",
    "    legend=dict(\n",
    "        orientation=\"h\",\n",
    "        x=0.02,\n",
    "        y=1,\n",
    "        font=dict(size=10)\n",
    "    ),\n",
    "    xaxis_tickangle=-45,\n",
    "    xaxis_title=\"County, State\",\n",
    "    yaxis_title=\"Population (People)\"\n",
    ")\n",
    "fig1.show()\n"
   ]
  },
  {
   "cell_type": "code",
   "execution_count": 12,
   "id": "5eb7d055",
   "metadata": {},
   "outputs": [
    {
     "name": "stdout",
     "output_type": "stream",
     "text": [
      "total 65+ population in top 10 counties: 237,045\n",
      "total 65+ engaged population in top 10 counties: 65,823\n"
     ]
    }
   ],
   "source": [
    "print(f\"total 65+ population in top 10 counties: {int(vis2_county[\"population_65plus\"].sum()):,}\")\n",
    "print(f\"total 65+ engaged population in top 10 counties: {int(vis2_county[\"engaged\"].sum()):,}\")"
   ]
  },
  {
   "cell_type": "code",
   "execution_count": 13,
   "id": "208045ad",
   "metadata": {},
   "outputs": [
    {
     "data": {
      "application/vnd.plotly.v1+json": {
       "config": {
        "plotlyServerURL": "https://plot.ly"
       },
       "data": [
        {
         "hovertemplate": "Subgroup=%{y}<br>Percent=%{x}<extra></extra>",
         "legendgroup": "Households w/ No Car",
         "marker": {
          "color": "#0277C8",
          "pattern": {
           "shape": ""
          }
         },
         "name": "Households w/ No Car",
         "orientation": "h",
         "showlegend": true,
         "textposition": "auto",
         "type": "bar",
         "x": {
          "bdata": "cYi/KJH9HEA=",
          "dtype": "f8"
         },
         "xaxis": "x",
         "y": [
          "Households w/ No Car"
         ],
         "yaxis": "y"
        },
        {
         "hovertemplate": "Subgroup=%{y}<br>Percent=%{x}<extra></extra>",
         "legendgroup": "SNAP Households",
         "marker": {
          "color": "#33AD7A",
          "pattern": {
           "shape": ""
          }
         },
         "name": "SNAP Households",
         "orientation": "h",
         "showlegend": true,
         "textposition": "auto",
         "type": "bar",
         "x": {
          "bdata": "HA/G7yFtK0A=",
          "dtype": "f8"
         },
         "xaxis": "x",
         "y": [
          "SNAP Households"
         ],
         "yaxis": "y"
        },
        {
         "hovertemplate": "Subgroup=%{y}<br>Percent=%{x}<extra></extra>",
         "legendgroup": "Low Income",
         "marker": {
          "color": "#304C64",
          "pattern": {
           "shape": ""
          }
         },
         "name": "Low Income",
         "orientation": "h",
         "showlegend": true,
         "textposition": "auto",
         "type": "bar",
         "x": {
          "bdata": "lUV7r4LCU0A=",
          "dtype": "f8"
         },
         "xaxis": "x",
         "y": [
          "Low Income"
         ],
         "yaxis": "y"
        }
       ],
       "layout": {
        "barmode": "relative",
        "font": {
         "size": 12
        },
        "height": 400,
        "legend": {
         "title": {
          "text": "Subgroup"
         },
         "tracegroupgap": 0
        },
        "showlegend": false,
        "template": {
         "data": {
          "bar": [
           {
            "error_x": {
             "color": "#2a3f5f"
            },
            "error_y": {
             "color": "#2a3f5f"
            },
            "marker": {
             "line": {
              "color": "#E5ECF6",
              "width": 0.5
             },
             "pattern": {
              "fillmode": "overlay",
              "size": 10,
              "solidity": 0.2
             }
            },
            "type": "bar"
           }
          ],
          "barpolar": [
           {
            "marker": {
             "line": {
              "color": "#E5ECF6",
              "width": 0.5
             },
             "pattern": {
              "fillmode": "overlay",
              "size": 10,
              "solidity": 0.2
             }
            },
            "type": "barpolar"
           }
          ],
          "carpet": [
           {
            "aaxis": {
             "endlinecolor": "#2a3f5f",
             "gridcolor": "white",
             "linecolor": "white",
             "minorgridcolor": "white",
             "startlinecolor": "#2a3f5f"
            },
            "baxis": {
             "endlinecolor": "#2a3f5f",
             "gridcolor": "white",
             "linecolor": "white",
             "minorgridcolor": "white",
             "startlinecolor": "#2a3f5f"
            },
            "type": "carpet"
           }
          ],
          "choropleth": [
           {
            "colorbar": {
             "outlinewidth": 0,
             "ticks": ""
            },
            "type": "choropleth"
           }
          ],
          "contour": [
           {
            "colorbar": {
             "outlinewidth": 0,
             "ticks": ""
            },
            "colorscale": [
             [
              0,
              "#0d0887"
             ],
             [
              0.1111111111111111,
              "#46039f"
             ],
             [
              0.2222222222222222,
              "#7201a8"
             ],
             [
              0.3333333333333333,
              "#9c179e"
             ],
             [
              0.4444444444444444,
              "#bd3786"
             ],
             [
              0.5555555555555556,
              "#d8576b"
             ],
             [
              0.6666666666666666,
              "#ed7953"
             ],
             [
              0.7777777777777778,
              "#fb9f3a"
             ],
             [
              0.8888888888888888,
              "#fdca26"
             ],
             [
              1,
              "#f0f921"
             ]
            ],
            "type": "contour"
           }
          ],
          "contourcarpet": [
           {
            "colorbar": {
             "outlinewidth": 0,
             "ticks": ""
            },
            "type": "contourcarpet"
           }
          ],
          "heatmap": [
           {
            "colorbar": {
             "outlinewidth": 0,
             "ticks": ""
            },
            "colorscale": [
             [
              0,
              "#0d0887"
             ],
             [
              0.1111111111111111,
              "#46039f"
             ],
             [
              0.2222222222222222,
              "#7201a8"
             ],
             [
              0.3333333333333333,
              "#9c179e"
             ],
             [
              0.4444444444444444,
              "#bd3786"
             ],
             [
              0.5555555555555556,
              "#d8576b"
             ],
             [
              0.6666666666666666,
              "#ed7953"
             ],
             [
              0.7777777777777778,
              "#fb9f3a"
             ],
             [
              0.8888888888888888,
              "#fdca26"
             ],
             [
              1,
              "#f0f921"
             ]
            ],
            "type": "heatmap"
           }
          ],
          "histogram": [
           {
            "marker": {
             "pattern": {
              "fillmode": "overlay",
              "size": 10,
              "solidity": 0.2
             }
            },
            "type": "histogram"
           }
          ],
          "histogram2d": [
           {
            "colorbar": {
             "outlinewidth": 0,
             "ticks": ""
            },
            "colorscale": [
             [
              0,
              "#0d0887"
             ],
             [
              0.1111111111111111,
              "#46039f"
             ],
             [
              0.2222222222222222,
              "#7201a8"
             ],
             [
              0.3333333333333333,
              "#9c179e"
             ],
             [
              0.4444444444444444,
              "#bd3786"
             ],
             [
              0.5555555555555556,
              "#d8576b"
             ],
             [
              0.6666666666666666,
              "#ed7953"
             ],
             [
              0.7777777777777778,
              "#fb9f3a"
             ],
             [
              0.8888888888888888,
              "#fdca26"
             ],
             [
              1,
              "#f0f921"
             ]
            ],
            "type": "histogram2d"
           }
          ],
          "histogram2dcontour": [
           {
            "colorbar": {
             "outlinewidth": 0,
             "ticks": ""
            },
            "colorscale": [
             [
              0,
              "#0d0887"
             ],
             [
              0.1111111111111111,
              "#46039f"
             ],
             [
              0.2222222222222222,
              "#7201a8"
             ],
             [
              0.3333333333333333,
              "#9c179e"
             ],
             [
              0.4444444444444444,
              "#bd3786"
             ],
             [
              0.5555555555555556,
              "#d8576b"
             ],
             [
              0.6666666666666666,
              "#ed7953"
             ],
             [
              0.7777777777777778,
              "#fb9f3a"
             ],
             [
              0.8888888888888888,
              "#fdca26"
             ],
             [
              1,
              "#f0f921"
             ]
            ],
            "type": "histogram2dcontour"
           }
          ],
          "mesh3d": [
           {
            "colorbar": {
             "outlinewidth": 0,
             "ticks": ""
            },
            "type": "mesh3d"
           }
          ],
          "parcoords": [
           {
            "line": {
             "colorbar": {
              "outlinewidth": 0,
              "ticks": ""
             }
            },
            "type": "parcoords"
           }
          ],
          "pie": [
           {
            "automargin": true,
            "type": "pie"
           }
          ],
          "scatter": [
           {
            "fillpattern": {
             "fillmode": "overlay",
             "size": 10,
             "solidity": 0.2
            },
            "type": "scatter"
           }
          ],
          "scatter3d": [
           {
            "line": {
             "colorbar": {
              "outlinewidth": 0,
              "ticks": ""
             }
            },
            "marker": {
             "colorbar": {
              "outlinewidth": 0,
              "ticks": ""
             }
            },
            "type": "scatter3d"
           }
          ],
          "scattercarpet": [
           {
            "marker": {
             "colorbar": {
              "outlinewidth": 0,
              "ticks": ""
             }
            },
            "type": "scattercarpet"
           }
          ],
          "scattergeo": [
           {
            "marker": {
             "colorbar": {
              "outlinewidth": 0,
              "ticks": ""
             }
            },
            "type": "scattergeo"
           }
          ],
          "scattergl": [
           {
            "marker": {
             "colorbar": {
              "outlinewidth": 0,
              "ticks": ""
             }
            },
            "type": "scattergl"
           }
          ],
          "scattermap": [
           {
            "marker": {
             "colorbar": {
              "outlinewidth": 0,
              "ticks": ""
             }
            },
            "type": "scattermap"
           }
          ],
          "scattermapbox": [
           {
            "marker": {
             "colorbar": {
              "outlinewidth": 0,
              "ticks": ""
             }
            },
            "type": "scattermapbox"
           }
          ],
          "scatterpolar": [
           {
            "marker": {
             "colorbar": {
              "outlinewidth": 0,
              "ticks": ""
             }
            },
            "type": "scatterpolar"
           }
          ],
          "scatterpolargl": [
           {
            "marker": {
             "colorbar": {
              "outlinewidth": 0,
              "ticks": ""
             }
            },
            "type": "scatterpolargl"
           }
          ],
          "scatterternary": [
           {
            "marker": {
             "colorbar": {
              "outlinewidth": 0,
              "ticks": ""
             }
            },
            "type": "scatterternary"
           }
          ],
          "surface": [
           {
            "colorbar": {
             "outlinewidth": 0,
             "ticks": ""
            },
            "colorscale": [
             [
              0,
              "#0d0887"
             ],
             [
              0.1111111111111111,
              "#46039f"
             ],
             [
              0.2222222222222222,
              "#7201a8"
             ],
             [
              0.3333333333333333,
              "#9c179e"
             ],
             [
              0.4444444444444444,
              "#bd3786"
             ],
             [
              0.5555555555555556,
              "#d8576b"
             ],
             [
              0.6666666666666666,
              "#ed7953"
             ],
             [
              0.7777777777777778,
              "#fb9f3a"
             ],
             [
              0.8888888888888888,
              "#fdca26"
             ],
             [
              1,
              "#f0f921"
             ]
            ],
            "type": "surface"
           }
          ],
          "table": [
           {
            "cells": {
             "fill": {
              "color": "#EBF0F8"
             },
             "line": {
              "color": "white"
             }
            },
            "header": {
             "fill": {
              "color": "#C8D4E3"
             },
             "line": {
              "color": "white"
             }
            },
            "type": "table"
           }
          ]
         },
         "layout": {
          "annotationdefaults": {
           "arrowcolor": "#2a3f5f",
           "arrowhead": 0,
           "arrowwidth": 1
          },
          "autotypenumbers": "strict",
          "coloraxis": {
           "colorbar": {
            "outlinewidth": 0,
            "ticks": ""
           }
          },
          "colorscale": {
           "diverging": [
            [
             0,
             "#8e0152"
            ],
            [
             0.1,
             "#c51b7d"
            ],
            [
             0.2,
             "#de77ae"
            ],
            [
             0.3,
             "#f1b6da"
            ],
            [
             0.4,
             "#fde0ef"
            ],
            [
             0.5,
             "#f7f7f7"
            ],
            [
             0.6,
             "#e6f5d0"
            ],
            [
             0.7,
             "#b8e186"
            ],
            [
             0.8,
             "#7fbc41"
            ],
            [
             0.9,
             "#4d9221"
            ],
            [
             1,
             "#276419"
            ]
           ],
           "sequential": [
            [
             0,
             "#0d0887"
            ],
            [
             0.1111111111111111,
             "#46039f"
            ],
            [
             0.2222222222222222,
             "#7201a8"
            ],
            [
             0.3333333333333333,
             "#9c179e"
            ],
            [
             0.4444444444444444,
             "#bd3786"
            ],
            [
             0.5555555555555556,
             "#d8576b"
            ],
            [
             0.6666666666666666,
             "#ed7953"
            ],
            [
             0.7777777777777778,
             "#fb9f3a"
            ],
            [
             0.8888888888888888,
             "#fdca26"
            ],
            [
             1,
             "#f0f921"
            ]
           ],
           "sequentialminus": [
            [
             0,
             "#0d0887"
            ],
            [
             0.1111111111111111,
             "#46039f"
            ],
            [
             0.2222222222222222,
             "#7201a8"
            ],
            [
             0.3333333333333333,
             "#9c179e"
            ],
            [
             0.4444444444444444,
             "#bd3786"
            ],
            [
             0.5555555555555556,
             "#d8576b"
            ],
            [
             0.6666666666666666,
             "#ed7953"
            ],
            [
             0.7777777777777778,
             "#fb9f3a"
            ],
            [
             0.8888888888888888,
             "#fdca26"
            ],
            [
             1,
             "#f0f921"
            ]
           ]
          },
          "colorway": [
           "#636efa",
           "#EF553B",
           "#00cc96",
           "#ab63fa",
           "#FFA15A",
           "#19d3f3",
           "#FF6692",
           "#B6E880",
           "#FF97FF",
           "#FECB52"
          ],
          "font": {
           "color": "#2a3f5f"
          },
          "geo": {
           "bgcolor": "white",
           "lakecolor": "white",
           "landcolor": "#E5ECF6",
           "showlakes": true,
           "showland": true,
           "subunitcolor": "white"
          },
          "hoverlabel": {
           "align": "left"
          },
          "hovermode": "closest",
          "mapbox": {
           "style": "light"
          },
          "paper_bgcolor": "white",
          "plot_bgcolor": "#E5ECF6",
          "polar": {
           "angularaxis": {
            "gridcolor": "white",
            "linecolor": "white",
            "ticks": ""
           },
           "bgcolor": "#E5ECF6",
           "radialaxis": {
            "gridcolor": "white",
            "linecolor": "white",
            "ticks": ""
           }
          },
          "scene": {
           "xaxis": {
            "backgroundcolor": "#E5ECF6",
            "gridcolor": "white",
            "gridwidth": 2,
            "linecolor": "white",
            "showbackground": true,
            "ticks": "",
            "zerolinecolor": "white"
           },
           "yaxis": {
            "backgroundcolor": "#E5ECF6",
            "gridcolor": "white",
            "gridwidth": 2,
            "linecolor": "white",
            "showbackground": true,
            "ticks": "",
            "zerolinecolor": "white"
           },
           "zaxis": {
            "backgroundcolor": "#E5ECF6",
            "gridcolor": "white",
            "gridwidth": 2,
            "linecolor": "white",
            "showbackground": true,
            "ticks": "",
            "zerolinecolor": "white"
           }
          },
          "shapedefaults": {
           "line": {
            "color": "#2a3f5f"
           }
          },
          "ternary": {
           "aaxis": {
            "gridcolor": "white",
            "linecolor": "white",
            "ticks": ""
           },
           "baxis": {
            "gridcolor": "white",
            "linecolor": "white",
            "ticks": ""
           },
           "bgcolor": "#E5ECF6",
           "caxis": {
            "gridcolor": "white",
            "linecolor": "white",
            "ticks": ""
           }
          },
          "title": {
           "x": 0.05
          },
          "xaxis": {
           "automargin": true,
           "gridcolor": "white",
           "linecolor": "white",
           "ticks": "",
           "title": {
            "standoff": 15
           },
           "zerolinecolor": "white",
           "zerolinewidth": 2
          },
          "yaxis": {
           "automargin": true,
           "gridcolor": "white",
           "linecolor": "white",
           "ticks": "",
           "title": {
            "standoff": 15
           },
           "zerolinecolor": "white",
           "zerolinewidth": 2
          }
         }
        },
        "title": {
         "text": "Household-Based Subgroups Affected by Low Food Access<br> in Top 10 High-Priority Counties"
        },
        "width": 700,
        "xaxis": {
         "anchor": "y",
         "domain": [
          0,
          1
         ],
         "ticksuffix": "%",
         "title": {
          "text": "Percent of Total Household-Based Subgroups Population"
         }
        },
        "yaxis": {
         "anchor": "x",
         "categoryarray": [
          "Low Income",
          "SNAP Households",
          "Households w/ No Car"
         ],
         "categoryorder": "array",
         "domain": [
          0,
          1
         ],
         "title": {
          "text": ""
         }
        }
       }
      }
     },
     "metadata": {},
     "output_type": "display_data"
    },
    {
     "data": {
      "application/vnd.plotly.v1+json": {
       "config": {
        "plotlyServerURL": "https://plot.ly"
       },
       "data": [
        {
         "domain": {
          "x": [
           0,
           1
          ],
          "y": [
           0,
           1
          ]
         },
         "hole": 0.45,
         "hovertemplate": "Subgroup=%{label}<br>Count=%{value}<extra></extra>",
         "insidetextorientation": "horizontal",
         "labels": [
          "White",
          "Black",
          "Children",
          "Seniors",
          "Hispanic",
          "Other"
         ],
         "legendgroup": "",
         "name": "",
         "showlegend": true,
         "textinfo": "label+percent",
         "type": "pie",
         "values": {
          "bdata": "gawaACgqKkGQre5gs0sTQRyC7RM2CxJBIwZAcm3aBUHJv+T8wI3tQACqLOr/fvBA",
          "dtype": "f8"
         }
        }
       ],
       "layout": {
        "font": {
         "size": 12
        },
        "height": 450,
        "legend": {
         "tracegroupgap": 0
        },
        "piecolorway": [
         "rgb(5,48,97)",
         "rgb(33,102,172)",
         "rgb(67,147,195)",
         "rgb(146,197,222)",
         "rgb(209,229,240)",
         "rgb(247,247,247)",
         "rgb(253,219,199)",
         "rgb(244,165,130)",
         "rgb(214,96,77)",
         "rgb(178,24,43)",
         "rgb(103,0,31)"
        ],
        "showlegend": false,
        "template": {
         "data": {
          "bar": [
           {
            "error_x": {
             "color": "#2a3f5f"
            },
            "error_y": {
             "color": "#2a3f5f"
            },
            "marker": {
             "line": {
              "color": "#E5ECF6",
              "width": 0.5
             },
             "pattern": {
              "fillmode": "overlay",
              "size": 10,
              "solidity": 0.2
             }
            },
            "type": "bar"
           }
          ],
          "barpolar": [
           {
            "marker": {
             "line": {
              "color": "#E5ECF6",
              "width": 0.5
             },
             "pattern": {
              "fillmode": "overlay",
              "size": 10,
              "solidity": 0.2
             }
            },
            "type": "barpolar"
           }
          ],
          "carpet": [
           {
            "aaxis": {
             "endlinecolor": "#2a3f5f",
             "gridcolor": "white",
             "linecolor": "white",
             "minorgridcolor": "white",
             "startlinecolor": "#2a3f5f"
            },
            "baxis": {
             "endlinecolor": "#2a3f5f",
             "gridcolor": "white",
             "linecolor": "white",
             "minorgridcolor": "white",
             "startlinecolor": "#2a3f5f"
            },
            "type": "carpet"
           }
          ],
          "choropleth": [
           {
            "colorbar": {
             "outlinewidth": 0,
             "ticks": ""
            },
            "type": "choropleth"
           }
          ],
          "contour": [
           {
            "colorbar": {
             "outlinewidth": 0,
             "ticks": ""
            },
            "colorscale": [
             [
              0,
              "#0d0887"
             ],
             [
              0.1111111111111111,
              "#46039f"
             ],
             [
              0.2222222222222222,
              "#7201a8"
             ],
             [
              0.3333333333333333,
              "#9c179e"
             ],
             [
              0.4444444444444444,
              "#bd3786"
             ],
             [
              0.5555555555555556,
              "#d8576b"
             ],
             [
              0.6666666666666666,
              "#ed7953"
             ],
             [
              0.7777777777777778,
              "#fb9f3a"
             ],
             [
              0.8888888888888888,
              "#fdca26"
             ],
             [
              1,
              "#f0f921"
             ]
            ],
            "type": "contour"
           }
          ],
          "contourcarpet": [
           {
            "colorbar": {
             "outlinewidth": 0,
             "ticks": ""
            },
            "type": "contourcarpet"
           }
          ],
          "heatmap": [
           {
            "colorbar": {
             "outlinewidth": 0,
             "ticks": ""
            },
            "colorscale": [
             [
              0,
              "#0d0887"
             ],
             [
              0.1111111111111111,
              "#46039f"
             ],
             [
              0.2222222222222222,
              "#7201a8"
             ],
             [
              0.3333333333333333,
              "#9c179e"
             ],
             [
              0.4444444444444444,
              "#bd3786"
             ],
             [
              0.5555555555555556,
              "#d8576b"
             ],
             [
              0.6666666666666666,
              "#ed7953"
             ],
             [
              0.7777777777777778,
              "#fb9f3a"
             ],
             [
              0.8888888888888888,
              "#fdca26"
             ],
             [
              1,
              "#f0f921"
             ]
            ],
            "type": "heatmap"
           }
          ],
          "histogram": [
           {
            "marker": {
             "pattern": {
              "fillmode": "overlay",
              "size": 10,
              "solidity": 0.2
             }
            },
            "type": "histogram"
           }
          ],
          "histogram2d": [
           {
            "colorbar": {
             "outlinewidth": 0,
             "ticks": ""
            },
            "colorscale": [
             [
              0,
              "#0d0887"
             ],
             [
              0.1111111111111111,
              "#46039f"
             ],
             [
              0.2222222222222222,
              "#7201a8"
             ],
             [
              0.3333333333333333,
              "#9c179e"
             ],
             [
              0.4444444444444444,
              "#bd3786"
             ],
             [
              0.5555555555555556,
              "#d8576b"
             ],
             [
              0.6666666666666666,
              "#ed7953"
             ],
             [
              0.7777777777777778,
              "#fb9f3a"
             ],
             [
              0.8888888888888888,
              "#fdca26"
             ],
             [
              1,
              "#f0f921"
             ]
            ],
            "type": "histogram2d"
           }
          ],
          "histogram2dcontour": [
           {
            "colorbar": {
             "outlinewidth": 0,
             "ticks": ""
            },
            "colorscale": [
             [
              0,
              "#0d0887"
             ],
             [
              0.1111111111111111,
              "#46039f"
             ],
             [
              0.2222222222222222,
              "#7201a8"
             ],
             [
              0.3333333333333333,
              "#9c179e"
             ],
             [
              0.4444444444444444,
              "#bd3786"
             ],
             [
              0.5555555555555556,
              "#d8576b"
             ],
             [
              0.6666666666666666,
              "#ed7953"
             ],
             [
              0.7777777777777778,
              "#fb9f3a"
             ],
             [
              0.8888888888888888,
              "#fdca26"
             ],
             [
              1,
              "#f0f921"
             ]
            ],
            "type": "histogram2dcontour"
           }
          ],
          "mesh3d": [
           {
            "colorbar": {
             "outlinewidth": 0,
             "ticks": ""
            },
            "type": "mesh3d"
           }
          ],
          "parcoords": [
           {
            "line": {
             "colorbar": {
              "outlinewidth": 0,
              "ticks": ""
             }
            },
            "type": "parcoords"
           }
          ],
          "pie": [
           {
            "automargin": true,
            "type": "pie"
           }
          ],
          "scatter": [
           {
            "fillpattern": {
             "fillmode": "overlay",
             "size": 10,
             "solidity": 0.2
            },
            "type": "scatter"
           }
          ],
          "scatter3d": [
           {
            "line": {
             "colorbar": {
              "outlinewidth": 0,
              "ticks": ""
             }
            },
            "marker": {
             "colorbar": {
              "outlinewidth": 0,
              "ticks": ""
             }
            },
            "type": "scatter3d"
           }
          ],
          "scattercarpet": [
           {
            "marker": {
             "colorbar": {
              "outlinewidth": 0,
              "ticks": ""
             }
            },
            "type": "scattercarpet"
           }
          ],
          "scattergeo": [
           {
            "marker": {
             "colorbar": {
              "outlinewidth": 0,
              "ticks": ""
             }
            },
            "type": "scattergeo"
           }
          ],
          "scattergl": [
           {
            "marker": {
             "colorbar": {
              "outlinewidth": 0,
              "ticks": ""
             }
            },
            "type": "scattergl"
           }
          ],
          "scattermap": [
           {
            "marker": {
             "colorbar": {
              "outlinewidth": 0,
              "ticks": ""
             }
            },
            "type": "scattermap"
           }
          ],
          "scattermapbox": [
           {
            "marker": {
             "colorbar": {
              "outlinewidth": 0,
              "ticks": ""
             }
            },
            "type": "scattermapbox"
           }
          ],
          "scatterpolar": [
           {
            "marker": {
             "colorbar": {
              "outlinewidth": 0,
              "ticks": ""
             }
            },
            "type": "scatterpolar"
           }
          ],
          "scatterpolargl": [
           {
            "marker": {
             "colorbar": {
              "outlinewidth": 0,
              "ticks": ""
             }
            },
            "type": "scatterpolargl"
           }
          ],
          "scatterternary": [
           {
            "marker": {
             "colorbar": {
              "outlinewidth": 0,
              "ticks": ""
             }
            },
            "type": "scatterternary"
           }
          ],
          "surface": [
           {
            "colorbar": {
             "outlinewidth": 0,
             "ticks": ""
            },
            "colorscale": [
             [
              0,
              "#0d0887"
             ],
             [
              0.1111111111111111,
              "#46039f"
             ],
             [
              0.2222222222222222,
              "#7201a8"
             ],
             [
              0.3333333333333333,
              "#9c179e"
             ],
             [
              0.4444444444444444,
              "#bd3786"
             ],
             [
              0.5555555555555556,
              "#d8576b"
             ],
             [
              0.6666666666666666,
              "#ed7953"
             ],
             [
              0.7777777777777778,
              "#fb9f3a"
             ],
             [
              0.8888888888888888,
              "#fdca26"
             ],
             [
              1,
              "#f0f921"
             ]
            ],
            "type": "surface"
           }
          ],
          "table": [
           {
            "cells": {
             "fill": {
              "color": "#EBF0F8"
             },
             "line": {
              "color": "white"
             }
            },
            "header": {
             "fill": {
              "color": "#C8D4E3"
             },
             "line": {
              "color": "white"
             }
            },
            "type": "table"
           }
          ]
         },
         "layout": {
          "annotationdefaults": {
           "arrowcolor": "#2a3f5f",
           "arrowhead": 0,
           "arrowwidth": 1
          },
          "autotypenumbers": "strict",
          "coloraxis": {
           "colorbar": {
            "outlinewidth": 0,
            "ticks": ""
           }
          },
          "colorscale": {
           "diverging": [
            [
             0,
             "#8e0152"
            ],
            [
             0.1,
             "#c51b7d"
            ],
            [
             0.2,
             "#de77ae"
            ],
            [
             0.3,
             "#f1b6da"
            ],
            [
             0.4,
             "#fde0ef"
            ],
            [
             0.5,
             "#f7f7f7"
            ],
            [
             0.6,
             "#e6f5d0"
            ],
            [
             0.7,
             "#b8e186"
            ],
            [
             0.8,
             "#7fbc41"
            ],
            [
             0.9,
             "#4d9221"
            ],
            [
             1,
             "#276419"
            ]
           ],
           "sequential": [
            [
             0,
             "#0d0887"
            ],
            [
             0.1111111111111111,
             "#46039f"
            ],
            [
             0.2222222222222222,
             "#7201a8"
            ],
            [
             0.3333333333333333,
             "#9c179e"
            ],
            [
             0.4444444444444444,
             "#bd3786"
            ],
            [
             0.5555555555555556,
             "#d8576b"
            ],
            [
             0.6666666666666666,
             "#ed7953"
            ],
            [
             0.7777777777777778,
             "#fb9f3a"
            ],
            [
             0.8888888888888888,
             "#fdca26"
            ],
            [
             1,
             "#f0f921"
            ]
           ],
           "sequentialminus": [
            [
             0,
             "#0d0887"
            ],
            [
             0.1111111111111111,
             "#46039f"
            ],
            [
             0.2222222222222222,
             "#7201a8"
            ],
            [
             0.3333333333333333,
             "#9c179e"
            ],
            [
             0.4444444444444444,
             "#bd3786"
            ],
            [
             0.5555555555555556,
             "#d8576b"
            ],
            [
             0.6666666666666666,
             "#ed7953"
            ],
            [
             0.7777777777777778,
             "#fb9f3a"
            ],
            [
             0.8888888888888888,
             "#fdca26"
            ],
            [
             1,
             "#f0f921"
            ]
           ]
          },
          "colorway": [
           "#636efa",
           "#EF553B",
           "#00cc96",
           "#ab63fa",
           "#FFA15A",
           "#19d3f3",
           "#FF6692",
           "#B6E880",
           "#FF97FF",
           "#FECB52"
          ],
          "font": {
           "color": "#2a3f5f"
          },
          "geo": {
           "bgcolor": "white",
           "lakecolor": "white",
           "landcolor": "#E5ECF6",
           "showlakes": true,
           "showland": true,
           "subunitcolor": "white"
          },
          "hoverlabel": {
           "align": "left"
          },
          "hovermode": "closest",
          "mapbox": {
           "style": "light"
          },
          "paper_bgcolor": "white",
          "plot_bgcolor": "#E5ECF6",
          "polar": {
           "angularaxis": {
            "gridcolor": "white",
            "linecolor": "white",
            "ticks": ""
           },
           "bgcolor": "#E5ECF6",
           "radialaxis": {
            "gridcolor": "white",
            "linecolor": "white",
            "ticks": ""
           }
          },
          "scene": {
           "xaxis": {
            "backgroundcolor": "#E5ECF6",
            "gridcolor": "white",
            "gridwidth": 2,
            "linecolor": "white",
            "showbackground": true,
            "ticks": "",
            "zerolinecolor": "white"
           },
           "yaxis": {
            "backgroundcolor": "#E5ECF6",
            "gridcolor": "white",
            "gridwidth": 2,
            "linecolor": "white",
            "showbackground": true,
            "ticks": "",
            "zerolinecolor": "white"
           },
           "zaxis": {
            "backgroundcolor": "#E5ECF6",
            "gridcolor": "white",
            "gridwidth": 2,
            "linecolor": "white",
            "showbackground": true,
            "ticks": "",
            "zerolinecolor": "white"
           }
          },
          "shapedefaults": {
           "line": {
            "color": "#2a3f5f"
           }
          },
          "ternary": {
           "aaxis": {
            "gridcolor": "white",
            "linecolor": "white",
            "ticks": ""
           },
           "baxis": {
            "gridcolor": "white",
            "linecolor": "white",
            "ticks": ""
           },
           "bgcolor": "#E5ECF6",
           "caxis": {
            "gridcolor": "white",
            "linecolor": "white",
            "ticks": ""
           }
          },
          "title": {
           "x": 0.05
          },
          "xaxis": {
           "automargin": true,
           "gridcolor": "white",
           "linecolor": "white",
           "ticks": "",
           "title": {
            "standoff": 15
           },
           "zerolinecolor": "white",
           "zerolinewidth": 2
          },
          "yaxis": {
           "automargin": true,
           "gridcolor": "white",
           "linecolor": "white",
           "ticks": "",
           "title": {
            "standoff": 15
           },
           "zerolinecolor": "white",
           "zerolinewidth": 2
          }
         }
        },
        "title": {
         "text": "Demographic-Based Subgroups Affected by Low Food Access <br>in Top 10 High-Priority Counties (Top 5 Categories + Other)",
         "y": 0.9
        },
        "width": 700
       }
      }
     },
     "metadata": {},
     "output_type": "display_data"
    }
   ],
   "source": [
    "#visualization 2: subgroup analysis for the top 10 counties, where we group the subgroups into household demographics\n",
    "#and other demographics\n",
    "\n",
    "#horizontal bar chart for household-based graph\n",
    "fig_household = px.bar(\n",
    "    household_groups.sort_values(\"Percent\", ascending=True),\n",
    "    x=\"Percent\",\n",
    "    y=\"Subgroup\",\n",
    "    orientation=\"h\",\n",
    "    color=\"Subgroup\",\n",
    "    color_discrete_sequence=[\"#0277C8\", \"#33AD7A\", \"#304C64\"],\n",
    "    title=\"Household-Based Subgroups Affected by Low Food Access<br> in Top 10 High-Priority Counties\"\n",
    ")\n",
    "fig_household.update_layout(\n",
    "    height=400,\n",
    "    width=700,\n",
    "    xaxis_title=\"Percent of Total Household-Based Subgroups Population\",\n",
    "    yaxis_title=\"\",\n",
    "    legend_title=\"Subgroup\",\n",
    "    showlegend=False,\n",
    "    xaxis=dict(ticksuffix=\"%\"),\n",
    "    font=dict(size=12)\n",
    ")\n",
    "fig_household.show()\n",
    "\n",
    "#get the top 5 demographic subgroups and then group the non-top 5 into \"other\" for easier\n",
    "#readability of the 2nd graph\n",
    "top5 = demographic_groups.head(5).copy()\n",
    "other_sum = demographic_groups.iloc[5:][\"Count\"].sum()\n",
    "top5.loc[len(top5)] = [\"Other\", other_sum]\n",
    "top5[\"Percent\"] = top5[\"Count\"] / top5[\"Count\"].sum() * 100\n",
    "\n",
    "#donut chart for demographic-based (top 5 + other)\n",
    "fig_demo = px.pie(\n",
    "    top5,\n",
    "    names=\"Subgroup\",\n",
    "    values=\"Count\",\n",
    "    hole=0.45,\n",
    "    color_discrete_sequence=px.colors.diverging.RdBu_r,\n",
    "    title=\"Demographic-Based Subgroups Affected by Low Food Access <br>in Top 10 High-Priority Counties (Top 5 Categories + Other)\"\n",
    ")\n",
    "fig_demo.update_traces(\n",
    "    textinfo=\"label+percent\",\n",
    "    insidetextorientation=\"horizontal\"\n",
    ")\n",
    "fig_demo.update_layout(\n",
    "    height=450,\n",
    "    width=700,\n",
    "    showlegend=False,\n",
    "    title_y=0.9,\n",
    "    font=dict(size=12)\n",
    ")\n",
    "fig_demo.show()\n"
   ]
  },
  {
   "cell_type": "markdown",
   "id": "0ff9236c",
   "metadata": {},
   "source": [
    "## Visualization 4 & Putting it all together: The Impact\n",
    "This section aims to supplement the guiding question **\"what is the projected impact of this program?\"**\n",
    "\n",
    "Given all of the information we collected above, we can form a pretty good picture of what the impact of such a food access program deployed by this National Medicare Advantage plan might be.\n",
    "\n",
    "First, from the first section, we know which top 10 counties which have the highest priority score (due to having the highest rates of low-access to grocery stores AND highest rates of the 5 diseases most affected by low food access). \n",
    "\n",
    "From these top 10 counties, we also know generally a total number of adults that are Medicare-eligible (adults aged 65+). Therefore, we have a general idea of the projected impact of this program. We only need the number of adults that are Medicare-eligible from the top 10 counties because, even if they are not engaged, we still want to consider them in the potential impact as they qualify to be on Medicare and access its benefits at anytime."
   ]
  },
  {
   "cell_type": "markdown",
   "id": "92e6d14a",
   "metadata": {},
   "source": [
    "What we can do first is estimate potential health improvement given the average mean chronic disease prevalence within the top 10 counties for the 5 diseases that are most affected by low food access. Since we know the total number of adults that are Medicare-eligible and therefore likely to benefit from this program, we can find out the total number of those afflicted by these diseases within those groups."
   ]
  },
  {
   "cell_type": "code",
   "execution_count": 14,
   "id": "9f423101",
   "metadata": {},
   "outputs": [
    {
     "name": "stdout",
     "output_type": "stream",
     "text": [
      "average disease prevalance across top 10 priority counties: 21.1%\n",
      "individuals with targeted chronic diseases: 49,977\n"
     ]
    }
   ],
   "source": [
    "avg_disease_prev = vis2_county[disease_cols].mean().mean()\n",
    "print(f\"average disease prevalance across top 10 priority counties: {avg_disease_prev:.1f}%\")\n",
    "total_65plus = vis2_county[\"population_65plus\"].sum()\n",
    "total_with_chronic_disease = total_65plus * (avg_disease_prev / 100)\n",
    "print(f\"individuals with targeted chronic diseases: {total_with_chronic_disease:,.0f}\")"
   ]
  },
  {
   "cell_type": "markdown",
   "id": "477ef31b",
   "metadata": {},
   "source": [
    "Now, what we can do is translate the reduction to cost impact for the Medicare Advantage plan. \n",
    "\n",
    "The 5 chronic diseases that are most affected by low food access are:\n",
    "- high blood pressure (hypertension)\n",
    "- COPD\n",
    "- asthma\n",
    "- diabetes\n",
    "- arthritis\n",
    "\n",
    "The following studies & articles I found covered the healthcare costs of these 5 chronic diseases (per person, per year):\n",
    "- Wang, Yu et al. “Health Care Expenditures and Use Associated with Hypertension Among U.S. Adults.” American journal of preventive medicine vol. 67,6 (2024): 820-831. doi:10.1016/j.amepre.2024.07.005. -> $2,759\n",
    "- Mannino, David M., et al. “National and Local Direct Medical Cost Burden of COPD in the United States From 2016 to 2019 and Projections Through 2029.” CHEST, vol. 165, no. 5, May 2024, pp. 1093–106. ScienceDirect, https://doi.org/10.1016/j.chest.2023.11.040. -> $16,085\n",
    "- “Cost of Asthma on Society.” Asthma & Allergy Foundation of America, https://aafa.org/advocacy/key-issues/access-to-health-care/cost-of-asthma-on-society/. -> $3,728\n",
    "- Olga A. Khavjou, Minglu Sun, Sophia R. D’Angelo, Simon J. Neuwahl, Thomas J. Hoerger, Pyone Cho, Kristopher Myers, Ping Zhang; Economic Costs Attributed to Diagnosed Diabetes in Each U.S. State and the District of Columbia: 2021. Diabetes Care 20 June 2025; 48 (7): 1164–1171. https://doi.org/10.2337/dc24-0832 -> $8,474 (Medicare cost specifically)\n",
    "- Lo, Jessica, et al. “A Systematic Review of the Incidence, Prevalence, Costs, and Activity/Work Limitations of Amputation, Osteoarthritis, Rheumatoid Arthritis, Back Pain, Multiple Sclerosis, Spinal Cord Injury, Stroke, and Traumatic Brain Injury in the United States: A 2019 Update.” Archives of Physical Medicine and Rehabilitation, vol. 102, no. 1, Jan. 2021, pp. 115–31. PubMed Central, https://doi.org/10.1016/j.apmr.2020.04.001. -> $9,554\n",
    "\n",
    "So, given these numbers, we can find an average of these per person, per year costs for these chronic diseases."
   ]
  },
  {
   "cell_type": "code",
   "execution_count": 15,
   "id": "200eeece",
   "metadata": {},
   "outputs": [
    {
     "name": "stdout",
     "output_type": "stream",
     "text": [
      "average disease cost $8,120\n"
     ]
    }
   ],
   "source": [
    "disease_costs = {\n",
    "    \"Hypertension\": 2759,\n",
    "    \"COPD\": 16085,\n",
    "    \"Asthma\": 3728,\n",
    "    \"Diabetes\": 8474,\n",
    "    \"Arthritis\": 9554\n",
    "}\n",
    "avg_disease_cost = np.mean(list(disease_costs.values()))\n",
    "print(f\"average disease cost ${int(avg_disease_cost):,}\")"
   ]
  },
  {
   "cell_type": "markdown",
   "id": "eadabc22",
   "metadata": {},
   "source": [
    "Now, given all of the above information, we can estimate what the average cost savings for the Medicare Advantage plan would be depending on varying percentages of those that were engaged and therefore impacted (through saving costs in healthcare yearly) through the following line graph."
   ]
  },
  {
   "cell_type": "code",
   "execution_count": 16,
   "id": "55547082",
   "metadata": {},
   "outputs": [
    {
     "data": {
      "image/png": "[encoded data removed]",
      "text/plain": [
       "<Figure size 800x500 with 1 Axes>"
      ]
     },
     "metadata": {},
     "output_type": "display_data"
    }
   ],
   "source": [
    "percentage_impacted = np.linspace(0.01, 1.00, 100) #going from 1% to 100%\n",
    "#calculating savings as total with chronic disease from 65+ population in top 10 * avg disease cost * percent impacted\n",
    "savings = total_with_chronic_disease * avg_disease_cost * percentage_impacted\n",
    "plot.figure(figsize=(8,5))\n",
    "plot.plot(percentage_impacted*100, savings/1e6, color=\"#2ca02c\", linewidth=2.5)\n",
    "#to mark for readability/interpretability\n",
    "key_points = [5, 15, 25, 50, 75, 100]\n",
    "for x in key_points:\n",
    "    y = total_with_chronic_disease * avg_disease_cost * (x/100) / 1e6\n",
    "    plot.scatter(x, y, color=\"#2ca02c\", s=40)\n",
    "    plot.text(\n",
    "        x + 1, y,\n",
    "        f\"{x:.0f}%, ${y:.1f}M\",\n",
    "        fontsize=10, va='center', color='white',\n",
    "        bbox=dict(facecolor=\"#2ca02c\", edgecolor=\"none\", boxstyle=\"round,pad=0.2\")\n",
    "    )\n",
    "plot.title(\"Projected Annual Cost Savings vs. % of Impacted Seniors\\n\"\n",
    "    \"(Top 10 High-Priority Counties, Chronic Disease Population)\", fontsize=14, weight='bold')\n",
    "plot.xlabel(\"Percent of Top 10 High-Priority County, Chronic Disease Seniors Impacted (%)\", fontsize=12)\n",
    "plot.ylabel(\"Estimated Annual Cost Savings (Million USD)\", fontsize=12)\n",
    "plot.grid(True, linestyle='--', alpha=0.6)\n",
    "plot.tight_layout()\n",
    "plot.show()"
   ]
  }
 ],
 "metadata": {
  "kernelspec": {
   "display_name": "Python 3",
   "language": "python",
   "name": "python3"
  },
  "language_info": {
   "codemirror_mode": {
    "name": "ipython",
    "version": 3
   },
   "file_extension": ".py",
   "mimetype": "text/x-python",
   "name": "python",
   "nbconvert_exporter": "python",
   "pygments_lexer": "ipython3",
   "version": "3.12.6"
  }
 },
 "nbformat": 4,
 "nbformat_minor": 5
}
