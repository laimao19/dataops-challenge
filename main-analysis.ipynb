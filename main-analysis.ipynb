{
 "cells": [
  {
   "cell_type": "markdown",
   "id": "795d8ec9",
   "metadata": {},
   "source": [
    "# Data Ops Challenge Main Analysis File\n",
    "In this file, I'll be using a Jupyter notebook to produce the core visualizations that will supplement the presentation and be used for answering the provided guiding questions."
   ]
  },
  {
   "cell_type": "markdown",
   "id": "673b9b64",
   "metadata": {},
   "source": [
    "## Loading, Adjusting, and Merging the Data"
   ]
  },
  {
   "cell_type": "code",
   "execution_count": 60,
   "id": "7a61e62a",
   "metadata": {},
   "outputs": [],
   "source": [
    "#imports\n",
    "import sqlite3\n",
    "import pandas as pd\n",
    "import plotly.graph_objects as plt\n",
    "import plotly.express as px\n",
    "from plotly.subplots import make_subplots"
   ]
  },
  {
   "cell_type": "code",
   "execution_count": 61,
   "id": "fb28d3ea",
   "metadata": {},
   "outputs": [],
   "source": [
    "#first, i'm going to initially connect to the database\n",
    "conn = sqlite3.connect(\"challenge.db\")\n",
    "\n",
    "#now i'll load in each table as a dataframe\n",
    "cities_df = pd.read_sql(\"SELECT * FROM five_hundred_cities;\", conn)\n",
    "access_df = pd.read_sql(\"SELECT * FROM access;\", conn)\n",
    "variablelist_df = pd.read_sql(\"SELECT * FROM variable_list\", conn)"
   ]
  },
  {
   "cell_type": "code",
   "execution_count": 62,
   "id": "14ee6e7c",
   "metadata": {},
   "outputs": [
    {
     "name": "stdout",
     "output_type": "stream",
     "text": [
      "0    1073000100\n",
      "1    1073000300\n",
      "2    1073000400\n",
      "3    1073000500\n",
      "4    1073000700\n",
      "Name: TractFIPS, dtype: int64\n",
      "0    01073\n",
      "1    01073\n",
      "2    01073\n",
      "3    01073\n",
      "4    01073\n",
      "Name: TractFIPS, dtype: object\n",
      "0    1001\n",
      "1    1003\n",
      "2    1005\n",
      "3    1007\n",
      "4    1009\n",
      "5    1011\n",
      "6    1013\n",
      "7    1015\n",
      "8    1017\n",
      "9    1019\n",
      "Name: FIPS, dtype: int64\n",
      "0    01001\n",
      "1    01003\n",
      "2    01005\n",
      "3    01007\n",
      "4    01009\n",
      "5    01011\n",
      "6    01013\n",
      "7    01015\n",
      "8    01017\n",
      "9    01019\n",
      "Name: FIPS, dtype: object\n"
     ]
    }
   ],
   "source": [
    "#now, when reading through the tables, i saw that the FIPS value for the access table was NOT the standard 5 digits for some\n",
    "#of the codes. after looking up the FIPS codes, i found out that any FIPS code that originally had a \"0\" at the beginning\n",
    "#was now missing a 0 at the beginning. if it had a non-zero value at the beginning, it still had that value. so i'll be\n",
    "#adding in a zero at the beginning of each FIPS code that was supposed to have a 0 in the access table\n",
    "#this was actually the case in the 500 cities dataset as well, with the PlaceFIPS and TractFIPS codes so i fixed that too.\n",
    "#i've included a print before and after to show that this was the case.\n",
    "\n",
    "print(cities_df[\"TractFIPS\"].head())\n",
    "cities_df[\"TractFIPS\"] = cities_df[\"TractFIPS\"].astype(str).str.zfill(11).str[:5]\n",
    "print(cities_df[\"TractFIPS\"].head())\n",
    "\n",
    "print(access_df[\"FIPS\"].head(10))\n",
    "access_df[\"FIPS\"] = access_df[\"FIPS\"].astype(str).str.zfill(5)\n",
    "print(access_df[\"FIPS\"].head(10))"
   ]
  },
  {
   "cell_type": "code",
   "execution_count": 63,
   "id": "9d0e8e2a",
   "metadata": {},
   "outputs": [
    {
     "name": "stdout",
     "output_type": "stream",
     "text": [
      "['index_x', 'StateAbbr', 'PlaceName', 'PlaceFIPS', 'TractFIPS', 'Place_TractID', 'Population2010', 'ACCESS2_CrudePrev', 'ACCESS2_Crude95CI', 'ARTHRITIS_CrudePrev', 'ARTHRITIS_Crude95CI', 'BINGE_CrudePrev', 'BINGE_Crude95CI', 'BPHIGH_CrudePrev', 'BPHIGH_Crude95CI', 'BPMED_CrudePrev', 'BPMED_Crude95CI', 'CANCER_CrudePrev', 'CANCER_Crude95CI', 'CASTHMA_CrudePrev', 'CASTHMA_Crude95CI', 'CHD_CrudePrev', 'CHD_Crude95CI', 'CHECKUP_CrudePrev', 'CHECKUP_Crude95CI', 'CHOLSCREEN_CrudePrev', 'CHOLSCREEN_Crude95CI', 'COLON_SCREEN_CrudePrev', 'COLON_SCREEN_Crude95CI', 'COPD_CrudePrev', 'COPD_Crude95CI', 'COREM_CrudePrev', 'COREM_Crude95CI', 'COREW_CrudePrev', 'COREW_Crude95CI', 'CSMOKING_CrudePrev', 'CSMOKING_Crude95CI', 'DENTAL_CrudePrev', 'DENTAL_Crude95CI', 'DIABETES_CrudePrev', 'DIABETES_Crude95CI', 'HIGHCHOL_CrudePrev', 'HIGHCHOL_Crude95CI', 'KIDNEY_CrudePrev', 'KIDNEY_Crude95CI', 'LPA_CrudePrev', 'LPA_Crude95CI', 'MAMMOUSE_CrudePrev', 'MAMMOUSE_Crude95CI', 'MHLTH_CrudePrev', 'MHLTH_Crude95CI', 'OBESITY_CrudePrev', 'OBESITY_Crude95CI', 'PAPTEST_CrudePrev', 'PAPTEST_Crude95CI', 'PHLTH_CrudePrev', 'PHLTH_Crude95CI', 'SLEEP_CrudePrev', 'SLEEP_Crude95CI', 'STROKE_CrudePrev', 'STROKE_Crude95CI', 'TEETHLOST_CrudePrev', 'TEETHLOST_Crude95CI', 'Geolocation', 'lat', 'lon', 'index_y', 'FIPS', 'State', 'County', 'LACCESS_POP10', 'LACCESS_POP15', 'PCH_LACCESS_POP_10_15', 'PCT_LACCESS_POP10', 'PCT_LACCESS_POP15', 'LACCESS_LOWI10', 'LACCESS_LOWI15', 'PCH_LACCESS_LOWI_10_15', 'PCT_LACCESS_LOWI10', 'PCT_LACCESS_LOWI15', 'LACCESS_HHNV10', 'LACCESS_HHNV15', 'PCH_LACCESS_HHNV_10_15', 'PCT_LACCESS_HHNV10', 'PCT_LACCESS_HHNV15', 'LACCESS_SNAP15', 'PCT_LACCESS_SNAP15', 'LACCESS_CHILD10', 'LACCESS_CHILD15', 'LACCESS_CHILD_10_15', 'PCT_LACCESS_CHILD10', 'PCT_LACCESS_CHILD15', 'LACCESS_SENIORS10', 'LACCESS_SENIORS15', 'PCH_LACCESS_SENIORS_10_15', 'PCT_LACCESS_SENIORS10', 'PCT_LACCESS_SENIORS15', 'LACCESS_WHITE15', 'PCT_LACCESS_WHITE15', 'LACCESS_BLACK15', 'PCT_LACCESS_BLACK15', 'LACCESS_HISP15', 'PCT_LACCESS_HISP15', 'LACCESS_NHASIAN15', 'PCT_LACCESS_NHASIAN15', 'LACCESS_NHNA15', 'PCT_LACCESS_NHNA15', 'LACCESS_NHPI15', 'PCT_LACCESS_NHPI15', 'LACCESS_MULTIR15', 'PCT_LACCESS_MULTIR15']\n"
     ]
    }
   ],
   "source": [
    "#now, to make analysis easier since we want to consider both factors from the FDA food atlas and from the\n",
    "#CDC 500 cities dataset, we're gonna merge the two tables. as i specified in the README.md, i noted that the\n",
    "#first 5 digits of the tract FIPS code for the 500 cities dataset (not the city FIPS code for the 500 cities dataset)\n",
    "#and the first 5 digits of the FIPS code for the FDA food atlas match \n",
    "#we also will extract lat/lon from geolocation \"(lat, lon)\" strings for visualization purposes later (specifically visualization 1)\n",
    "cities_df[[\"lat\",\"lon\"]] = cities_df[\"Geolocation\"].str.strip(\"()\").str.split(\",\", expand=True)\n",
    "cities_df[\"lat\"] = cities_df[\"lat\"].astype(float)\n",
    "cities_df[\"lon\"] = cities_df[\"lon\"].astype(float)\n",
    "merged = cities_df.merge(\n",
    "    access_df,\n",
    "    left_on=\"TractFIPS\",   #county FIPS from cities in tract FIPS\n",
    "    right_on=\"FIPS\",       #padded county FIPS from the access table\n",
    "    how=\"inner\"            #only keep matches\n",
    ")\n",
    "print(merged.columns.tolist()) #making sure all the columns merged"
   ]
  },
  {
   "cell_type": "markdown",
   "id": "d1864a68",
   "metadata": {},
   "source": [
    "## Visualization 1 (the where)\n",
    "This visualization aims to help supplement the guiding question **\"where should we deploy a food access program?\"**\n",
    "\n",
    "We can find this out by first considering that the only table we have available for analysis from the FDA Food Access dataset is the \"ACCESS\" sub-table, which contains information about access and proximity to grocery stores with the following subcategories within that category:\n",
    "- overall (population with low-access)\n",
    "- household resources (low income & low access, households with no car & low access, SNAP households & low access)\n",
    "- demographics (children, seniors, hispanic ethnicity, asian, american indian or alaska native, asian, hawaiian or pacific islander, multiracial with low access)\n",
    "\n",
    "We should also consider that for the 500 cities dataset, though some of the columns regarding different health conditions and their prevalences only consider elderly populations (>= 65 years old or 50-74 years old) or only adult men or only adult women, generally it doesn't account for factors such as household resources or demographics but rather just for a general age range (18-64), it looks at \"what is the crude prevalence of this health condition?\"\n",
    "\n",
    "Since we want to consider data from both datasets when we are considering where to deploy a food access program, we'll only consider the overall access to grocery stores (general population with low-access) from the FDA Food Access dataset so as to match the generality of the 500 cities dataset.\n",
    "\n",
    "Though we have past data that we can use and a percent change we can consider with access to food in specific areas (change from 2010-2015), I will only be using the percentage of population impacted by low access to food in specific areas from the most recent data (2015) so that we can target where need is highest now. For an example on why we want to target this to answer the question of where we should deploy a food access program now, we can consider that if we have a town with a large change of overall low access to grocery stores of 3% to 6% from 2010 to 2015 and another town with no change of overall low access to grocery stores of 25% to 25% from 2010 to 2015, we would want to target the latter town for food access programs since, although they have didn't change, they are experiencing more food access challenges with more of their population now.\n",
    "\n",
    "In a 2024 study by Gregory and Jones on health challenges related to household food security (https://www.ers.usda.gov/data-products/charts-of-note/chart-detail?chartId=108211), it was found that 5 chronic diseases increased their prevalence as household food security worsened. These diseases were **hypertension, arthritis, diabetes, asthma, and COPD**. The age range included was ages 19-64 working adults, with compared household food security ranging from high, marginal, low, and very low. I'll be using these 5 diseases as the target ones to look for in the 500 cities dataset related to low food access in the FDA food atlas dataset when trying to find locations to deploy a food access program."
   ]
  },
  {
   "cell_type": "code",
   "execution_count": 64,
   "id": "7f240854",
   "metadata": {},
   "outputs": [],
   "source": [
    "#what are the columns that I want to analyze for this? (note: hypertension = long-term high blood pressure)\n",
    "    #county, city, state for the actual location (County, PlaceName, State)\n",
    "    #PCT_LACCESS_POP15 from the FDA food atlas dataset -> indicates population, low access to store (%), 2015\n",
    "    #COPD_CrudePrev from the 500 cities dataset -> indicates the model-based estimate for crude prevalence of chronic obstructive pulmonary disease among adults aged >=18 years\n",
    "    #CASTHMA_CrudePrev from the 500 cities dataset -> indicates the model-based estimate for crude prevalence of current asthma among adults aged >=18 years\n",
    "    #DIABETES_CrudePrev from the 500 cities dataset -> indicates the model-based estimate for crude prevalence of diagnosed diabetes among adults aged >=18 years\n",
    "    #ARTHRITIS_CrudePrev from the 500 cities dataset -> indicates the model-based estimate for crude prevalence of arthritis among adults aged >=18 years\n",
    "    #BPHIGH_CrudePrev from the 500 cities dataset -> indicates the model-based estimate for crude prevalence of high blood pressure among adults aged >=18 years\n",
    "\n",
    "#first, what we'll do is calculate a \"priority score\" for each county that we have available in our merged dataset.\n",
    "#this will be calculated as the following:\n",
    "    #mean(disease scores for copd, asthma, diabetes, arthritis, and hypertension) * low access to store % for that county\n",
    "#the higher the score -> the more priority we should designate to that county to designate resources.\n",
    "#why does this work? -> multiplication highlights counties with both high food access problems AND high disease prevalence\n",
    "\n",
    "#creating a copy of the merged df for adding in the calculatuions of disease avg and priority score for each location\n",
    "vis1_data = merged.copy() \n",
    "vis1_data[\"disease_avg\"] = vis1_data[[\"COPD_CrudePrev\", \"CASTHMA_CrudePrev\", \"DIABETES_CrudePrev\",\"ARTHRITIS_CrudePrev\", \"BPHIGH_CrudePrev\"]].mean(axis=1)\n",
    "vis1_data[\"priority_score\"] = vis1_data[\"PCT_LACCESS_POP15\"] * vis1_data[\"disease_avg\"]\n",
    "\n",
    "#now we aggregate the data on a county-level and state-level for the purposes of the visualization.\n",
    "county_data = vis1_data.groupby([\"FIPS\", \"County\", \"State\"]).agg(\n",
    "    priority_score=(\"priority_score\", \"mean\"), #average priority score across all tracts in that county\n",
    "    lat=(\"lat\", \"mean\"), #average the centroid coordinates\n",
    "    lon=(\"lon\", \"mean\") #average the centroid coordinates\n",
    ").reset_index() #make it into a normal df\n",
    "\n",
    "state_data = county_data.groupby(\"State\").agg(\n",
    "    priority_score=(\"priority_score\", \"mean\") #average priority score across all counties in that state\n",
    ").reset_index() #make it into a normal df\n",
    "\n",
    "#we also normalize the data to be on a 0-100 scale for the priority score so the visualization is easier to understand\n",
    "min_val = state_data[\"priority_score\"].min()\n",
    "max_val = state_data[\"priority_score\"].max()\n",
    "state_data[\"priority_score_norm\"] = ((state_data[\"priority_score\"] - min_val) / (max_val - min_val) * 100)\n",
    "\n",
    "#we get the top 10 highest priority score counties overall (not per state) to display on the map\n",
    "#as the areas we should focus on\n",
    "top10 = county_data.nlargest(10, \"priority_score\").copy()\n",
    "#need to normalize data to be on 0-100 scale for the top 10 counties as well (like we did at the state level)\n",
    "min_val_c = county_data[\"priority_score\"].min()\n",
    "max_val_c = county_data[\"priority_score\"].max()\n",
    "top10[\"priority_score_norm\"] = ((top10[\"priority_score\"] - min_val_c) / (max_val_c - min_val_c) * 100)\n",
    "top10 = top10.sort_values(\"priority_score\", ascending=False).reset_index(drop=True) #sort the values in descending order\n",
    "\n",
    "#adding labels to the top 10 counties: rank, county, state and priority score\n",
    "top10[\"RankLabel\"] = (\n",
    "    (top10.index+1).astype(str) + \". \" +\n",
    "    top10[\"County\"] + \", \" +\n",
    "    top10[\"State\"] +\n",
    "    \" (\" + top10[\"priority_score_norm\"].round(1).astype(str) + \")\"\n",
    ")"
   ]
  },
  {
   "cell_type": "code",
   "execution_count": 65,
   "id": "3cebe537",
   "metadata": {},
   "outputs": [
    {
     "data": {
      "application/vnd.plotly.v1+json": {
       "config": {
        "plotlyServerURL": "https://plot.ly"
       },
       "data": [
        {
         "colorbar": {
          "title": {
           "text": "Priority Score (0–100)"
          }
         },
         "colorscale": [
          [
           0,
           "rgb(5,48,97)"
          ],
          [
           0.1,
           "rgb(33,102,172)"
          ],
          [
           0.2,
           "rgb(67,147,195)"
          ],
          [
           0.3,
           "rgb(146,197,222)"
          ],
          [
           0.4,
           "rgb(209,229,240)"
          ],
          [
           0.5,
           "rgb(247,247,247)"
          ],
          [
           0.6,
           "rgb(253,219,199)"
          ],
          [
           0.7,
           "rgb(244,165,130)"
          ],
          [
           0.8,
           "rgb(214,96,77)"
          ],
          [
           0.9,
           "rgb(178,24,43)"
          ],
          [
           1,
           "rgb(103,0,31)"
          ]
         ],
         "locationmode": "USA-states",
         "locations": [
          "AK",
          "AL",
          "AR",
          "AZ",
          "CA",
          "CO",
          "CT",
          "DC",
          "DE",
          "FL",
          "GA",
          "HI",
          "IA",
          "ID",
          "IL",
          "IN",
          "KS",
          "KY",
          "LA",
          "MA",
          "MD",
          "ME",
          "MI",
          "MN",
          "MO",
          "MS",
          "MT",
          "NC",
          "ND",
          "NE",
          "NH",
          "NJ",
          "NM",
          "NV",
          "NY",
          "OH",
          "OK",
          "OR",
          "PA",
          "RI",
          "SC",
          "SD",
          "TN",
          "TX",
          "UT",
          "VA",
          "VT",
          "WA",
          "WI",
          "WV",
          "WY"
         ],
         "type": "choropleth",
         "z": {
          "bdata": "GacATuwNUEC/r+/aZzNUQHB99KUBLkdAfAgJktcwSEBsRUzhw1k+QFJJGLb3m0VA2TxXsGpkVEAAAAAAAAAAAHalmoeYBlNAMNKQT5kzUkC7kLK5NoxUQCYndcD65ktATWizeAN2SkCMSUNXqmNGQKZsSCIeAVBAAHQfzTAVVEB3/InxOqdOQK0b/hOQ0khA8/B+ChBzUkBDZak88NlSQDXvm9qZ0QBAa0iDVShdSUDEKzrJr6tTQLaGnWEsokhAbW2BT4b5T0A4ZvubvlZUQFERIOplwktAfGQjuTq5TkC0vMRMs2M8QK7DIuP9yDZASAeM8RYYWEBwlx2Zr95DQJWV+5aZIVRAzVbByhtgRUAibhiFoZRBQD+RtErunlRA4/RoHMOuU0C85UEoMWNEQBBBXkx+EkxA4SZ1mQkKUUCb05wGkedMQEMgoAiFBUZAEZMq2wC5WEAyg7V49elPQB6XPpwkiklA3DaIHqffTkA8gachhP5AQBb+2nQZuktAC8Qr+T+VS0AAAAAAAABZQIKqerJQmldA",
          "dtype": "f8"
         }
        },
        {
         "lat": {
          "bdata": "VUC7GwyHQUA36fpLnpM/QDnLADIKhEVAJ4V95FW3QEC3rI4mrApFQNGGUatGETxAimIFxvkWQkCPKzRi0MtEQBFx0yF3aT5AxMYHEoo7QEA=",
          "dtype": "f8"
         },
         "lon": {
          "bdata": "2Ar+vBdQVcAjqMGMGAtVwA/WucUx7FTAb2TmvnWCVMCS2O4SgcFRwNN/dgtbKVTAt37dVd4BWMAI19+SodlVwN9tEJQFRVbAr/EcFaxxV8A=",
          "dtype": "f8"
         },
         "marker": {
          "color": "black",
          "size": 10
         },
         "mode": "markers+text",
         "text": [
          "1. Hamilton, TN (100.0)",
          "2. Dougherty, GA (95.4)",
          "3. Genesee, MI (92.8)",
          "4. Richmond, GA (91.9)",
          "5. Plymouth, MA (91.7)",
          "6. Brevard, FL (89.8)",
          "7. Osage, OK (89.4)",
          "8. Lake, IN (85.5)",
          "9. Harrison, MS (83.6)",
          "10. Caddo, LA (82.8)"
         ],
         "textfont": {
          "color": "black",
          "family": "Arial Bold",
          "size": 14
         },
         "textposition": "middle right",
         "type": "scattergeo"
        }
       ],
       "layout": {
        "geo": {
         "scope": "usa"
        },
        "height": 750,
        "showlegend": false,
        "template": {
         "data": {
          "bar": [
           {
            "error_x": {
             "color": "#2a3f5f"
            },
            "error_y": {
             "color": "#2a3f5f"
            },
            "marker": {
             "line": {
              "color": "#E5ECF6",
              "width": 0.5
             },
             "pattern": {
              "fillmode": "overlay",
              "size": 10,
              "solidity": 0.2
             }
            },
            "type": "bar"
           }
          ],
          "barpolar": [
           {
            "marker": {
             "line": {
              "color": "#E5ECF6",
              "width": 0.5
             },
             "pattern": {
              "fillmode": "overlay",
              "size": 10,
              "solidity": 0.2
             }
            },
            "type": "barpolar"
           }
          ],
          "carpet": [
           {
            "aaxis": {
             "endlinecolor": "#2a3f5f",
             "gridcolor": "white",
             "linecolor": "white",
             "minorgridcolor": "white",
             "startlinecolor": "#2a3f5f"
            },
            "baxis": {
             "endlinecolor": "#2a3f5f",
             "gridcolor": "white",
             "linecolor": "white",
             "minorgridcolor": "white",
             "startlinecolor": "#2a3f5f"
            },
            "type": "carpet"
           }
          ],
          "choropleth": [
           {
            "colorbar": {
             "outlinewidth": 0,
             "ticks": ""
            },
            "type": "choropleth"
           }
          ],
          "contour": [
           {
            "colorbar": {
             "outlinewidth": 0,
             "ticks": ""
            },
            "colorscale": [
             [
              0,
              "#0d0887"
             ],
             [
              0.1111111111111111,
              "#46039f"
             ],
             [
              0.2222222222222222,
              "#7201a8"
             ],
             [
              0.3333333333333333,
              "#9c179e"
             ],
             [
              0.4444444444444444,
              "#bd3786"
             ],
             [
              0.5555555555555556,
              "#d8576b"
             ],
             [
              0.6666666666666666,
              "#ed7953"
             ],
             [
              0.7777777777777778,
              "#fb9f3a"
             ],
             [
              0.8888888888888888,
              "#fdca26"
             ],
             [
              1,
              "#f0f921"
             ]
            ],
            "type": "contour"
           }
          ],
          "contourcarpet": [
           {
            "colorbar": {
             "outlinewidth": 0,
             "ticks": ""
            },
            "type": "contourcarpet"
           }
          ],
          "heatmap": [
           {
            "colorbar": {
             "outlinewidth": 0,
             "ticks": ""
            },
            "colorscale": [
             [
              0,
              "#0d0887"
             ],
             [
              0.1111111111111111,
              "#46039f"
             ],
             [
              0.2222222222222222,
              "#7201a8"
             ],
             [
              0.3333333333333333,
              "#9c179e"
             ],
             [
              0.4444444444444444,
              "#bd3786"
             ],
             [
              0.5555555555555556,
              "#d8576b"
             ],
             [
              0.6666666666666666,
              "#ed7953"
             ],
             [
              0.7777777777777778,
              "#fb9f3a"
             ],
             [
              0.8888888888888888,
              "#fdca26"
             ],
             [
              1,
              "#f0f921"
             ]
            ],
            "type": "heatmap"
           }
          ],
          "histogram": [
           {
            "marker": {
             "pattern": {
              "fillmode": "overlay",
              "size": 10,
              "solidity": 0.2
             }
            },
            "type": "histogram"
           }
          ],
          "histogram2d": [
           {
            "colorbar": {
             "outlinewidth": 0,
             "ticks": ""
            },
            "colorscale": [
             [
              0,
              "#0d0887"
             ],
             [
              0.1111111111111111,
              "#46039f"
             ],
             [
              0.2222222222222222,
              "#7201a8"
             ],
             [
              0.3333333333333333,
              "#9c179e"
             ],
             [
              0.4444444444444444,
              "#bd3786"
             ],
             [
              0.5555555555555556,
              "#d8576b"
             ],
             [
              0.6666666666666666,
              "#ed7953"
             ],
             [
              0.7777777777777778,
              "#fb9f3a"
             ],
             [
              0.8888888888888888,
              "#fdca26"
             ],
             [
              1,
              "#f0f921"
             ]
            ],
            "type": "histogram2d"
           }
          ],
          "histogram2dcontour": [
           {
            "colorbar": {
             "outlinewidth": 0,
             "ticks": ""
            },
            "colorscale": [
             [
              0,
              "#0d0887"
             ],
             [
              0.1111111111111111,
              "#46039f"
             ],
             [
              0.2222222222222222,
              "#7201a8"
             ],
             [
              0.3333333333333333,
              "#9c179e"
             ],
             [
              0.4444444444444444,
              "#bd3786"
             ],
             [
              0.5555555555555556,
              "#d8576b"
             ],
             [
              0.6666666666666666,
              "#ed7953"
             ],
             [
              0.7777777777777778,
              "#fb9f3a"
             ],
             [
              0.8888888888888888,
              "#fdca26"
             ],
             [
              1,
              "#f0f921"
             ]
            ],
            "type": "histogram2dcontour"
           }
          ],
          "mesh3d": [
           {
            "colorbar": {
             "outlinewidth": 0,
             "ticks": ""
            },
            "type": "mesh3d"
           }
          ],
          "parcoords": [
           {
            "line": {
             "colorbar": {
              "outlinewidth": 0,
              "ticks": ""
             }
            },
            "type": "parcoords"
           }
          ],
          "pie": [
           {
            "automargin": true,
            "type": "pie"
           }
          ],
          "scatter": [
           {
            "fillpattern": {
             "fillmode": "overlay",
             "size": 10,
             "solidity": 0.2
            },
            "type": "scatter"
           }
          ],
          "scatter3d": [
           {
            "line": {
             "colorbar": {
              "outlinewidth": 0,
              "ticks": ""
             }
            },
            "marker": {
             "colorbar": {
              "outlinewidth": 0,
              "ticks": ""
             }
            },
            "type": "scatter3d"
           }
          ],
          "scattercarpet": [
           {
            "marker": {
             "colorbar": {
              "outlinewidth": 0,
              "ticks": ""
             }
            },
            "type": "scattercarpet"
           }
          ],
          "scattergeo": [
           {
            "marker": {
             "colorbar": {
              "outlinewidth": 0,
              "ticks": ""
             }
            },
            "type": "scattergeo"
           }
          ],
          "scattergl": [
           {
            "marker": {
             "colorbar": {
              "outlinewidth": 0,
              "ticks": ""
             }
            },
            "type": "scattergl"
           }
          ],
          "scattermap": [
           {
            "marker": {
             "colorbar": {
              "outlinewidth": 0,
              "ticks": ""
             }
            },
            "type": "scattermap"
           }
          ],
          "scattermapbox": [
           {
            "marker": {
             "colorbar": {
              "outlinewidth": 0,
              "ticks": ""
             }
            },
            "type": "scattermapbox"
           }
          ],
          "scatterpolar": [
           {
            "marker": {
             "colorbar": {
              "outlinewidth": 0,
              "ticks": ""
             }
            },
            "type": "scatterpolar"
           }
          ],
          "scatterpolargl": [
           {
            "marker": {
             "colorbar": {
              "outlinewidth": 0,
              "ticks": ""
             }
            },
            "type": "scatterpolargl"
           }
          ],
          "scatterternary": [
           {
            "marker": {
             "colorbar": {
              "outlinewidth": 0,
              "ticks": ""
             }
            },
            "type": "scatterternary"
           }
          ],
          "surface": [
           {
            "colorbar": {
             "outlinewidth": 0,
             "ticks": ""
            },
            "colorscale": [
             [
              0,
              "#0d0887"
             ],
             [
              0.1111111111111111,
              "#46039f"
             ],
             [
              0.2222222222222222,
              "#7201a8"
             ],
             [
              0.3333333333333333,
              "#9c179e"
             ],
             [
              0.4444444444444444,
              "#bd3786"
             ],
             [
              0.5555555555555556,
              "#d8576b"
             ],
             [
              0.6666666666666666,
              "#ed7953"
             ],
             [
              0.7777777777777778,
              "#fb9f3a"
             ],
             [
              0.8888888888888888,
              "#fdca26"
             ],
             [
              1,
              "#f0f921"
             ]
            ],
            "type": "surface"
           }
          ],
          "table": [
           {
            "cells": {
             "fill": {
              "color": "#EBF0F8"
             },
             "line": {
              "color": "white"
             }
            },
            "header": {
             "fill": {
              "color": "#C8D4E3"
             },
             "line": {
              "color": "white"
             }
            },
            "type": "table"
           }
          ]
         },
         "layout": {
          "annotationdefaults": {
           "arrowcolor": "#2a3f5f",
           "arrowhead": 0,
           "arrowwidth": 1
          },
          "autotypenumbers": "strict",
          "coloraxis": {
           "colorbar": {
            "outlinewidth": 0,
            "ticks": ""
           }
          },
          "colorscale": {
           "diverging": [
            [
             0,
             "#8e0152"
            ],
            [
             0.1,
             "#c51b7d"
            ],
            [
             0.2,
             "#de77ae"
            ],
            [
             0.3,
             "#f1b6da"
            ],
            [
             0.4,
             "#fde0ef"
            ],
            [
             0.5,
             "#f7f7f7"
            ],
            [
             0.6,
             "#e6f5d0"
            ],
            [
             0.7,
             "#b8e186"
            ],
            [
             0.8,
             "#7fbc41"
            ],
            [
             0.9,
             "#4d9221"
            ],
            [
             1,
             "#276419"
            ]
           ],
           "sequential": [
            [
             0,
             "#0d0887"
            ],
            [
             0.1111111111111111,
             "#46039f"
            ],
            [
             0.2222222222222222,
             "#7201a8"
            ],
            [
             0.3333333333333333,
             "#9c179e"
            ],
            [
             0.4444444444444444,
             "#bd3786"
            ],
            [
             0.5555555555555556,
             "#d8576b"
            ],
            [
             0.6666666666666666,
             "#ed7953"
            ],
            [
             0.7777777777777778,
             "#fb9f3a"
            ],
            [
             0.8888888888888888,
             "#fdca26"
            ],
            [
             1,
             "#f0f921"
            ]
           ],
           "sequentialminus": [
            [
             0,
             "#0d0887"
            ],
            [
             0.1111111111111111,
             "#46039f"
            ],
            [
             0.2222222222222222,
             "#7201a8"
            ],
            [
             0.3333333333333333,
             "#9c179e"
            ],
            [
             0.4444444444444444,
             "#bd3786"
            ],
            [
             0.5555555555555556,
             "#d8576b"
            ],
            [
             0.6666666666666666,
             "#ed7953"
            ],
            [
             0.7777777777777778,
             "#fb9f3a"
            ],
            [
             0.8888888888888888,
             "#fdca26"
            ],
            [
             1,
             "#f0f921"
            ]
           ]
          },
          "colorway": [
           "#636efa",
           "#EF553B",
           "#00cc96",
           "#ab63fa",
           "#FFA15A",
           "#19d3f3",
           "#FF6692",
           "#B6E880",
           "#FF97FF",
           "#FECB52"
          ],
          "font": {
           "color": "#2a3f5f"
          },
          "geo": {
           "bgcolor": "white",
           "lakecolor": "white",
           "landcolor": "#E5ECF6",
           "showlakes": true,
           "showland": true,
           "subunitcolor": "white"
          },
          "hoverlabel": {
           "align": "left"
          },
          "hovermode": "closest",
          "mapbox": {
           "style": "light"
          },
          "paper_bgcolor": "white",
          "plot_bgcolor": "#E5ECF6",
          "polar": {
           "angularaxis": {
            "gridcolor": "white",
            "linecolor": "white",
            "ticks": ""
           },
           "bgcolor": "#E5ECF6",
           "radialaxis": {
            "gridcolor": "white",
            "linecolor": "white",
            "ticks": ""
           }
          },
          "scene": {
           "xaxis": {
            "backgroundcolor": "#E5ECF6",
            "gridcolor": "white",
            "gridwidth": 2,
            "linecolor": "white",
            "showbackground": true,
            "ticks": "",
            "zerolinecolor": "white"
           },
           "yaxis": {
            "backgroundcolor": "#E5ECF6",
            "gridcolor": "white",
            "gridwidth": 2,
            "linecolor": "white",
            "showbackground": true,
            "ticks": "",
            "zerolinecolor": "white"
           },
           "zaxis": {
            "backgroundcolor": "#E5ECF6",
            "gridcolor": "white",
            "gridwidth": 2,
            "linecolor": "white",
            "showbackground": true,
            "ticks": "",
            "zerolinecolor": "white"
           }
          },
          "shapedefaults": {
           "line": {
            "color": "#2a3f5f"
           }
          },
          "ternary": {
           "aaxis": {
            "gridcolor": "white",
            "linecolor": "white",
            "ticks": ""
           },
           "baxis": {
            "gridcolor": "white",
            "linecolor": "white",
            "ticks": ""
           },
           "bgcolor": "#E5ECF6",
           "caxis": {
            "gridcolor": "white",
            "linecolor": "white",
            "ticks": ""
           }
          },
          "title": {
           "x": 0.05
          },
          "xaxis": {
           "automargin": true,
           "gridcolor": "white",
           "linecolor": "white",
           "ticks": "",
           "title": {
            "standoff": 15
           },
           "zerolinecolor": "white",
           "zerolinewidth": 2
          },
          "yaxis": {
           "automargin": true,
           "gridcolor": "white",
           "linecolor": "white",
           "ticks": "",
           "title": {
            "standoff": 15
           },
           "zerolinecolor": "white",
           "zerolinewidth": 2
          }
         }
        },
        "title": {
         "text": "State-Level Food Access Program Priority with Top 10 Counties Marked"
        }
       }
      }
     },
     "metadata": {},
     "output_type": "display_data"
    }
   ],
   "source": [
    "#here we'll actually generate the figure!\n",
    "fig = plt.Figure()\n",
    "#the background will be a state-level heatmap chloropleth\n",
    "fig.add_trace(plt.Choropleth(\n",
    "    locations=state_data[\"State\"], #which geographic places are being colored\n",
    "    z=state_data[\"priority_score_norm\"], #numeric values used to determine color for each state (normalized priority score)\n",
    "    locationmode=\"USA-states\", #how to interpret locations field\n",
    "    colorscale=\"RdBu_r\",   #color scheme to shade the states\n",
    "    colorbar_title=\"Priority Score (0–100)\" #color bar title\n",
    "))\n",
    "\n",
    "#this overlays the top 10 counties we found before with markers and labels\n",
    "fig.add_trace(plt.Scattergeo(\n",
    "    lon=top10[\"lon\"], #longitutde for each point\n",
    "    lat=top10[\"lat\"], #latitude for each point\n",
    "    text=top10[\"RankLabel\"], #label that appears with each marker (we defined it before above)\n",
    "    mode=\"markers+text\", #we draw a marker and text\n",
    "    marker=dict(size=10, color=\"black\"), #the marker is a medium sized black dot\n",
    "    textposition=\"middle right\", #where is the label relative to the marker\n",
    "    textfont=dict(size=14, color=\"black\", family=\"Arial Bold\") #the text is larger than the dot, black in color, and font type is Arial bold\n",
    "))\n",
    "\n",
    "fig.update_geos(scope=\"usa\") #tells plotly to show the usa\n",
    "#this part gives the plot a title, updates how big it'll be, and also tells it to not give it a legend (it'll overlap w/ the bar)\n",
    "fig.update_layout(title_text=\"State-Level Food Access Program Priority with Top 10 Counties Marked\", height=750, showlegend=False)\n",
    "fig.show() #show the figure\n"
   ]
  },
  {
   "cell_type": "markdown",
   "id": "71c614d4",
   "metadata": {},
   "source": [
    "## Visualization 2 & 3 (the who)\n",
    "This visualization aims to supplement the guiding questions **\"how many people will be included? how many might be successfully engaged?\"** and **\"which subgroup of the population might benefit the most from the program?\"**\n",
    "\n",
    "In order to answer these questions, we can first and foremost take into account that we already have the top 10 counties & states where we should be deploying food access programs. According to the above visualization and the data given, those are:\n",
    "1. Hamilton, TN\n",
    "2. Dougherty, GA\n",
    "3. Genesee, MI\n",
    "4. Richmond, GA\n",
    "5. Plymouth, MA\n",
    "6. Brevard, FL\n",
    "7. Osage, OK\n",
    "8. Lake, IN\n",
    "9. Harrison, MS\n",
    "10. Caddo, LA\n",
    "\n",
    "So, what we know for these areas is that their calculated \"priority score\", which is a multiplication of the percentage of the general population's low access to store as of 2015 and the crude prevalence of 5 chronic diseases who are most affected by limited food access in >= 18 year olds, is significantly high enough to be in this top 10. Therefore, these counties should be where the resources are deployed.\n",
    "\n",
    "In order to first answer the question, **how many people will be included?**, we can use the \"Population2010\" column from the 500 cities dataset which provides the 2010 census population count for a specific city and state, and filter for these specific counties by the FIPS code.\n",
    "\n",
    "Next, to answer the question **how many might be successfully engaged?** we should first consider the fact that the client is a national Medicare Advantage program, which is a form of health insurance. Therefore, any programs that would be deployed to help relieve food access would likely be targeting existing members of health insurance programs. In the 500 cities dataset, there is a column \"ACCESS2_CrudePrev\" that provides a model-based estimate for crude prevalence of current lack of health insurance among adults aged 18-64 years. As this is generally a percentage, for each county, we can take into consideration the 2010 census population count, and this percentage, and take the inverse (100 minus this value) to estimate the percentage with insurance coverage, who are more likely to be reachable and eligible for program outreach.\n",
    "\n",
    "Last, to answer the question **which subgroup of the population might benefit the most from the program?**, we can use the FDA food atlas dataset as it contains more specific information about demographics and the like for which demographic groups are disproportionately affected within these top 10 counties, and therefore most likely to benefit from interventions."
   ]
  },
  {
   "cell_type": "code",
   "execution_count": 73,
   "id": "8903516d",
   "metadata": {},
   "outputs": [],
   "source": [
    "#population2010 column = total population affected\n",
    "#for the subgroup part we have the following in the FDA food atlas for subgroups/demographics:\n",
    "#household resources (low income & low access, households with no car & low access, SNAP households & low access)\n",
    "#demographics (children, seniors, hispanic ethnicity, asian, american indian or alaska native, asian, hawaiian or pacific islander, multiracial with low access)\n",
    "#we do have some missing information for 2010 percentage values, so we will have to use the 2015 values for\n",
    "#these demographics.\n",
    "#how can we calculate impact for these subgroups? -> well, in the FDA food atlas each of these percentages for these\n",
    "#demographics indicates the % that had a LOW access to a grocery store\n",
    "#so we could take all of the values within these top 10 counties (2015 counts)\n",
    "#and find out which groups are most affected by low access to a grocery store in these 10 counties and therefore would\n",
    "#benefit most from the program\n",
    "#so for each subgroup, we calculate estimated affected individuals\n",
    "\n",
    "#we create a new copy of the merged dataframe for the purposes for getting all of the columns we need (that aren't in the\n",
    "#top10 dataframe we created earlier for visualization1)\n",
    "vis2_data = merged.copy()\n",
    "#getting the same sorted, merged by county data with inclusion of population, household and demographic low access to grocery store %\n",
    "vis2_county = vis2_data.groupby([\"FIPS\", \"County\", \"State\"]).agg(\n",
    "    population=(\"Population2010\", \"sum\"),\n",
    "    access2=(\"ACCESS2_CrudePrev\", \"mean\"),\n",
    "    low_income=(\"LACCESS_LOWI15\", \"sum\"),   \n",
    "    households_no_car=(\"LACCESS_HHNV15\", \"sum\"),\n",
    "    SNAP_household=(\"LACCESS_SNAP15\", \"sum\"),\n",
    "    children=(\"LACCESS_CHILD15\", \"sum\"),\n",
    "    seniors=(\"LACCESS_SENIORS15\", \"sum\"),\n",
    "    white=(\"LACCESS_WHITE15\", \"sum\"),\n",
    "    black=(\"LACCESS_BLACK15\", \"sum\"),\n",
    "    hispanic=(\"LACCESS_HISP15\", \"sum\"),\n",
    "    asian=(\"LACCESS_NHASIAN15\", \"sum\"),\n",
    "    american_indian_or_alaska_native=(\"LACCESS_NHNA15\", \"sum\"),\n",
    "    hawaiian_or_pacific_islander=(\"LACCESS_NHPI15\", \"sum\"),\n",
    "    multiracial=(\"LACCESS_MULTIR15\", \"sum\")\n",
    ").reset_index()\n",
    "\n",
    "#we get only the top 10 counties (same as the ones plotted in visualization 1)\n",
    "vis2_county = vis2_county[vis2_county[\"FIPS\"].isin(top10[\"FIPS\"])].copy()\n",
    "#get the engaged population as the total population census * (100 - those that dont have healthcare) / 100 to include\n",
    "#those that would likely be engaged with healthcare programs like this one\n",
    "vis2_county[\"engaged\"] = vis2_county[\"population\"] * (100 - vis2_county[\"access2\"]) / 100\n",
    "\n",
    "#adding rank info to the vis2_county dataframe so we can order the barplot\n",
    "rank_map = dict(zip(top10[\"FIPS\"], range(1, len(top10)+1)))\n",
    "vis2_county[\"Rank\"] = vis2_county[\"FIPS\"].map(rank_map)\n",
    "vis2_county = vis2_county.sort_values(\"Rank\")\n",
    "county_labels = vis2_county[\"Rank\"].astype(str) + \". \" + vis2_county[\"County\"] + \", \" + vis2_county[\"State\"]\n",
    "\n",
    "#calculating subgroup affected numbers -> first we get all the column names\n",
    "subgroup_cols = [\n",
    "    \"low_income\", \"households_no_car\", \"SNAP_household\",\n",
    "    \"children\", \"seniors\", \"white\", \"black\", \"hispanic\", \"asian\",\n",
    "    \"american_indian_or_alaska_native\", \"hawaiian_or_pacific_islander\", \"multiracial\"\n",
    "]\n",
    "\n",
    "#melting for plotting purposes\n",
    "subgroup_data = vis2_county.melt(\n",
    "    id_vars=[\"County\", \"State\", \"population\", \"engaged\"],\n",
    "    value_vars=subgroup_cols,\n",
    "    var_name=\"Subgroup\",\n",
    "    value_name=\"Affected\"\n",
    ")\n",
    "\n",
    "#for plotting\n",
    "subgroup_data[\"CountyState\"] = subgroup_data[\"County\"] + \", \" + subgroup_data[\"State\"]\n",
    "label_map = {\n",
    "    \"low_income\": \"Low Income & Low Access\",\n",
    "    \"households_no_car\": \"Households w/ No Car & Low Access\",\n",
    "    \"SNAP_household\": \"SNAP Households & Low Access\",\n",
    "    \"children\": \"Children & Low Access\",\n",
    "    \"seniors\": \"Seniors & Low Access\",\n",
    "    \"white\": \"White & Low Access\",\n",
    "    \"black\": \"Black & Low Access\",\n",
    "    \"hispanic\": \"Hispanic & Low Access\",\n",
    "    \"asian\": \"Asian & Low Access\",\n",
    "    \"american_indian_or_alaska_native\": \"American Indian/Alaska Native & Low Access\",\n",
    "    \"hawaiian_or_pacific_islander\": \"Hawaiian/Pacific Islander & Low Access\",\n",
    "    \"multiracial\": \"Multiracial & Low Access\"\n",
    "}\n",
    "subgroup_data[\"Subgroup\"] = subgroup_data[\"Subgroup\"].map(label_map)\n"
   ]
  },
  {
   "cell_type": "code",
   "execution_count": 109,
   "id": "4957f747",
   "metadata": {},
   "outputs": [
    {
     "data": {
      "application/vnd.plotly.v1+json": {
       "config": {
        "plotlyServerURL": "https://plot.ly"
       },
       "data": [
        {
         "marker": {
          "color": "steelblue"
         },
         "name": "Total",
         "type": "bar",
         "x": [
          "1. Hamilton, TN",
          "2. Dougherty, GA",
          "3. Genesee, MI",
          "4. Richmond, GA",
          "5. Plymouth, MA",
          "6. Brevard, FL",
          "7. Osage, OK",
          "8. Lake, IN",
          "9. Harrison, MS",
          "10. Caddo, LA"
         ],
         "xaxis": "x",
         "y": {
          "bdata": "rI4CAHouAQD7jwEABP0CAHJuAQDUuwIA+BcAAGR1AgDRCAEA7f8CAA==",
          "dtype": "i4"
         },
         "yaxis": "y"
        },
        {
         "marker": {
          "color": "darkorange"
         },
         "name": "Engaged",
         "type": "bar",
         "x": [
          "1. Hamilton, TN",
          "2. Dougherty, GA",
          "3. Genesee, MI",
          "4. Richmond, GA",
          "5. Plymouth, MA",
          "6. Brevard, FL",
          "7. Osage, OK",
          "8. Lake, IN",
          "9. Harrison, MS",
          "10. Caddo, LA"
         ],
         "xaxis": "x",
         "y": {
          "bdata": "Ga2jqv+JAEHkCu9yecnrQFRABVROpvRA0Zi/oWgbAkGITaUhzy70QE8EaG2JaQFBjZduEoMutED6SbVPo33/QKnGSzeNVepAMY7O+nQxBEE=",
          "dtype": "f8"
         },
         "yaxis": "y"
        },
        {
         "domain": {
          "x": [
           0.55,
           1
          ],
          "y": [
           0,
           1
          ]
         },
         "insidetextorientation": "radial",
         "labels": [
          "American Indian/Alaska Native & Low Access",
          "Asian & Low Access",
          "Black & Low Access",
          "Children & Low Access",
          "Hawaiian/Pacific Islander & Low Access",
          "Hispanic & Low Access",
          "Households w/ No Car & Low Access",
          "Low Income & Low Access",
          "Multiracial & Low Access",
          "SNAP Households & Low Access",
          "Seniors & Low Access",
          "White & Low Access"
         ],
         "marker": {
          "colors": [
           "rgb(141,211,199)",
           "rgb(255,255,179)",
           "rgb(190,186,218)",
           "rgb(251,128,114)",
           "rgb(128,177,211)",
           "rgb(253,180,98)",
           "rgb(179,222,105)",
           "rgb(252,205,229)",
           "rgb(217,217,217)",
           "rgb(188,128,189)",
           "rgb(204,235,197)",
           "rgb(255,237,111)"
          ]
         },
         "name": "Subgroups",
         "showlegend": false,
         "textinfo": "label+percent",
         "type": "pie",
         "values": {
          "bdata": "DQcvIFa2AkFvNj7if1MjQUJAHF0dd2VBOowJj6WOY0FuY7V5YyHdQOhNRVeOk0FBz0Cep1fCNEHbj7QPtRpsQSEjJL+pbzhBI18EAT8oQ0F1Mh/ohn1XQdRA6huj3HtB",
          "dtype": "f8"
         }
        }
       ],
       "layout": {
        "annotations": [
         {
          "font": {
           "size": 16
          },
          "showarrow": false,
          "text": "Total Population vs Engaged (Top 10 Counties)",
          "x": 0.225,
          "xanchor": "center",
          "xref": "paper",
          "y": 1,
          "yanchor": "bottom",
          "yref": "paper"
         },
         {
          "font": {
           "size": 16
          },
          "showarrow": false,
          "text": "Subgroups Most Affected (Combined Top 10)",
          "x": 0.775,
          "xanchor": "center",
          "xref": "paper",
          "y": 1,
          "yanchor": "bottom",
          "yref": "paper"
         }
        ],
        "barmode": "group",
        "height": 600,
        "legend": {
         "font": {
          "size": 10
         },
         "itemsizing": "constant",
         "orientation": "h",
         "x": 0.2,
         "xanchor": "left",
         "y": 0.9,
         "yanchor": "bottom"
        },
        "template": {
         "data": {
          "bar": [
           {
            "error_x": {
             "color": "#2a3f5f"
            },
            "error_y": {
             "color": "#2a3f5f"
            },
            "marker": {
             "line": {
              "color": "#E5ECF6",
              "width": 0.5
             },
             "pattern": {
              "fillmode": "overlay",
              "size": 10,
              "solidity": 0.2
             }
            },
            "type": "bar"
           }
          ],
          "barpolar": [
           {
            "marker": {
             "line": {
              "color": "#E5ECF6",
              "width": 0.5
             },
             "pattern": {
              "fillmode": "overlay",
              "size": 10,
              "solidity": 0.2
             }
            },
            "type": "barpolar"
           }
          ],
          "carpet": [
           {
            "aaxis": {
             "endlinecolor": "#2a3f5f",
             "gridcolor": "white",
             "linecolor": "white",
             "minorgridcolor": "white",
             "startlinecolor": "#2a3f5f"
            },
            "baxis": {
             "endlinecolor": "#2a3f5f",
             "gridcolor": "white",
             "linecolor": "white",
             "minorgridcolor": "white",
             "startlinecolor": "#2a3f5f"
            },
            "type": "carpet"
           }
          ],
          "choropleth": [
           {
            "colorbar": {
             "outlinewidth": 0,
             "ticks": ""
            },
            "type": "choropleth"
           }
          ],
          "contour": [
           {
            "colorbar": {
             "outlinewidth": 0,
             "ticks": ""
            },
            "colorscale": [
             [
              0,
              "#0d0887"
             ],
             [
              0.1111111111111111,
              "#46039f"
             ],
             [
              0.2222222222222222,
              "#7201a8"
             ],
             [
              0.3333333333333333,
              "#9c179e"
             ],
             [
              0.4444444444444444,
              "#bd3786"
             ],
             [
              0.5555555555555556,
              "#d8576b"
             ],
             [
              0.6666666666666666,
              "#ed7953"
             ],
             [
              0.7777777777777778,
              "#fb9f3a"
             ],
             [
              0.8888888888888888,
              "#fdca26"
             ],
             [
              1,
              "#f0f921"
             ]
            ],
            "type": "contour"
           }
          ],
          "contourcarpet": [
           {
            "colorbar": {
             "outlinewidth": 0,
             "ticks": ""
            },
            "type": "contourcarpet"
           }
          ],
          "heatmap": [
           {
            "colorbar": {
             "outlinewidth": 0,
             "ticks": ""
            },
            "colorscale": [
             [
              0,
              "#0d0887"
             ],
             [
              0.1111111111111111,
              "#46039f"
             ],
             [
              0.2222222222222222,
              "#7201a8"
             ],
             [
              0.3333333333333333,
              "#9c179e"
             ],
             [
              0.4444444444444444,
              "#bd3786"
             ],
             [
              0.5555555555555556,
              "#d8576b"
             ],
             [
              0.6666666666666666,
              "#ed7953"
             ],
             [
              0.7777777777777778,
              "#fb9f3a"
             ],
             [
              0.8888888888888888,
              "#fdca26"
             ],
             [
              1,
              "#f0f921"
             ]
            ],
            "type": "heatmap"
           }
          ],
          "histogram": [
           {
            "marker": {
             "pattern": {
              "fillmode": "overlay",
              "size": 10,
              "solidity": 0.2
             }
            },
            "type": "histogram"
           }
          ],
          "histogram2d": [
           {
            "colorbar": {
             "outlinewidth": 0,
             "ticks": ""
            },
            "colorscale": [
             [
              0,
              "#0d0887"
             ],
             [
              0.1111111111111111,
              "#46039f"
             ],
             [
              0.2222222222222222,
              "#7201a8"
             ],
             [
              0.3333333333333333,
              "#9c179e"
             ],
             [
              0.4444444444444444,
              "#bd3786"
             ],
             [
              0.5555555555555556,
              "#d8576b"
             ],
             [
              0.6666666666666666,
              "#ed7953"
             ],
             [
              0.7777777777777778,
              "#fb9f3a"
             ],
             [
              0.8888888888888888,
              "#fdca26"
             ],
             [
              1,
              "#f0f921"
             ]
            ],
            "type": "histogram2d"
           }
          ],
          "histogram2dcontour": [
           {
            "colorbar": {
             "outlinewidth": 0,
             "ticks": ""
            },
            "colorscale": [
             [
              0,
              "#0d0887"
             ],
             [
              0.1111111111111111,
              "#46039f"
             ],
             [
              0.2222222222222222,
              "#7201a8"
             ],
             [
              0.3333333333333333,
              "#9c179e"
             ],
             [
              0.4444444444444444,
              "#bd3786"
             ],
             [
              0.5555555555555556,
              "#d8576b"
             ],
             [
              0.6666666666666666,
              "#ed7953"
             ],
             [
              0.7777777777777778,
              "#fb9f3a"
             ],
             [
              0.8888888888888888,
              "#fdca26"
             ],
             [
              1,
              "#f0f921"
             ]
            ],
            "type": "histogram2dcontour"
           }
          ],
          "mesh3d": [
           {
            "colorbar": {
             "outlinewidth": 0,
             "ticks": ""
            },
            "type": "mesh3d"
           }
          ],
          "parcoords": [
           {
            "line": {
             "colorbar": {
              "outlinewidth": 0,
              "ticks": ""
             }
            },
            "type": "parcoords"
           }
          ],
          "pie": [
           {
            "automargin": true,
            "type": "pie"
           }
          ],
          "scatter": [
           {
            "fillpattern": {
             "fillmode": "overlay",
             "size": 10,
             "solidity": 0.2
            },
            "type": "scatter"
           }
          ],
          "scatter3d": [
           {
            "line": {
             "colorbar": {
              "outlinewidth": 0,
              "ticks": ""
             }
            },
            "marker": {
             "colorbar": {
              "outlinewidth": 0,
              "ticks": ""
             }
            },
            "type": "scatter3d"
           }
          ],
          "scattercarpet": [
           {
            "marker": {
             "colorbar": {
              "outlinewidth": 0,
              "ticks": ""
             }
            },
            "type": "scattercarpet"
           }
          ],
          "scattergeo": [
           {
            "marker": {
             "colorbar": {
              "outlinewidth": 0,
              "ticks": ""
             }
            },
            "type": "scattergeo"
           }
          ],
          "scattergl": [
           {
            "marker": {
             "colorbar": {
              "outlinewidth": 0,
              "ticks": ""
             }
            },
            "type": "scattergl"
           }
          ],
          "scattermap": [
           {
            "marker": {
             "colorbar": {
              "outlinewidth": 0,
              "ticks": ""
             }
            },
            "type": "scattermap"
           }
          ],
          "scattermapbox": [
           {
            "marker": {
             "colorbar": {
              "outlinewidth": 0,
              "ticks": ""
             }
            },
            "type": "scattermapbox"
           }
          ],
          "scatterpolar": [
           {
            "marker": {
             "colorbar": {
              "outlinewidth": 0,
              "ticks": ""
             }
            },
            "type": "scatterpolar"
           }
          ],
          "scatterpolargl": [
           {
            "marker": {
             "colorbar": {
              "outlinewidth": 0,
              "ticks": ""
             }
            },
            "type": "scatterpolargl"
           }
          ],
          "scatterternary": [
           {
            "marker": {
             "colorbar": {
              "outlinewidth": 0,
              "ticks": ""
             }
            },
            "type": "scatterternary"
           }
          ],
          "surface": [
           {
            "colorbar": {
             "outlinewidth": 0,
             "ticks": ""
            },
            "colorscale": [
             [
              0,
              "#0d0887"
             ],
             [
              0.1111111111111111,
              "#46039f"
             ],
             [
              0.2222222222222222,
              "#7201a8"
             ],
             [
              0.3333333333333333,
              "#9c179e"
             ],
             [
              0.4444444444444444,
              "#bd3786"
             ],
             [
              0.5555555555555556,
              "#d8576b"
             ],
             [
              0.6666666666666666,
              "#ed7953"
             ],
             [
              0.7777777777777778,
              "#fb9f3a"
             ],
             [
              0.8888888888888888,
              "#fdca26"
             ],
             [
              1,
              "#f0f921"
             ]
            ],
            "type": "surface"
           }
          ],
          "table": [
           {
            "cells": {
             "fill": {
              "color": "#EBF0F8"
             },
             "line": {
              "color": "white"
             }
            },
            "header": {
             "fill": {
              "color": "#C8D4E3"
             },
             "line": {
              "color": "white"
             }
            },
            "type": "table"
           }
          ]
         },
         "layout": {
          "annotationdefaults": {
           "arrowcolor": "#2a3f5f",
           "arrowhead": 0,
           "arrowwidth": 1
          },
          "autotypenumbers": "strict",
          "coloraxis": {
           "colorbar": {
            "outlinewidth": 0,
            "ticks": ""
           }
          },
          "colorscale": {
           "diverging": [
            [
             0,
             "#8e0152"
            ],
            [
             0.1,
             "#c51b7d"
            ],
            [
             0.2,
             "#de77ae"
            ],
            [
             0.3,
             "#f1b6da"
            ],
            [
             0.4,
             "#fde0ef"
            ],
            [
             0.5,
             "#f7f7f7"
            ],
            [
             0.6,
             "#e6f5d0"
            ],
            [
             0.7,
             "#b8e186"
            ],
            [
             0.8,
             "#7fbc41"
            ],
            [
             0.9,
             "#4d9221"
            ],
            [
             1,
             "#276419"
            ]
           ],
           "sequential": [
            [
             0,
             "#0d0887"
            ],
            [
             0.1111111111111111,
             "#46039f"
            ],
            [
             0.2222222222222222,
             "#7201a8"
            ],
            [
             0.3333333333333333,
             "#9c179e"
            ],
            [
             0.4444444444444444,
             "#bd3786"
            ],
            [
             0.5555555555555556,
             "#d8576b"
            ],
            [
             0.6666666666666666,
             "#ed7953"
            ],
            [
             0.7777777777777778,
             "#fb9f3a"
            ],
            [
             0.8888888888888888,
             "#fdca26"
            ],
            [
             1,
             "#f0f921"
            ]
           ],
           "sequentialminus": [
            [
             0,
             "#0d0887"
            ],
            [
             0.1111111111111111,
             "#46039f"
            ],
            [
             0.2222222222222222,
             "#7201a8"
            ],
            [
             0.3333333333333333,
             "#9c179e"
            ],
            [
             0.4444444444444444,
             "#bd3786"
            ],
            [
             0.5555555555555556,
             "#d8576b"
            ],
            [
             0.6666666666666666,
             "#ed7953"
            ],
            [
             0.7777777777777778,
             "#fb9f3a"
            ],
            [
             0.8888888888888888,
             "#fdca26"
            ],
            [
             1,
             "#f0f921"
            ]
           ]
          },
          "colorway": [
           "#636efa",
           "#EF553B",
           "#00cc96",
           "#ab63fa",
           "#FFA15A",
           "#19d3f3",
           "#FF6692",
           "#B6E880",
           "#FF97FF",
           "#FECB52"
          ],
          "font": {
           "color": "#2a3f5f"
          },
          "geo": {
           "bgcolor": "white",
           "lakecolor": "white",
           "landcolor": "#E5ECF6",
           "showlakes": true,
           "showland": true,
           "subunitcolor": "white"
          },
          "hoverlabel": {
           "align": "left"
          },
          "hovermode": "closest",
          "mapbox": {
           "style": "light"
          },
          "paper_bgcolor": "white",
          "plot_bgcolor": "#E5ECF6",
          "polar": {
           "angularaxis": {
            "gridcolor": "white",
            "linecolor": "white",
            "ticks": ""
           },
           "bgcolor": "#E5ECF6",
           "radialaxis": {
            "gridcolor": "white",
            "linecolor": "white",
            "ticks": ""
           }
          },
          "scene": {
           "xaxis": {
            "backgroundcolor": "#E5ECF6",
            "gridcolor": "white",
            "gridwidth": 2,
            "linecolor": "white",
            "showbackground": true,
            "ticks": "",
            "zerolinecolor": "white"
           },
           "yaxis": {
            "backgroundcolor": "#E5ECF6",
            "gridcolor": "white",
            "gridwidth": 2,
            "linecolor": "white",
            "showbackground": true,
            "ticks": "",
            "zerolinecolor": "white"
           },
           "zaxis": {
            "backgroundcolor": "#E5ECF6",
            "gridcolor": "white",
            "gridwidth": 2,
            "linecolor": "white",
            "showbackground": true,
            "ticks": "",
            "zerolinecolor": "white"
           }
          },
          "shapedefaults": {
           "line": {
            "color": "#2a3f5f"
           }
          },
          "ternary": {
           "aaxis": {
            "gridcolor": "white",
            "linecolor": "white",
            "ticks": ""
           },
           "baxis": {
            "gridcolor": "white",
            "linecolor": "white",
            "ticks": ""
           },
           "bgcolor": "#E5ECF6",
           "caxis": {
            "gridcolor": "white",
            "linecolor": "white",
            "ticks": ""
           }
          },
          "title": {
           "x": 0.05
          },
          "xaxis": {
           "automargin": true,
           "gridcolor": "white",
           "linecolor": "white",
           "ticks": "",
           "title": {
            "standoff": 15
           },
           "zerolinecolor": "white",
           "zerolinewidth": 2
          },
          "yaxis": {
           "automargin": true,
           "gridcolor": "white",
           "linecolor": "white",
           "ticks": "",
           "title": {
            "standoff": 15
           },
           "zerolinecolor": "white",
           "zerolinewidth": 2
          }
         }
        },
        "title": {
         "text": "Who Would be Affected by Food Access Programs?"
        },
        "width": 1200,
        "xaxis": {
         "anchor": "y",
         "domain": [
          0,
          0.45
         ],
         "tickangle": -45
        },
        "yaxis": {
         "anchor": "x",
         "domain": [
          0,
          1
         ]
        }
       }
      }
     },
     "metadata": {},
     "output_type": "display_data"
    }
   ],
   "source": [
    "#initializing the figure with 2 subplots and 2 titles\n",
    "fig = make_subplots(\n",
    "    rows=1, cols=2,\n",
    "    subplot_titles=(\n",
    "        \"Total Population vs Engaged (Top 10 Counties)\",\n",
    "        \"Subgroups Most Affected (Combined Top 10)\"\n",
    "    ),\n",
    "    specs=[[{\"type\": \"bar\"}, {\"type\": \"domain\"}]]  # second subplot is a pie\n",
    ")\n",
    "\n",
    "#the first subplot, which has the total populations for each county,state in blue\n",
    "#and the total engaged populations (those who are not NOT on health insurance)\n",
    "#in orange\n",
    "fig.add_trace(\n",
    "    plt.Bar(\n",
    "        x=county_labels,\n",
    "        y=vis2_county[\"population\"],\n",
    "        marker_color=\"steelblue\",\n",
    "        name=\"Total\"\n",
    "    ),\n",
    "    row=1, col=1\n",
    ")\n",
    "fig.add_trace(\n",
    "    plt.Bar(\n",
    "        x=county_labels,\n",
    "        y=vis2_county[\"engaged\"],\n",
    "        marker_color=\"darkorange\",\n",
    "        name=\"Engaged\"\n",
    "    ),\n",
    "    row=1, col=1\n",
    ")\n",
    "fig.update_layout(barmode=\"group\")\n",
    "\n",
    "#the second subplot, which has the total affected members of each subgroup that were gathered from the FDA\n",
    "#food atlas for the combined top 10 counties\n",
    "subgroup_summary = subgroup_data.groupby(\"Subgroup\")[\"Affected\"].sum().reset_index()\n",
    "#we plot the number of members of each affected subgroup for the combined top 10 counties in green\n",
    "fig.add_trace(\n",
    "    plt.Pie(\n",
    "        labels=subgroup_summary[\"Subgroup\"],\n",
    "        values=subgroup_summary[\"Affected\"],\n",
    "        textinfo=\"label+percent\",\n",
    "        insidetextorientation=\"radial\",\n",
    "        marker=dict(colors=px.colors.qualitative.Set3),\n",
    "        name=\"Subgroups\",\n",
    "        showlegend=False   \n",
    "    ),\n",
    "    row=1, col=2\n",
    ")\n",
    "\n",
    "\n",
    "#overall layout updating\n",
    "fig.update_layout(\n",
    "    height=600, width=1200,\n",
    "    title_text=\"Who Would be Affected by Food Access Programs?\",\n",
    "    legend=dict(\n",
    "        orientation=\"h\",   \n",
    "        x=0.2,           \n",
    "        y=0.9,           \n",
    "        xanchor=\"left\",\n",
    "        yanchor=\"bottom\",\n",
    "        font=dict(size=10),\n",
    "        itemsizing=\"constant\"\n",
    "    ),\n",
    "    xaxis_tickangle=-45\n",
    ")\n",
    "\n",
    "fig.show()"
   ]
  },
  {
   "cell_type": "markdown",
   "id": "0ff9236c",
   "metadata": {},
   "source": [
    "## Putting it all together: The Impact\n",
    "This section aims to supplement the guiding question **\"what is the projected impact of this program?\"**"
   ]
  }
 ],
 "metadata": {
  "kernelspec": {
   "display_name": "Python 3",
   "language": "python",
   "name": "python3"
  },
  "language_info": {
   "codemirror_mode": {
    "name": "ipython",
    "version": 3
   },
   "file_extension": ".py",
   "mimetype": "text/x-python",
   "name": "python",
   "nbconvert_exporter": "python",
   "pygments_lexer": "ipython3",
   "version": "3.12.6"
  }
 },
 "nbformat": 4,
 "nbformat_minor": 5
}
