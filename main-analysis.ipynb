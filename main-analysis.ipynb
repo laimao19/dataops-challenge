{
 "cells": [
  {
   "cell_type": "markdown",
   "id": "795d8ec9",
   "metadata": {},
   "source": [
    "# Data Ops Challenge Main Analysis File\n",
    "In this file, I'll be using a Jupyter notebook to produce the core visualizations that will supplement the presentation and be used for answering the provided guiding questions."
   ]
  },
  {
   "cell_type": "markdown",
   "id": "673b9b64",
   "metadata": {},
   "source": [
    "## Loading in the Data"
   ]
  },
  {
   "cell_type": "code",
   "execution_count": null,
   "id": "fb28d3ea",
   "metadata": {},
   "outputs": [],
   "source": [
    "#code to be written here!"
   ]
  },
  {
   "cell_type": "markdown",
   "id": "d1864a68",
   "metadata": {},
   "source": [
    "## Visualization 1 (the where)\n",
    "This visualization aims to help supplement the guiding question \"where should we deploy a food access program?\""
   ]
  },
  {
   "cell_type": "code",
   "execution_count": null,
   "id": "7f240854",
   "metadata": {},
   "outputs": [],
   "source": [
    "#code to be written here!"
   ]
  },
  {
   "cell_type": "markdown",
   "id": "71c614d4",
   "metadata": {},
   "source": [
    "## Visualization 2 (the who)\n",
    "This visualization aims to supplement the guiding questions \"how many people will be included? how many might be successfully engaged?\" and \"which subgroup of the population might benefit the most from the program?\""
   ]
  },
  {
   "cell_type": "code",
   "execution_count": null,
   "id": "8903516d",
   "metadata": {},
   "outputs": [],
   "source": [
    "#code to be written here!"
   ]
  },
  {
   "cell_type": "markdown",
   "id": "0ff9236c",
   "metadata": {},
   "source": [
    "## Visualization 3 (the impact)\n",
    "This visualization aims to supplement the guiding question \"what is the projected impact of this program?\""
   ]
  },
  {
   "cell_type": "code",
   "execution_count": null,
   "id": "234902aa",
   "metadata": {},
   "outputs": [],
   "source": [
    "#code to be written here!"
   ]
  }
 ],
 "metadata": {
  "language_info": {
   "name": "python"
  }
 },
 "nbformat": 4,
 "nbformat_minor": 5
}
