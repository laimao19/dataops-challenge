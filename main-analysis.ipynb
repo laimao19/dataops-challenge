{
 "cells": [
  {
   "cell_type": "markdown",
   "id": "795d8ec9",
   "metadata": {},
   "source": [
    "# Data Ops Challenge Main Analysis File\n",
    "In this file, I'll be using a Jupyter notebook to produce the core visualizations that will supplement the presentation and be used for answering the provided guiding questions."
   ]
  },
  {
   "cell_type": "markdown",
   "id": "673b9b64",
   "metadata": {},
   "source": [
    "## Loading, Adjusting, and Merging the Data"
   ]
  },
  {
   "cell_type": "code",
   "execution_count": 1,
   "id": "7a61e62a",
   "metadata": {},
   "outputs": [],
   "source": [
    "#imports\n",
    "import sqlite3\n",
    "import pandas as pd\n",
    "import plotly.graph_objects as plt\n",
    "import plotly.express as px\n",
    "from plotly.subplots import make_subplots\n",
    "import numpy as np"
   ]
  },
  {
   "cell_type": "code",
   "execution_count": 2,
   "id": "fb28d3ea",
   "metadata": {},
   "outputs": [],
   "source": [
    "#first, i'm going to initially connect to the database\n",
    "conn = sqlite3.connect(\"challenge.db\")\n",
    "\n",
    "#now i'll load in each table as a dataframe\n",
    "cities_df = pd.read_sql(\"SELECT * FROM five_hundred_cities;\", conn)\n",
    "access_df = pd.read_sql(\"SELECT * FROM access;\", conn)\n",
    "variablelist_df = pd.read_sql(\"SELECT * FROM variable_list\", conn)"
   ]
  },
  {
   "cell_type": "code",
   "execution_count": 3,
   "id": "14ee6e7c",
   "metadata": {},
   "outputs": [
    {
     "name": "stdout",
     "output_type": "stream",
     "text": [
      "0    1073000100\n",
      "1    1073000300\n",
      "2    1073000400\n",
      "3    1073000500\n",
      "4    1073000700\n",
      "Name: TractFIPS, dtype: int64\n",
      "0    01073\n",
      "1    01073\n",
      "2    01073\n",
      "3    01073\n",
      "4    01073\n",
      "Name: TractFIPS, dtype: object\n",
      "0    1001\n",
      "1    1003\n",
      "2    1005\n",
      "3    1007\n",
      "4    1009\n",
      "5    1011\n",
      "6    1013\n",
      "7    1015\n",
      "8    1017\n",
      "9    1019\n",
      "Name: FIPS, dtype: int64\n",
      "0    01001\n",
      "1    01003\n",
      "2    01005\n",
      "3    01007\n",
      "4    01009\n",
      "5    01011\n",
      "6    01013\n",
      "7    01015\n",
      "8    01017\n",
      "9    01019\n",
      "Name: FIPS, dtype: object\n"
     ]
    }
   ],
   "source": [
    "#now, when reading through the tables, i saw that the FIPS value for the access table was NOT the standard 5 digits for some\n",
    "#of the codes. after looking up the FIPS codes, i found out that any FIPS code that originally had a \"0\" at the beginning\n",
    "#was now missing a 0 at the beginning. if it had a non-zero value at the beginning, it still had that value. so i'll be\n",
    "#adding in a zero at the beginning of each FIPS code that was supposed to have a 0 in the access table\n",
    "#this was actually the case in the 500 cities dataset as well, with the PlaceFIPS and TractFIPS codes so i fixed that too.\n",
    "#i've included a print before and after to show that this was the case.\n",
    "\n",
    "print(cities_df[\"TractFIPS\"].head())\n",
    "cities_df[\"TractFIPS\"] = cities_df[\"TractFIPS\"].astype(str).str.zfill(11).str[:5]\n",
    "print(cities_df[\"TractFIPS\"].head())\n",
    "\n",
    "print(access_df[\"FIPS\"].head(10))\n",
    "access_df[\"FIPS\"] = access_df[\"FIPS\"].astype(str).str.zfill(5)\n",
    "print(access_df[\"FIPS\"].head(10))"
   ]
  },
  {
   "cell_type": "code",
   "execution_count": 4,
   "id": "9d0e8e2a",
   "metadata": {},
   "outputs": [
    {
     "name": "stdout",
     "output_type": "stream",
     "text": [
      "['index_x', 'StateAbbr', 'PlaceName', 'PlaceFIPS', 'TractFIPS', 'Place_TractID', 'Population2010', 'ACCESS2_CrudePrev', 'ACCESS2_Crude95CI', 'ARTHRITIS_CrudePrev', 'ARTHRITIS_Crude95CI', 'BINGE_CrudePrev', 'BINGE_Crude95CI', 'BPHIGH_CrudePrev', 'BPHIGH_Crude95CI', 'BPMED_CrudePrev', 'BPMED_Crude95CI', 'CANCER_CrudePrev', 'CANCER_Crude95CI', 'CASTHMA_CrudePrev', 'CASTHMA_Crude95CI', 'CHD_CrudePrev', 'CHD_Crude95CI', 'CHECKUP_CrudePrev', 'CHECKUP_Crude95CI', 'CHOLSCREEN_CrudePrev', 'CHOLSCREEN_Crude95CI', 'COLON_SCREEN_CrudePrev', 'COLON_SCREEN_Crude95CI', 'COPD_CrudePrev', 'COPD_Crude95CI', 'COREM_CrudePrev', 'COREM_Crude95CI', 'COREW_CrudePrev', 'COREW_Crude95CI', 'CSMOKING_CrudePrev', 'CSMOKING_Crude95CI', 'DENTAL_CrudePrev', 'DENTAL_Crude95CI', 'DIABETES_CrudePrev', 'DIABETES_Crude95CI', 'HIGHCHOL_CrudePrev', 'HIGHCHOL_Crude95CI', 'KIDNEY_CrudePrev', 'KIDNEY_Crude95CI', 'LPA_CrudePrev', 'LPA_Crude95CI', 'MAMMOUSE_CrudePrev', 'MAMMOUSE_Crude95CI', 'MHLTH_CrudePrev', 'MHLTH_Crude95CI', 'OBESITY_CrudePrev', 'OBESITY_Crude95CI', 'PAPTEST_CrudePrev', 'PAPTEST_Crude95CI', 'PHLTH_CrudePrev', 'PHLTH_Crude95CI', 'SLEEP_CrudePrev', 'SLEEP_Crude95CI', 'STROKE_CrudePrev', 'STROKE_Crude95CI', 'TEETHLOST_CrudePrev', 'TEETHLOST_Crude95CI', 'Geolocation', 'lat', 'lon', 'index_y', 'FIPS', 'State', 'County', 'LACCESS_POP10', 'LACCESS_POP15', 'PCH_LACCESS_POP_10_15', 'PCT_LACCESS_POP10', 'PCT_LACCESS_POP15', 'LACCESS_LOWI10', 'LACCESS_LOWI15', 'PCH_LACCESS_LOWI_10_15', 'PCT_LACCESS_LOWI10', 'PCT_LACCESS_LOWI15', 'LACCESS_HHNV10', 'LACCESS_HHNV15', 'PCH_LACCESS_HHNV_10_15', 'PCT_LACCESS_HHNV10', 'PCT_LACCESS_HHNV15', 'LACCESS_SNAP15', 'PCT_LACCESS_SNAP15', 'LACCESS_CHILD10', 'LACCESS_CHILD15', 'LACCESS_CHILD_10_15', 'PCT_LACCESS_CHILD10', 'PCT_LACCESS_CHILD15', 'LACCESS_SENIORS10', 'LACCESS_SENIORS15', 'PCH_LACCESS_SENIORS_10_15', 'PCT_LACCESS_SENIORS10', 'PCT_LACCESS_SENIORS15', 'LACCESS_WHITE15', 'PCT_LACCESS_WHITE15', 'LACCESS_BLACK15', 'PCT_LACCESS_BLACK15', 'LACCESS_HISP15', 'PCT_LACCESS_HISP15', 'LACCESS_NHASIAN15', 'PCT_LACCESS_NHASIAN15', 'LACCESS_NHNA15', 'PCT_LACCESS_NHNA15', 'LACCESS_NHPI15', 'PCT_LACCESS_NHPI15', 'LACCESS_MULTIR15', 'PCT_LACCESS_MULTIR15']\n"
     ]
    }
   ],
   "source": [
    "#now, to make analysis easier since we want to consider both factors from the FDA food atlas and from the\n",
    "#CDC 500 cities dataset, we're gonna merge the two tables. as i specified in the README.md, i noted that the\n",
    "#first 5 digits of the tract FIPS code for the 500 cities dataset (not the city FIPS code for the 500 cities dataset)\n",
    "#and the first 5 digits of the FIPS code for the FDA food atlas match \n",
    "#we also will extract lat/lon from geolocation \"(lat, lon)\" strings for visualization purposes later (specifically visualization 1)\n",
    "cities_df[[\"lat\",\"lon\"]] = cities_df[\"Geolocation\"].str.strip(\"()\").str.split(\",\", expand=True)\n",
    "cities_df[\"lat\"] = cities_df[\"lat\"].astype(float)\n",
    "cities_df[\"lon\"] = cities_df[\"lon\"].astype(float)\n",
    "merged = cities_df.merge(\n",
    "    access_df,\n",
    "    left_on=\"TractFIPS\",   #county FIPS from cities in tract FIPS\n",
    "    right_on=\"FIPS\",       #padded county FIPS from the access table\n",
    "    how=\"inner\"            #only keep matches\n",
    ")\n",
    "print(merged.columns.tolist()) #making sure all the columns merged"
   ]
  },
  {
   "cell_type": "code",
   "execution_count": 5,
   "id": "a69123d7",
   "metadata": {},
   "outputs": [
    {
     "name": "stdout",
     "output_type": "stream",
     "text": [
      "total rows in merged dataset: 27210\n",
      "number of rows with at least one missing value in key columns: 190\n",
      "total rows after dropping missing value rows: 27020\n"
     ]
    }
   ],
   "source": [
    "#here, i'll be cleaning up the data for NaN/missing data by just dropping rows that include missing data.\n",
    "#i'll print out the total number of rows, and the number of rows with at least one missing value so it can be\n",
    "#seen that the number of rows dropped is not a large portion of the total number of rows we have.\n",
    "total_rows = len(merged)\n",
    "print(f\"total rows in merged dataset: {total_rows}\")\n",
    "\n",
    "#these are columns that i use for visualization later on\n",
    "key_cols = [\n",
    "    \"PCT_LACCESS_POP15\", \"COPD_CrudePrev\", \"CASTHMA_CrudePrev\",\n",
    "    \"DIABETES_CrudePrev\", \"ARTHRITIS_CrudePrev\", \"BPHIGH_CrudePrev\",\n",
    "    \"COREM_CrudePrev\", \"COREW_CrudePrev\",\n",
    "    \"Population2010\",\n",
    "    \"LACCESS_LOWI15\", \"LACCESS_HHNV15\", \"LACCESS_SNAP15\",\n",
    "    \"LACCESS_CHILD15\", \"LACCESS_SENIORS15\", \"LACCESS_WHITE15\",\n",
    "    \"LACCESS_BLACK15\", \"LACCESS_HISP15\", \"LACCESS_NHASIAN15\",\n",
    "    \"LACCESS_NHNA15\", \"LACCESS_NHPI15\", \"LACCESS_MULTIR15\"\n",
    "]\n",
    "\n",
    "merged = merged.replace([-9999, -8888, -1, \"N/A\", \"NA\", \"NaN\"], np.nan)\n",
    "rows_with_missing = merged[key_cols].isna().any(axis=1).sum()\n",
    "print(f\"number of rows with at least one missing value in key columns: {rows_with_missing}\")\n",
    "\n",
    "#dropping rows where key identifiers or metrics are missing\n",
    "merged = merged.dropna(subset=key_cols)\n",
    "total_after_merge = len(merged)\n",
    "print(f\"total rows after dropping missing value rows: {total_after_merge}\")"
   ]
  },
  {
   "cell_type": "markdown",
   "id": "d1864a68",
   "metadata": {},
   "source": [
    "## Visualization 1 (the where)\n",
    "This visualization aims to help supplement the guiding question **\"where should we deploy a food access program?\"**\n",
    "\n",
    "We can find this out by first considering that the only table we have available for analysis from the FDA Food Access dataset is the \"ACCESS\" sub-table, which contains information about access and proximity to grocery stores with the following subcategories within that category:\n",
    "- overall (population with low-access)\n",
    "- household resources (low income & low access, households with no car & low access, SNAP households & low access)\n",
    "- demographics (children, seniors, hispanic ethnicity, asian, american indian or alaska native, asian, hawaiian or pacific islander, multiracial with low access)\n",
    "\n",
    "We should also consider that for the 500 cities dataset, though some of the columns regarding different health conditions and their prevalences only consider elderly populations (>= 65 years old or 50-74 years old) or only adult men or only adult women, generally it doesn't account for factors such as household resources or demographics but rather just for a general age range (18-64), it looks at \"what is the crude prevalence of this health condition?\"\n",
    "\n",
    "Since we want to consider data from both datasets when we are considering where to deploy a food access program, we'll only consider the overall access to grocery stores (general population with low-access) from the FDA Food Access dataset so as to match the generality of the 500 cities dataset.\n",
    "\n",
    "Though we have past data that we can use and a percent change we can consider with access to food in specific areas (change from 2010-2015), I will only be using the percentage of population impacted by low access to food in specific areas from the most recent data (2015) so that we can target where need is highest now. For an example on why we want to target this to answer the question of where we should deploy a food access program now, we can consider that if we have a town with a large change of overall low access to grocery stores of 3% to 6% from 2010 to 2015 and another town with no change of overall low access to grocery stores of 25% to 25% from 2010 to 2015, we would want to target the latter town for food access programs since, although they have didn't change, they are experiencing more food access challenges with more of their population now.\n",
    "\n",
    "In a 2024 study by Gregory and Jones on health challenges related to household food security (https://www.ers.FDA.gov/data-products/charts-of-note/chart-detail?chartId=108211), it was found that 5 chronic diseases increased their prevalence as household food security worsened. These diseases were **hypertension, arthritis, diabetes, asthma, and COPD**. The age range included was ages 19-64 working adults, with compared household food security ranging from high, marginal, low, and very low. I'll be using these 5 diseases as the target ones to look for in the 500 cities dataset related to low food access in the FDA food atlas dataset when trying to find locations to deploy a food access program."
   ]
  },
  {
   "cell_type": "code",
   "execution_count": 6,
   "id": "7f240854",
   "metadata": {},
   "outputs": [],
   "source": [
    "#what are the columns that I want to analyze for this? (note: hypertension = long-term high blood pressure)\n",
    "    #county, city, state for the actual location (County, PlaceName, State)\n",
    "    #PCT_LACCESS_POP15 from the FDA food atlas dataset -> indicates population, low access to store (%), 2015\n",
    "    #COPD_CrudePrev from the 500 cities dataset -> indicates the model-based estimate for crude prevalence of chronic obstructive pulmonary disease among adults aged >=18 years\n",
    "    #CASTHMA_CrudePrev from the 500 cities dataset -> indicates the model-based estimate for crude prevalence of current asthma among adults aged >=18 years\n",
    "    #DIABETES_CrudePrev from the 500 cities dataset -> indicates the model-based estimate for crude prevalence of diagnosed diabetes among adults aged >=18 years\n",
    "    #ARTHRITIS_CrudePrev from the 500 cities dataset -> indicates the model-based estimate for crude prevalence of arthritis among adults aged >=18 years\n",
    "    #BPHIGH_CrudePrev from the 500 cities dataset -> indicates the model-based estimate for crude prevalence of high blood pressure among adults aged >=18 years\n",
    "\n",
    "#first, what we'll do is calculate a \"priority score\" for each county that we have available in our merged dataset.\n",
    "#this will be calculated as the following:\n",
    "    #mean(disease scores for copd, asthma, diabetes, arthritis, and hypertension) * low access to store % for that county\n",
    "#the higher the score -> the more priority we should designate to that county to designate resources.\n",
    "#why does this work? -> multiplication highlights counties with both high food access problems AND high disease prevalence\n",
    "\n",
    "#creating a copy of the merged df for adding in the calculatuions of disease avg and priority score for each location\n",
    "vis1_data = merged.copy() \n",
    "vis1_data[\"disease_avg\"] = vis1_data[[\"COPD_CrudePrev\", \"CASTHMA_CrudePrev\", \"DIABETES_CrudePrev\",\"ARTHRITIS_CrudePrev\", \"BPHIGH_CrudePrev\"]].mean(axis=1)\n",
    "vis1_data[\"priority_score\"] = vis1_data[\"PCT_LACCESS_POP15\"] * vis1_data[\"disease_avg\"]\n",
    "\n",
    "#now we aggregate the data on a county-level and state-level for the purposes of the visualization.\n",
    "county_data = vis1_data.groupby([\"FIPS\", \"County\", \"State\"]).agg(\n",
    "    priority_score=(\"priority_score\", \"mean\"), #average priority score across all tracts in that county\n",
    "    lat=(\"lat\", \"mean\"), #average the centroid coordinates\n",
    "    lon=(\"lon\", \"mean\") #average the centroid coordinates\n",
    ").reset_index() #make it into a normal df\n",
    "\n",
    "state_data = county_data.groupby(\"State\").agg(\n",
    "    priority_score=(\"priority_score\", \"mean\") #average priority score across all counties in that state\n",
    ").reset_index() #make it into a normal df\n",
    "\n",
    "#we also normalize the data to be on a 0-100 scale for the priority score so the visualization is easier to understand\n",
    "min_val = state_data[\"priority_score\"].min()\n",
    "max_val = state_data[\"priority_score\"].max()\n",
    "state_data[\"priority_score_norm\"] = ((state_data[\"priority_score\"] - min_val) / (max_val - min_val) * 100)\n",
    "\n",
    "#we get the top 10 highest priority score counties overall (not per state) to display on the map\n",
    "#as the areas we should focus on\n",
    "top10 = county_data.nlargest(10, \"priority_score\").copy()\n",
    "#need to normalize data to be on 0-100 scale for the top 10 counties as well (like we did at the state level)\n",
    "min_val_c = county_data[\"priority_score\"].min()\n",
    "max_val_c = county_data[\"priority_score\"].max()\n",
    "top10[\"priority_score_norm\"] = ((top10[\"priority_score\"] - min_val_c) / (max_val_c - min_val_c) * 100)\n",
    "top10 = top10.sort_values(\"priority_score\", ascending=False).reset_index(drop=True) #sort the values in descending order\n",
    "\n",
    "#adding labels to the top 10 counties: rank, county, state and priority score\n",
    "top10[\"RankLabel\"] = (\n",
    "    (top10.index+1).astype(str) + \". \" +\n",
    "    top10[\"County\"] + \", \" +\n",
    "    top10[\"State\"] +\n",
    "    \" (\" + top10[\"priority_score_norm\"].round(1).astype(str) + \")\"\n",
    ")"
   ]
  },
  {
   "cell_type": "code",
   "execution_count": 7,
   "id": "3cebe537",
   "metadata": {},
   "outputs": [
    {
     "data": {
      "application/vnd.plotly.v1+json": {
       "config": {
        "plotlyServerURL": "https://plot.ly"
       },
       "data": [
        {
         "colorbar": {
          "len": 0.6,
          "thickness": 15,
          "title": {
           "text": "Priority Score (0–100)"
          },
          "x": 1,
          "y": 0.5
         },
         "colorscale": [
          [
           0,
           "rgb(5,48,97)"
          ],
          [
           0.1,
           "rgb(33,102,172)"
          ],
          [
           0.2,
           "rgb(67,147,195)"
          ],
          [
           0.3,
           "rgb(146,197,222)"
          ],
          [
           0.4,
           "rgb(209,229,240)"
          ],
          [
           0.5,
           "rgb(247,247,247)"
          ],
          [
           0.6,
           "rgb(253,219,199)"
          ],
          [
           0.7,
           "rgb(244,165,130)"
          ],
          [
           0.8,
           "rgb(214,96,77)"
          ],
          [
           0.9,
           "rgb(178,24,43)"
          ],
          [
           1,
           "rgb(103,0,31)"
          ]
         ],
         "locationmode": "USA-states",
         "locations": [
          "AK",
          "AL",
          "AR",
          "AZ",
          "CA",
          "CO",
          "CT",
          "DC",
          "DE",
          "FL",
          "GA",
          "HI",
          "IA",
          "ID",
          "IL",
          "IN",
          "KS",
          "KY",
          "LA",
          "MA",
          "MD",
          "ME",
          "MI",
          "MN",
          "MO",
          "MS",
          "MT",
          "NC",
          "ND",
          "NE",
          "NH",
          "NJ",
          "NM",
          "NV",
          "NY",
          "OH",
          "OK",
          "OR",
          "PA",
          "RI",
          "SC",
          "SD",
          "TN",
          "TX",
          "UT",
          "VA",
          "VT",
          "WA",
          "WI",
          "WV",
          "WY"
         ],
         "showscale": true,
         "type": "choropleth",
         "z": {
          "bdata": "C6ExEVknTUDacskSioJSQFRNq5fhC0VAMnNakjL7RUDT4oW2KJ87QIdpO+Yhw0NAwY/GRYCgUkAAAAAAAAAAADLa/PBWRlFAup+vNOGZUEBzdLA11axSQKDYNBDYuUlAtHdEcZQGSEByHKmJKVREQLjcXuDtJE1AWoNa3gc8UkCd/UtpBtVLQKCZAHy0nEZASSrcXbnDUEBGh2tITyZRQLTTiPBRnf4/TvR1aJIHR0DJ9CUPhttRQMYpouTLXUZAN1sui6H6TEAAAAAAAABZQHOSyL5fNElAw1zgta1zTECmd1bF1MY5QFget2Xt3zRAOnRhxmvgVUAi4ZFrtBRCQAXwiklMR1JAoiUsd+5iQ0BYQ6NosQdAQKMyDFQpulJALwaGR17mUUCmCGJ52oJCQCacLZ/uhUlAMBH+xyvxTkDSAkaTS45KQOT9c1mu/kNAzxzjPqqPVkAiFMsFXVFNQIl6rzeWXUdAw1Gb4jchTEB+ECq+P9w+QGm5zncENUlAhAr8tbQTSUCiXDXp/LJWQOyzidU4blVA",
          "dtype": "f8"
         }
        },
        {
         "hoverinfo": "text",
         "lat": [
          35.055057016784
         ],
         "legendgroup": "group1",
         "lon": [
          -85.251448867882
         ],
         "marker": {
          "color": "black",
          "line": {
           "color": "white",
           "width": 1
          },
          "size": 10
         },
         "mode": "markers+text",
         "name": "1. Hamilton, TN",
         "showlegend": true,
         "text": "#1",
         "textfont": {
          "color": "black",
          "size": 12
         },
         "textposition": "top center",
         "type": "scattergeo"
        },
        {
         "hoverinfo": "text",
         "lat": [
          31.57663416744
         ],
         "legendgroup": "group2",
         "lon": [
          -84.17337340270801
         ],
         "marker": {
          "color": "black",
          "line": {
           "color": "white",
           "width": 1
          },
          "size": 10
         },
         "mode": "markers+text",
         "name": "2. Dougherty, GA",
         "showlegend": true,
         "text": "#2",
         "textfont": {
          "color": "black",
          "size": 12
         },
         "textposition": "top center",
         "type": "scattergeo"
        },
        {
         "hoverinfo": "text",
         "lat": [
          43.03156113661539
         ],
         "legendgroup": "group3",
         "lon": [
          -83.69053786418975
         ],
         "marker": {
          "color": "black",
          "line": {
           "color": "white",
           "width": 1
          },
          "size": 10
         },
         "mode": "markers+text",
         "name": "3. Genesee, MI",
         "showlegend": true,
         "text": "#3",
         "textfont": {
          "color": "black",
          "size": 12
         },
         "textposition": "top center",
         "type": "scattergeo"
        },
        {
         "hoverinfo": "text",
         "lat": [
          33.432308732308506
         ],
         "legendgroup": "group4",
         "lon": [
          -82.03843662738085
         ],
         "marker": {
          "color": "black",
          "line": {
           "color": "white",
           "width": 1
          },
          "size": 10
         },
         "mode": "markers+text",
         "name": "4. Richmond, GA",
         "showlegend": true,
         "text": "#4",
         "textfont": {
          "color": "black",
          "size": 12
         },
         "textposition": "top center",
         "type": "scattergeo"
        },
        {
         "hoverinfo": "text",
         "lat": [
          42.08337861982857
         ],
         "legendgroup": "group5",
         "lon": [
          -71.02350304913332
         ],
         "marker": {
          "color": "black",
          "line": {
           "color": "white",
           "width": 1
          },
          "size": 10
         },
         "mode": "markers+text",
         "name": "5. Plymouth, MA",
         "showlegend": true,
         "text": "#5",
         "textfont": {
          "color": "black",
          "size": 12
         },
         "textposition": "top center",
         "type": "scattergeo"
        },
        {
         "hoverinfo": "text",
         "lat": [
          28.064137144145946
         ],
         "legendgroup": "group6",
         "lon": [
          -80.64541894978107
         ],
         "marker": {
          "color": "black",
          "line": {
           "color": "white",
           "width": 1
          },
          "size": 10
         },
         "mode": "markers+text",
         "name": "6. Brevard, FL",
         "showlegend": true,
         "text": "#6",
         "textfont": {
          "color": "black",
          "size": 12
         },
         "textposition": "top center",
         "type": "scattergeo"
        },
        {
         "hoverinfo": "text",
         "lat": [
          36.179497482900004
         ],
         "legendgroup": "group7",
         "lon": [
          -96.02919527655
         ],
         "marker": {
          "color": "black",
          "line": {
           "color": "white",
           "width": 1
          },
          "size": 10
         },
         "mode": "markers+text",
         "name": "7. Osage, OK",
         "showlegend": true,
         "text": "#7",
         "textfont": {
          "color": "black",
          "size": 12
         },
         "textposition": "top center",
         "type": "scattergeo"
        },
        {
         "hoverinfo": "text",
         "lat": [
          41.592296863053996
         ],
         "legendgroup": "group8",
         "lon": [
          -87.40048667773601
         ],
         "marker": {
          "color": "black",
          "line": {
           "color": "white",
           "width": 1
          },
          "size": 10
         },
         "mode": "markers+text",
         "name": "8. Lake, IN",
         "showlegend": true,
         "text": "#8",
         "textfont": {
          "color": "black",
          "size": 12
         },
         "textposition": "top center",
         "type": "scattergeo"
        },
        {
         "hoverinfo": "text",
         "lat": [
          30.41222605747143
         ],
         "legendgroup": "group9",
         "lon": [
          -89.07881356990953
         ],
         "marker": {
          "color": "black",
          "line": {
           "color": "white",
           "width": 1
          },
          "size": 10
         },
         "mode": "markers+text",
         "name": "9. Harrison, MS",
         "showlegend": true,
         "text": "#9",
         "textfont": {
          "color": "black",
          "size": 12
         },
         "textposition": "top center",
         "type": "scattergeo"
        },
        {
         "hoverinfo": "text",
         "lat": [
          33.89846471841334
         ],
         "legendgroup": "group10",
         "lon": [
          -98.51685430640333
         ],
         "marker": {
          "color": "black",
          "line": {
           "color": "white",
           "width": 1
          },
          "size": 10
         },
         "mode": "markers+text",
         "name": "10. Wichita, TX",
         "showlegend": true,
         "text": "#10",
         "textfont": {
          "color": "black",
          "size": 12
         },
         "textposition": "top center",
         "type": "scattergeo"
        }
       ],
       "layout": {
        "geo": {
         "scope": "usa"
        },
        "height": 750,
        "legend": {
         "bgcolor": "rgba(255,255,255,0.6)",
         "bordercolor": "gray",
         "borderwidth": 0.5,
         "font": {
          "size": 11
         },
         "title": {
          "text": "Top 10 Counties"
         },
         "x": -0.12,
         "y": 0.5
        },
        "showlegend": true,
        "template": {
         "data": {
          "bar": [
           {
            "error_x": {
             "color": "#2a3f5f"
            },
            "error_y": {
             "color": "#2a3f5f"
            },
            "marker": {
             "line": {
              "color": "#E5ECF6",
              "width": 0.5
             },
             "pattern": {
              "fillmode": "overlay",
              "size": 10,
              "solidity": 0.2
             }
            },
            "type": "bar"
           }
          ],
          "barpolar": [
           {
            "marker": {
             "line": {
              "color": "#E5ECF6",
              "width": 0.5
             },
             "pattern": {
              "fillmode": "overlay",
              "size": 10,
              "solidity": 0.2
             }
            },
            "type": "barpolar"
           }
          ],
          "carpet": [
           {
            "aaxis": {
             "endlinecolor": "#2a3f5f",
             "gridcolor": "white",
             "linecolor": "white",
             "minorgridcolor": "white",
             "startlinecolor": "#2a3f5f"
            },
            "baxis": {
             "endlinecolor": "#2a3f5f",
             "gridcolor": "white",
             "linecolor": "white",
             "minorgridcolor": "white",
             "startlinecolor": "#2a3f5f"
            },
            "type": "carpet"
           }
          ],
          "choropleth": [
           {
            "colorbar": {
             "outlinewidth": 0,
             "ticks": ""
            },
            "type": "choropleth"
           }
          ],
          "contour": [
           {
            "colorbar": {
             "outlinewidth": 0,
             "ticks": ""
            },
            "colorscale": [
             [
              0,
              "#0d0887"
             ],
             [
              0.1111111111111111,
              "#46039f"
             ],
             [
              0.2222222222222222,
              "#7201a8"
             ],
             [
              0.3333333333333333,
              "#9c179e"
             ],
             [
              0.4444444444444444,
              "#bd3786"
             ],
             [
              0.5555555555555556,
              "#d8576b"
             ],
             [
              0.6666666666666666,
              "#ed7953"
             ],
             [
              0.7777777777777778,
              "#fb9f3a"
             ],
             [
              0.8888888888888888,
              "#fdca26"
             ],
             [
              1,
              "#f0f921"
             ]
            ],
            "type": "contour"
           }
          ],
          "contourcarpet": [
           {
            "colorbar": {
             "outlinewidth": 0,
             "ticks": ""
            },
            "type": "contourcarpet"
           }
          ],
          "heatmap": [
           {
            "colorbar": {
             "outlinewidth": 0,
             "ticks": ""
            },
            "colorscale": [
             [
              0,
              "#0d0887"
             ],
             [
              0.1111111111111111,
              "#46039f"
             ],
             [
              0.2222222222222222,
              "#7201a8"
             ],
             [
              0.3333333333333333,
              "#9c179e"
             ],
             [
              0.4444444444444444,
              "#bd3786"
             ],
             [
              0.5555555555555556,
              "#d8576b"
             ],
             [
              0.6666666666666666,
              "#ed7953"
             ],
             [
              0.7777777777777778,
              "#fb9f3a"
             ],
             [
              0.8888888888888888,
              "#fdca26"
             ],
             [
              1,
              "#f0f921"
             ]
            ],
            "type": "heatmap"
           }
          ],
          "histogram": [
           {
            "marker": {
             "pattern": {
              "fillmode": "overlay",
              "size": 10,
              "solidity": 0.2
             }
            },
            "type": "histogram"
           }
          ],
          "histogram2d": [
           {
            "colorbar": {
             "outlinewidth": 0,
             "ticks": ""
            },
            "colorscale": [
             [
              0,
              "#0d0887"
             ],
             [
              0.1111111111111111,
              "#46039f"
             ],
             [
              0.2222222222222222,
              "#7201a8"
             ],
             [
              0.3333333333333333,
              "#9c179e"
             ],
             [
              0.4444444444444444,
              "#bd3786"
             ],
             [
              0.5555555555555556,
              "#d8576b"
             ],
             [
              0.6666666666666666,
              "#ed7953"
             ],
             [
              0.7777777777777778,
              "#fb9f3a"
             ],
             [
              0.8888888888888888,
              "#fdca26"
             ],
             [
              1,
              "#f0f921"
             ]
            ],
            "type": "histogram2d"
           }
          ],
          "histogram2dcontour": [
           {
            "colorbar": {
             "outlinewidth": 0,
             "ticks": ""
            },
            "colorscale": [
             [
              0,
              "#0d0887"
             ],
             [
              0.1111111111111111,
              "#46039f"
             ],
             [
              0.2222222222222222,
              "#7201a8"
             ],
             [
              0.3333333333333333,
              "#9c179e"
             ],
             [
              0.4444444444444444,
              "#bd3786"
             ],
             [
              0.5555555555555556,
              "#d8576b"
             ],
             [
              0.6666666666666666,
              "#ed7953"
             ],
             [
              0.7777777777777778,
              "#fb9f3a"
             ],
             [
              0.8888888888888888,
              "#fdca26"
             ],
             [
              1,
              "#f0f921"
             ]
            ],
            "type": "histogram2dcontour"
           }
          ],
          "mesh3d": [
           {
            "colorbar": {
             "outlinewidth": 0,
             "ticks": ""
            },
            "type": "mesh3d"
           }
          ],
          "parcoords": [
           {
            "line": {
             "colorbar": {
              "outlinewidth": 0,
              "ticks": ""
             }
            },
            "type": "parcoords"
           }
          ],
          "pie": [
           {
            "automargin": true,
            "type": "pie"
           }
          ],
          "scatter": [
           {
            "fillpattern": {
             "fillmode": "overlay",
             "size": 10,
             "solidity": 0.2
            },
            "type": "scatter"
           }
          ],
          "scatter3d": [
           {
            "line": {
             "colorbar": {
              "outlinewidth": 0,
              "ticks": ""
             }
            },
            "marker": {
             "colorbar": {
              "outlinewidth": 0,
              "ticks": ""
             }
            },
            "type": "scatter3d"
           }
          ],
          "scattercarpet": [
           {
            "marker": {
             "colorbar": {
              "outlinewidth": 0,
              "ticks": ""
             }
            },
            "type": "scattercarpet"
           }
          ],
          "scattergeo": [
           {
            "marker": {
             "colorbar": {
              "outlinewidth": 0,
              "ticks": ""
             }
            },
            "type": "scattergeo"
           }
          ],
          "scattergl": [
           {
            "marker": {
             "colorbar": {
              "outlinewidth": 0,
              "ticks": ""
             }
            },
            "type": "scattergl"
           }
          ],
          "scattermap": [
           {
            "marker": {
             "colorbar": {
              "outlinewidth": 0,
              "ticks": ""
             }
            },
            "type": "scattermap"
           }
          ],
          "scattermapbox": [
           {
            "marker": {
             "colorbar": {
              "outlinewidth": 0,
              "ticks": ""
             }
            },
            "type": "scattermapbox"
           }
          ],
          "scatterpolar": [
           {
            "marker": {
             "colorbar": {
              "outlinewidth": 0,
              "ticks": ""
             }
            },
            "type": "scatterpolar"
           }
          ],
          "scatterpolargl": [
           {
            "marker": {
             "colorbar": {
              "outlinewidth": 0,
              "ticks": ""
             }
            },
            "type": "scatterpolargl"
           }
          ],
          "scatterternary": [
           {
            "marker": {
             "colorbar": {
              "outlinewidth": 0,
              "ticks": ""
             }
            },
            "type": "scatterternary"
           }
          ],
          "surface": [
           {
            "colorbar": {
             "outlinewidth": 0,
             "ticks": ""
            },
            "colorscale": [
             [
              0,
              "#0d0887"
             ],
             [
              0.1111111111111111,
              "#46039f"
             ],
             [
              0.2222222222222222,
              "#7201a8"
             ],
             [
              0.3333333333333333,
              "#9c179e"
             ],
             [
              0.4444444444444444,
              "#bd3786"
             ],
             [
              0.5555555555555556,
              "#d8576b"
             ],
             [
              0.6666666666666666,
              "#ed7953"
             ],
             [
              0.7777777777777778,
              "#fb9f3a"
             ],
             [
              0.8888888888888888,
              "#fdca26"
             ],
             [
              1,
              "#f0f921"
             ]
            ],
            "type": "surface"
           }
          ],
          "table": [
           {
            "cells": {
             "fill": {
              "color": "#EBF0F8"
             },
             "line": {
              "color": "white"
             }
            },
            "header": {
             "fill": {
              "color": "#C8D4E3"
             },
             "line": {
              "color": "white"
             }
            },
            "type": "table"
           }
          ]
         },
         "layout": {
          "annotationdefaults": {
           "arrowcolor": "#2a3f5f",
           "arrowhead": 0,
           "arrowwidth": 1
          },
          "autotypenumbers": "strict",
          "coloraxis": {
           "colorbar": {
            "outlinewidth": 0,
            "ticks": ""
           }
          },
          "colorscale": {
           "diverging": [
            [
             0,
             "#8e0152"
            ],
            [
             0.1,
             "#c51b7d"
            ],
            [
             0.2,
             "#de77ae"
            ],
            [
             0.3,
             "#f1b6da"
            ],
            [
             0.4,
             "#fde0ef"
            ],
            [
             0.5,
             "#f7f7f7"
            ],
            [
             0.6,
             "#e6f5d0"
            ],
            [
             0.7,
             "#b8e186"
            ],
            [
             0.8,
             "#7fbc41"
            ],
            [
             0.9,
             "#4d9221"
            ],
            [
             1,
             "#276419"
            ]
           ],
           "sequential": [
            [
             0,
             "#0d0887"
            ],
            [
             0.1111111111111111,
             "#46039f"
            ],
            [
             0.2222222222222222,
             "#7201a8"
            ],
            [
             0.3333333333333333,
             "#9c179e"
            ],
            [
             0.4444444444444444,
             "#bd3786"
            ],
            [
             0.5555555555555556,
             "#d8576b"
            ],
            [
             0.6666666666666666,
             "#ed7953"
            ],
            [
             0.7777777777777778,
             "#fb9f3a"
            ],
            [
             0.8888888888888888,
             "#fdca26"
            ],
            [
             1,
             "#f0f921"
            ]
           ],
           "sequentialminus": [
            [
             0,
             "#0d0887"
            ],
            [
             0.1111111111111111,
             "#46039f"
            ],
            [
             0.2222222222222222,
             "#7201a8"
            ],
            [
             0.3333333333333333,
             "#9c179e"
            ],
            [
             0.4444444444444444,
             "#bd3786"
            ],
            [
             0.5555555555555556,
             "#d8576b"
            ],
            [
             0.6666666666666666,
             "#ed7953"
            ],
            [
             0.7777777777777778,
             "#fb9f3a"
            ],
            [
             0.8888888888888888,
             "#fdca26"
            ],
            [
             1,
             "#f0f921"
            ]
           ]
          },
          "colorway": [
           "#636efa",
           "#EF553B",
           "#00cc96",
           "#ab63fa",
           "#FFA15A",
           "#19d3f3",
           "#FF6692",
           "#B6E880",
           "#FF97FF",
           "#FECB52"
          ],
          "font": {
           "color": "#2a3f5f"
          },
          "geo": {
           "bgcolor": "white",
           "lakecolor": "white",
           "landcolor": "#E5ECF6",
           "showlakes": true,
           "showland": true,
           "subunitcolor": "white"
          },
          "hoverlabel": {
           "align": "left"
          },
          "hovermode": "closest",
          "mapbox": {
           "style": "light"
          },
          "paper_bgcolor": "white",
          "plot_bgcolor": "#E5ECF6",
          "polar": {
           "angularaxis": {
            "gridcolor": "white",
            "linecolor": "white",
            "ticks": ""
           },
           "bgcolor": "#E5ECF6",
           "radialaxis": {
            "gridcolor": "white",
            "linecolor": "white",
            "ticks": ""
           }
          },
          "scene": {
           "xaxis": {
            "backgroundcolor": "#E5ECF6",
            "gridcolor": "white",
            "gridwidth": 2,
            "linecolor": "white",
            "showbackground": true,
            "ticks": "",
            "zerolinecolor": "white"
           },
           "yaxis": {
            "backgroundcolor": "#E5ECF6",
            "gridcolor": "white",
            "gridwidth": 2,
            "linecolor": "white",
            "showbackground": true,
            "ticks": "",
            "zerolinecolor": "white"
           },
           "zaxis": {
            "backgroundcolor": "#E5ECF6",
            "gridcolor": "white",
            "gridwidth": 2,
            "linecolor": "white",
            "showbackground": true,
            "ticks": "",
            "zerolinecolor": "white"
           }
          },
          "shapedefaults": {
           "line": {
            "color": "#2a3f5f"
           }
          },
          "ternary": {
           "aaxis": {
            "gridcolor": "white",
            "linecolor": "white",
            "ticks": ""
           },
           "baxis": {
            "gridcolor": "white",
            "linecolor": "white",
            "ticks": ""
           },
           "bgcolor": "#E5ECF6",
           "caxis": {
            "gridcolor": "white",
            "linecolor": "white",
            "ticks": ""
           }
          },
          "title": {
           "x": 0.05
          },
          "xaxis": {
           "automargin": true,
           "gridcolor": "white",
           "linecolor": "white",
           "ticks": "",
           "title": {
            "standoff": 15
           },
           "zerolinecolor": "white",
           "zerolinewidth": 2
          },
          "yaxis": {
           "automargin": true,
           "gridcolor": "white",
           "linecolor": "white",
           "ticks": "",
           "title": {
            "standoff": 15
           },
           "zerolinecolor": "white",
           "zerolinewidth": 2
          }
         }
        },
        "title": {
         "font": {
          "size": 18
         },
         "text": "State-Level Food Access Program Priority<br>with Top 10 Counties Highlighted",
         "x": 0.5,
         "xanchor": "center",
         "y": 0.9,
         "yanchor": "top"
        }
       }
      }
     },
     "metadata": {},
     "output_type": "display_data"
    }
   ],
   "source": [
    "#here we'll actually generate the figure!\n",
    "fig = plt.Figure()\n",
    "#the background will be a state-level heatmap chloropleth\n",
    "fig.add_trace(plt.Choropleth(\n",
    "    locations=state_data[\"State\"], #which geographic places are being colored\n",
    "    z=state_data[\"priority_score_norm\"], #numeric values used to determine color for each state (normalized priority score)\n",
    "    locationmode=\"USA-states\", #how to interpret locations field\n",
    "    colorscale=\"RdBu_r\",   #color scheme to shade the states\n",
    "    colorbar_title=\"Priority Score (0–100)\", #color bar title\n",
    "    colorbar=dict(\n",
    "        len=0.6,           #scales down the colorbar length (default is 1)\n",
    "        thickness=15,      \n",
    "        x=1,             \n",
    "        y=0.5               \n",
    "    ),\n",
    "    showscale=True\n",
    "))\n",
    "\n",
    "#this overlays the top 10 counties we found before with markers and labels\n",
    "for i, row in top10.iterrows():\n",
    "    rank = i + 1\n",
    "    fig.add_trace(plt.Scattergeo(\n",
    "        lon=[row[\"lon\"]],\n",
    "        lat=[row[\"lat\"]],\n",
    "        mode=\"markers+text\",\n",
    "        name=f\"{rank}. {row['County']}, {row['State']}\",  # Legend text only\n",
    "        text=f\"#{rank}\",                                  # Rank label on map\n",
    "        textposition=\"top center\",\n",
    "        marker=dict(\n",
    "            size=10,\n",
    "            color=\"black\",\n",
    "            symbol=\"circle\",\n",
    "            line=dict(width=1, color=\"white\")\n",
    "        ),\n",
    "        showlegend=True,\n",
    "        legendgroup=f\"group{rank}\",\n",
    "        textfont=dict(size=12, color=\"black\"),\n",
    "        # ✅ This hides the dot marker in the legend\n",
    "        marker_symbol=None,\n",
    "        hoverinfo=\"text\"\n",
    "    ))\n",
    "fig.update_geos(scope=\"usa\") #tells plotly to show the usa\n",
    "#this part gives the plot a title, updates how big it'll be, and also tells it to not give it a legend (it'll overlap w/ the bar)\n",
    "fig.update_layout(\n",
    "    title=dict(\n",
    "        text=\"State-Level Food Access Program Priority<br>with Top 10 Counties Highlighted\",\n",
    "        y=0.9,\n",
    "        x=0.5,\n",
    "        xanchor=\"center\",\n",
    "        yanchor=\"top\",\n",
    "        font=dict(size=18)\n",
    "    ),\n",
    "    height=750,\n",
    "    showlegend=True,\n",
    "    legend=dict(\n",
    "        title=\"Top 10 Counties\",\n",
    "        x=-0.12,\n",
    "        y=0.5,\n",
    "        bgcolor=\"rgba(255,255,255,0.6)\",\n",
    "        bordercolor=\"gray\",\n",
    "        borderwidth=0.5,\n",
    "        font=dict(size=11)\n",
    "    )\n",
    ")\n",
    "fig.show() #show the figure\n"
   ]
  },
  {
   "cell_type": "markdown",
   "id": "71c614d4",
   "metadata": {},
   "source": [
    "## Visualization 2 & 3 (the who)\n",
    "This visualization aims to supplement the guiding questions **\"how many people will be included? how many might be successfully engaged?\"** and **\"which subgroup of the population might benefit the most from the program?\"**\n",
    "\n",
    "In order to answer these questions, we can first and foremost take into account that we already have the top 10 counties & states where we should be deploying food access programs. According to the above visualization and the data given, those are:\n",
    "1. Hamilton, TN\n",
    "2. Dougherty, GA\n",
    "3. Genesee, MI\n",
    "4. Richmond, GA\n",
    "5. Plymouth, MA\n",
    "6. Brevard, FL\n",
    "7. Osage, OK\n",
    "8. Lake, IN\n",
    "9. Harrison, MS\n",
    "10. Wichita, TX\n",
    "\n",
    "So, what we know for these areas is that their calculated \"priority score\", which is a multiplication of the percentage of the general population's low access to store as of 2015 and the crude prevalence of 5 chronic diseases who are most affected by limited food access in >= 18 year olds, is significantly high enough to be in this top 10. Therefore, these counties should be where the resources are deployed.\n",
    "\n",
    "In order to first answer the question, **how many people will be included?**, we should first consider the fact that the client is a national Medicare Advantage program, which is a form of health insurance. Therefore, any programs that would be deployed to help relieve food access would likely be targeting existing members of health insurance programs. We should also consider the fact that Medicare is a program generally meant for people 65 years or older, and some people under 65 with certain disabilities or conditions. Therefore, since the general population we are targeting for these food access programs would need to be on health insurance and 65+. What we can do is use a supplementary dataset called the \"County Demographics CSV File\" from the CORGIS Project by Ryan Whitcomb, Joung Min Choi, and Bo Guan (https://corgis-edu.github.io/corgis/csv/county_demographics/). In this dataset, we are given information \"about counties in the United States from 2010 through 2019 through the United States Census Bureau,\" and this includes a variable that is an \"estimated percentage of population whose ages are equal or greater than 65 years old\" for various County, State places in the United States. We can use this percentage, coupled with the \"Population2010\" census number value for each County, State place given from the 500 cities dataset, to calculate a relatively accurate estimate of the number of 65+ year old adults in that given area. Specifically, since we only need to consider the top 10 counties that we found earlier, we can just sort that CSV file for those specific top 10 counties and use those values. Values are denoted as -1 in this dataset if they are not available.\n",
    "\n",
    "Next, to answer the question **how many might be successfully engaged?** we should again consider the fact that the client we are presenting to is a National Medicare Advantage program, and we should likely look at the population that is 65+ and on health insurance. For engagement purposes, we can specifically use the variables \"COREM_CrudePrev\" and \"COREW_CrudePrev\" which provide:\n",
    "- Model-based estimate for crude prevalence of older adult men aged >=65 years who are up to date on a core set of clinical preventive services: Flu shot past year, PPV shot ever, Colorectal cancer screening, and\n",
    "- Model-based estimate for crude prevalence of older adult women aged >=65 years who are up to date on a core set of clinical preventive services: Flu shot past year, PPV shot ever, Colorectal cancer screening, and Mammogram\n",
    "\n",
    "These variables provide numbers we want to use for total population that would be engaged in these top 10 priority cities because they are in the target age range (65+) for Medicare Advantage programs, actively use healthcare services (and therefore likely have some form of health insurance), and are more likely to a health outreach/food access program like the one proposed for this.\n",
    "\n",
    "Last, to answer the question **which subgroup of the population might benefit the most from the program?**, we can use the FDA food atlas dataset as it contains more specific information about demographics and the like for which demographic groups are disproportionately affected within these top 10 counties, and therefore most likely to benefit from interventions. To be more clear with the figure, and also since within the dataset itself groups it this way, we will split up the visualization for this part into household-based subgroups affected and demographics-based subgroups affected by food access challenges. As a note, it's important to consider the fact that, when looking at this visualization, people can overlap in subgroup membership (e.g. be a part of a SNAP household, be a senior, and be white)."
   ]
  },
  {
   "cell_type": "code",
   "execution_count": 8,
   "id": "a85cf972",
   "metadata": {},
   "outputs": [
    {
     "name": "stdout",
     "output_type": "stream",
     "text": [
      "0 rows with missing -1 or NaN Percent65plus values\n",
      "remaining rows: 3139\n"
     ]
    }
   ],
   "source": [
    "#getting information from the corgis csv file, making sure to only include the columns we need\n",
    "#and clean the names\n",
    "demographic_data = pd.read_csv('county_demographics.csv')\n",
    "demographic_data = demographic_data.rename(columns={\n",
    "    \"County\": \"County\",\n",
    "    \"State\": \"State\",\n",
    "    \"Age.Percent 65 and Older\": \"Percent65plus\"\n",
    "})\n",
    "#removing any extra words that might come after the county name in the csv file\n",
    "def clean_county_name(name):\n",
    "    return (name.replace(\" County\", \"\")\n",
    "            .replace(\" Parish\", \"\")\n",
    "            .replace(\" City\", \"\")\n",
    "            .replace(\" Borough\", \"\")\n",
    "            .strip()\n",
    "            .title()\n",
    "    )\n",
    "demographic_data[\"County\"] = demographic_data[\"County\"].apply(clean_county_name)\n",
    "demographic_data[\"State\"] = demographic_data[\"State\"].str.strip().str.upper()\n",
    "\n",
    "#making sure that the percent 65 plus has no -1 values (missing values)\n",
    "before_rows = len(demographic_data)\n",
    "demographic_data = demographic_data[demographic_data[\"Percent65plus\"] != -1].dropna(subset=[\"Percent65plus\"])\n",
    "after_rows = len(demographic_data)\n",
    "\n",
    "print(f\"{before_rows - after_rows} rows with missing -1 or NaN Percent65plus values\")\n",
    "print(f\"remaining rows: {after_rows}\")"
   ]
  },
  {
   "cell_type": "code",
   "execution_count": 9,
   "id": "8903516d",
   "metadata": {},
   "outputs": [],
   "source": [
    "#for the subgroup part we have the following in the FDA food atlas for subgroups/demographics:\n",
    "#household resources (low income & low access, households with no car & low access, SNAP households & low access)\n",
    "#demographics (children, seniors, hispanic ethnicity, asian, american indian or alaska native, asian, hawaiian or pacific islander, multiracial with low access)\n",
    "#we do have some missing information for 2010 values, so we will have to use the 2015 values for these demographics.\n",
    "#how can we calculate impact for these subgroups? -> well, in the FDA food atlas each of these percentages for these\n",
    "#demographics indicates the number that had a LOW access to a grocery store\n",
    "#so we could take all of the values within these top 10 counties (2015 counts)\n",
    "#and find out which groups are most affected by low access to a grocery store in these 10 counties and therefore would\n",
    "#benefit most from the program. so for each subgroup, we calculate estimated affected individuals\n",
    "\n",
    "#we create a new copy of the merged dataframe for the purposes for getting all of the columns we need (that aren't in the\n",
    "#top10 dataframe we created earlier for visualization1)\n",
    "vis2_data = merged.copy()\n",
    "#getting the same sorted, merged by county data with inclusion of population, household and demographic low access to grocery store %\n",
    "#we do population-weighted mean for corem and corew calculation b/c we want to ensure that the percentages are as accurate as\n",
    "#possible for the county overall\n",
    "#we do .iloc[0] to just get the first value since in the FDA food atlas dataset we dont have duplicate counties but in the 500 cities one\n",
    "#we do so we dont want to sum up the counts for the FDA food atlas variables\n",
    "vis2_county = vis2_data.groupby([\"FIPS\", \"County\", \"State\"]).apply(\n",
    "    lambda x: pd.Series({\n",
    "        'population': x['Population2010'].sum(),\n",
    "        'corem': (x['COREM_CrudePrev'] * x['Population2010']).sum() / x['Population2010'].sum(),\n",
    "        'corew': (x['COREW_CrudePrev'] * x['Population2010']).sum() / x['Population2010'].sum(),\n",
    "        'low_income': x['LACCESS_LOWI15'].iloc[0],\n",
    "        'households_no_car': x['LACCESS_HHNV15'].iloc[0],\n",
    "        'SNAP_household': x['LACCESS_SNAP15'].iloc[0],\n",
    "        'children': x['LACCESS_CHILD15'].iloc[0],\n",
    "        'seniors': x['LACCESS_SENIORS15'].iloc[0],\n",
    "        'white': x['LACCESS_WHITE15'].iloc[0],\n",
    "        'black': x['LACCESS_BLACK15'].iloc[0],\n",
    "        'hispanic': x['LACCESS_HISP15'].iloc[0],\n",
    "        'asian': x['LACCESS_NHASIAN15'].iloc[0],\n",
    "        'american_indian_or_alaska_native': x['LACCESS_NHNA15'].iloc[0],\n",
    "        'hawaiian_or_pacific_islander': x['LACCESS_NHPI15'].iloc[0],\n",
    "        'multiracial': x['LACCESS_MULTIR15'].iloc[0]\n",
    "    }),\n",
    "    include_groups=False\n",
    ").reset_index()\n",
    "\n",
    "#cleaning formatting for merging\n",
    "vis2_county[\"County\"] = vis2_county[\"County\"].str.strip().str.title()\n",
    "vis2_county[\"State\"] = vis2_county[\"State\"].str.strip().str.upper()\n",
    "\n",
    "#merging with CORGIS\n",
    "vis2_county = vis2_county.merge(\n",
    "    demographic_data[[\"County\", \"State\", \"Percent65plus\"]],\n",
    "    on=[\"County\", \"State\"],\n",
    "    how=\"left\"\n",
    ")\n",
    "#calculate actual number of 65+ population\n",
    "vis2_county[\"population_65plus\"] = vis2_county[\"population\"] * vis2_county[\"Percent65plus\"] / 100\n",
    "\n",
    "#we get only the top 10 counties (same as the ones plotted in visualization 1)\n",
    "vis2_county = vis2_county[vis2_county[\"FIPS\"].isin(top10[\"FIPS\"])].copy()\n",
    "\n",
    "#get the engaged population with using both COREM and COREW as representative of older adults who are actively using healthcare services\n",
    "vis2_county[\"engaged\"] = vis2_county[\"population_65plus\"] * ((vis2_county[\"corem\"] + vis2_county[\"corew\"]) / 200)\n",
    "\n",
    "#adding rank info to the vis2_county dataframe so we can order the barplot\n",
    "rank_map = dict(zip(top10[\"FIPS\"], range(1, len(top10)+1)))\n",
    "vis2_county[\"Rank\"] = vis2_county[\"FIPS\"].map(rank_map)\n",
    "vis2_county = vis2_county.sort_values(\"Rank\")\n",
    "county_labels = vis2_county[\"Rank\"].astype(str) + \". \" + vis2_county[\"County\"] + \", \" + vis2_county[\"State\"]\n",
    "\n",
    "#calculating subgroup affected numbers -> first we get all the column names\n",
    "subgroup_cols = [\n",
    "    \"low_income\", \"households_no_car\", \"SNAP_household\",\n",
    "    \"children\", \"seniors\", \"white\", \"black\", \"hispanic\", \"asian\",\n",
    "    \"american_indian_or_alaska_native\", \"hawaiian_or_pacific_islander\", \"multiracial\"\n",
    "]\n",
    "\n",
    "#melting for plotting purposes so now we have one row per county per subgroup (instead of one row per county)\n",
    "subgroup_data = vis2_county.melt(\n",
    "    id_vars=[\"County\", \"State\", \"population\", \"engaged\"], #these dont get melted\n",
    "    value_vars=subgroup_cols, #these do get melted\n",
    "    var_name=\"Subgroup\",\n",
    "    value_name=\"Affected\"\n",
    ")\n",
    "\n",
    "#for plotting\n",
    "subgroup_data[\"CountyState\"] = subgroup_data[\"County\"] + \", \" + subgroup_data[\"State\"]\n",
    "label_map = {\n",
    "    \"low_income\": \"Low Income & Low Access\",\n",
    "    \"households_no_car\": \"Households w/ No Car & Low Access\",\n",
    "    \"SNAP_household\": \"SNAP Households & Low Access\",\n",
    "    \"children\": \"Children & Low Access\",\n",
    "    \"seniors\": \"Seniors & Low Access\",\n",
    "    \"white\": \"White & Low Access\",\n",
    "    \"black\": \"Black & Low Access\",\n",
    "    \"hispanic\": \"Hispanic & Low Access\",\n",
    "    \"asian\": \"Asian & Low Access\",\n",
    "    \"american_indian_or_alaska_native\": \"American Indian/Alaska Native & Low Access\",\n",
    "    \"hawaiian_or_pacific_islander\": \"Hawaiian/Pacific Islander & Low Access\",\n",
    "    \"multiracial\": \"Multiracial & Low Access\"\n",
    "}\n",
    "subgroup_data[\"Subgroup\"] = subgroup_data[\"Subgroup\"].map(label_map)\n"
   ]
  },
  {
   "cell_type": "code",
   "execution_count": 10,
   "id": "4957f747",
   "metadata": {},
   "outputs": [
    {
     "data": {
      "application/vnd.plotly.v1+json": {
       "config": {
        "plotlyServerURL": "https://plot.ly"
       },
       "data": [
        {
         "marker": {
          "color": "#0277C8"
         },
         "name": "Total 65+ Population",
         "type": "bar",
         "x": [
          "1. Hamilton, TN",
          "2. Dougherty, GA",
          "3. Genesee, MI",
          "4. Richmond, GA",
          "5. Plymouth, MA",
          "6. Brevard, FL",
          "7. Osage, OK",
          "8. Lake, IN",
          "9. Harrison, MS",
          "10. Wichita, TX"
         ],
         "y": {
          "bdata": "ne+nxutL3UBI4XoUTvTIQGZmZmbG/9FAH4XrUVi720DYo3A9KgrRQA4tsp2vKOVA8tJNYhDAk0C9nxovfZfaQL10kxiEXcRAmpmZmVk6zkA=",
          "dtype": "f8"
         }
        },
        {
         "marker": {
          "color": "#33AD7A"
         },
         "name": "Healthcare-Engaged 65+",
         "type": "bar",
         "x": [
          "1. Hamilton, TN",
          "2. Dougherty, GA",
          "3. Genesee, MI",
          "4. Richmond, GA",
          "5. Plymouth, MA",
          "6. Brevard, FL",
          "7. Osage, OK",
          "8. Lake, IN",
          "9. Harrison, MS",
          "10. Wichita, TX"
         ],
         "y": {
          "bdata": "r62f/su7wEB2/YLdUAaqQOWItfi0va5AgdQmTtQJwUBi304i3jexQMOUSKIb58lACMxDpnyVdUCyHr5M3JK3QFXcuMVMW6lA6+I2GmiiskA=",
          "dtype": "f8"
         }
        }
       ],
       "layout": {
        "barmode": "group",
        "height": 500,
        "legend": {
         "font": {
          "size": 10
         },
         "orientation": "h",
         "x": 0.02,
         "y": 1
        },
        "template": {
         "data": {
          "bar": [
           {
            "error_x": {
             "color": "#2a3f5f"
            },
            "error_y": {
             "color": "#2a3f5f"
            },
            "marker": {
             "line": {
              "color": "#E5ECF6",
              "width": 0.5
             },
             "pattern": {
              "fillmode": "overlay",
              "size": 10,
              "solidity": 0.2
             }
            },
            "type": "bar"
           }
          ],
          "barpolar": [
           {
            "marker": {
             "line": {
              "color": "#E5ECF6",
              "width": 0.5
             },
             "pattern": {
              "fillmode": "overlay",
              "size": 10,
              "solidity": 0.2
             }
            },
            "type": "barpolar"
           }
          ],
          "carpet": [
           {
            "aaxis": {
             "endlinecolor": "#2a3f5f",
             "gridcolor": "white",
             "linecolor": "white",
             "minorgridcolor": "white",
             "startlinecolor": "#2a3f5f"
            },
            "baxis": {
             "endlinecolor": "#2a3f5f",
             "gridcolor": "white",
             "linecolor": "white",
             "minorgridcolor": "white",
             "startlinecolor": "#2a3f5f"
            },
            "type": "carpet"
           }
          ],
          "choropleth": [
           {
            "colorbar": {
             "outlinewidth": 0,
             "ticks": ""
            },
            "type": "choropleth"
           }
          ],
          "contour": [
           {
            "colorbar": {
             "outlinewidth": 0,
             "ticks": ""
            },
            "colorscale": [
             [
              0,
              "#0d0887"
             ],
             [
              0.1111111111111111,
              "#46039f"
             ],
             [
              0.2222222222222222,
              "#7201a8"
             ],
             [
              0.3333333333333333,
              "#9c179e"
             ],
             [
              0.4444444444444444,
              "#bd3786"
             ],
             [
              0.5555555555555556,
              "#d8576b"
             ],
             [
              0.6666666666666666,
              "#ed7953"
             ],
             [
              0.7777777777777778,
              "#fb9f3a"
             ],
             [
              0.8888888888888888,
              "#fdca26"
             ],
             [
              1,
              "#f0f921"
             ]
            ],
            "type": "contour"
           }
          ],
          "contourcarpet": [
           {
            "colorbar": {
             "outlinewidth": 0,
             "ticks": ""
            },
            "type": "contourcarpet"
           }
          ],
          "heatmap": [
           {
            "colorbar": {
             "outlinewidth": 0,
             "ticks": ""
            },
            "colorscale": [
             [
              0,
              "#0d0887"
             ],
             [
              0.1111111111111111,
              "#46039f"
             ],
             [
              0.2222222222222222,
              "#7201a8"
             ],
             [
              0.3333333333333333,
              "#9c179e"
             ],
             [
              0.4444444444444444,
              "#bd3786"
             ],
             [
              0.5555555555555556,
              "#d8576b"
             ],
             [
              0.6666666666666666,
              "#ed7953"
             ],
             [
              0.7777777777777778,
              "#fb9f3a"
             ],
             [
              0.8888888888888888,
              "#fdca26"
             ],
             [
              1,
              "#f0f921"
             ]
            ],
            "type": "heatmap"
           }
          ],
          "histogram": [
           {
            "marker": {
             "pattern": {
              "fillmode": "overlay",
              "size": 10,
              "solidity": 0.2
             }
            },
            "type": "histogram"
           }
          ],
          "histogram2d": [
           {
            "colorbar": {
             "outlinewidth": 0,
             "ticks": ""
            },
            "colorscale": [
             [
              0,
              "#0d0887"
             ],
             [
              0.1111111111111111,
              "#46039f"
             ],
             [
              0.2222222222222222,
              "#7201a8"
             ],
             [
              0.3333333333333333,
              "#9c179e"
             ],
             [
              0.4444444444444444,
              "#bd3786"
             ],
             [
              0.5555555555555556,
              "#d8576b"
             ],
             [
              0.6666666666666666,
              "#ed7953"
             ],
             [
              0.7777777777777778,
              "#fb9f3a"
             ],
             [
              0.8888888888888888,
              "#fdca26"
             ],
             [
              1,
              "#f0f921"
             ]
            ],
            "type": "histogram2d"
           }
          ],
          "histogram2dcontour": [
           {
            "colorbar": {
             "outlinewidth": 0,
             "ticks": ""
            },
            "colorscale": [
             [
              0,
              "#0d0887"
             ],
             [
              0.1111111111111111,
              "#46039f"
             ],
             [
              0.2222222222222222,
              "#7201a8"
             ],
             [
              0.3333333333333333,
              "#9c179e"
             ],
             [
              0.4444444444444444,
              "#bd3786"
             ],
             [
              0.5555555555555556,
              "#d8576b"
             ],
             [
              0.6666666666666666,
              "#ed7953"
             ],
             [
              0.7777777777777778,
              "#fb9f3a"
             ],
             [
              0.8888888888888888,
              "#fdca26"
             ],
             [
              1,
              "#f0f921"
             ]
            ],
            "type": "histogram2dcontour"
           }
          ],
          "mesh3d": [
           {
            "colorbar": {
             "outlinewidth": 0,
             "ticks": ""
            },
            "type": "mesh3d"
           }
          ],
          "parcoords": [
           {
            "line": {
             "colorbar": {
              "outlinewidth": 0,
              "ticks": ""
             }
            },
            "type": "parcoords"
           }
          ],
          "pie": [
           {
            "automargin": true,
            "type": "pie"
           }
          ],
          "scatter": [
           {
            "fillpattern": {
             "fillmode": "overlay",
             "size": 10,
             "solidity": 0.2
            },
            "type": "scatter"
           }
          ],
          "scatter3d": [
           {
            "line": {
             "colorbar": {
              "outlinewidth": 0,
              "ticks": ""
             }
            },
            "marker": {
             "colorbar": {
              "outlinewidth": 0,
              "ticks": ""
             }
            },
            "type": "scatter3d"
           }
          ],
          "scattercarpet": [
           {
            "marker": {
             "colorbar": {
              "outlinewidth": 0,
              "ticks": ""
             }
            },
            "type": "scattercarpet"
           }
          ],
          "scattergeo": [
           {
            "marker": {
             "colorbar": {
              "outlinewidth": 0,
              "ticks": ""
             }
            },
            "type": "scattergeo"
           }
          ],
          "scattergl": [
           {
            "marker": {
             "colorbar": {
              "outlinewidth": 0,
              "ticks": ""
             }
            },
            "type": "scattergl"
           }
          ],
          "scattermap": [
           {
            "marker": {
             "colorbar": {
              "outlinewidth": 0,
              "ticks": ""
             }
            },
            "type": "scattermap"
           }
          ],
          "scattermapbox": [
           {
            "marker": {
             "colorbar": {
              "outlinewidth": 0,
              "ticks": ""
             }
            },
            "type": "scattermapbox"
           }
          ],
          "scatterpolar": [
           {
            "marker": {
             "colorbar": {
              "outlinewidth": 0,
              "ticks": ""
             }
            },
            "type": "scatterpolar"
           }
          ],
          "scatterpolargl": [
           {
            "marker": {
             "colorbar": {
              "outlinewidth": 0,
              "ticks": ""
             }
            },
            "type": "scatterpolargl"
           }
          ],
          "scatterternary": [
           {
            "marker": {
             "colorbar": {
              "outlinewidth": 0,
              "ticks": ""
             }
            },
            "type": "scatterternary"
           }
          ],
          "surface": [
           {
            "colorbar": {
             "outlinewidth": 0,
             "ticks": ""
            },
            "colorscale": [
             [
              0,
              "#0d0887"
             ],
             [
              0.1111111111111111,
              "#46039f"
             ],
             [
              0.2222222222222222,
              "#7201a8"
             ],
             [
              0.3333333333333333,
              "#9c179e"
             ],
             [
              0.4444444444444444,
              "#bd3786"
             ],
             [
              0.5555555555555556,
              "#d8576b"
             ],
             [
              0.6666666666666666,
              "#ed7953"
             ],
             [
              0.7777777777777778,
              "#fb9f3a"
             ],
             [
              0.8888888888888888,
              "#fdca26"
             ],
             [
              1,
              "#f0f921"
             ]
            ],
            "type": "surface"
           }
          ],
          "table": [
           {
            "cells": {
             "fill": {
              "color": "#EBF0F8"
             },
             "line": {
              "color": "white"
             }
            },
            "header": {
             "fill": {
              "color": "#C8D4E3"
             },
             "line": {
              "color": "white"
             }
            },
            "type": "table"
           }
          ]
         },
         "layout": {
          "annotationdefaults": {
           "arrowcolor": "#2a3f5f",
           "arrowhead": 0,
           "arrowwidth": 1
          },
          "autotypenumbers": "strict",
          "coloraxis": {
           "colorbar": {
            "outlinewidth": 0,
            "ticks": ""
           }
          },
          "colorscale": {
           "diverging": [
            [
             0,
             "#8e0152"
            ],
            [
             0.1,
             "#c51b7d"
            ],
            [
             0.2,
             "#de77ae"
            ],
            [
             0.3,
             "#f1b6da"
            ],
            [
             0.4,
             "#fde0ef"
            ],
            [
             0.5,
             "#f7f7f7"
            ],
            [
             0.6,
             "#e6f5d0"
            ],
            [
             0.7,
             "#b8e186"
            ],
            [
             0.8,
             "#7fbc41"
            ],
            [
             0.9,
             "#4d9221"
            ],
            [
             1,
             "#276419"
            ]
           ],
           "sequential": [
            [
             0,
             "#0d0887"
            ],
            [
             0.1111111111111111,
             "#46039f"
            ],
            [
             0.2222222222222222,
             "#7201a8"
            ],
            [
             0.3333333333333333,
             "#9c179e"
            ],
            [
             0.4444444444444444,
             "#bd3786"
            ],
            [
             0.5555555555555556,
             "#d8576b"
            ],
            [
             0.6666666666666666,
             "#ed7953"
            ],
            [
             0.7777777777777778,
             "#fb9f3a"
            ],
            [
             0.8888888888888888,
             "#fdca26"
            ],
            [
             1,
             "#f0f921"
            ]
           ],
           "sequentialminus": [
            [
             0,
             "#0d0887"
            ],
            [
             0.1111111111111111,
             "#46039f"
            ],
            [
             0.2222222222222222,
             "#7201a8"
            ],
            [
             0.3333333333333333,
             "#9c179e"
            ],
            [
             0.4444444444444444,
             "#bd3786"
            ],
            [
             0.5555555555555556,
             "#d8576b"
            ],
            [
             0.6666666666666666,
             "#ed7953"
            ],
            [
             0.7777777777777778,
             "#fb9f3a"
            ],
            [
             0.8888888888888888,
             "#fdca26"
            ],
            [
             1,
             "#f0f921"
            ]
           ]
          },
          "colorway": [
           "#636efa",
           "#EF553B",
           "#00cc96",
           "#ab63fa",
           "#FFA15A",
           "#19d3f3",
           "#FF6692",
           "#B6E880",
           "#FF97FF",
           "#FECB52"
          ],
          "font": {
           "color": "#2a3f5f"
          },
          "geo": {
           "bgcolor": "white",
           "lakecolor": "white",
           "landcolor": "#E5ECF6",
           "showlakes": true,
           "showland": true,
           "subunitcolor": "white"
          },
          "hoverlabel": {
           "align": "left"
          },
          "hovermode": "closest",
          "mapbox": {
           "style": "light"
          },
          "paper_bgcolor": "white",
          "plot_bgcolor": "#E5ECF6",
          "polar": {
           "angularaxis": {
            "gridcolor": "white",
            "linecolor": "white",
            "ticks": ""
           },
           "bgcolor": "#E5ECF6",
           "radialaxis": {
            "gridcolor": "white",
            "linecolor": "white",
            "ticks": ""
           }
          },
          "scene": {
           "xaxis": {
            "backgroundcolor": "#E5ECF6",
            "gridcolor": "white",
            "gridwidth": 2,
            "linecolor": "white",
            "showbackground": true,
            "ticks": "",
            "zerolinecolor": "white"
           },
           "yaxis": {
            "backgroundcolor": "#E5ECF6",
            "gridcolor": "white",
            "gridwidth": 2,
            "linecolor": "white",
            "showbackground": true,
            "ticks": "",
            "zerolinecolor": "white"
           },
           "zaxis": {
            "backgroundcolor": "#E5ECF6",
            "gridcolor": "white",
            "gridwidth": 2,
            "linecolor": "white",
            "showbackground": true,
            "ticks": "",
            "zerolinecolor": "white"
           }
          },
          "shapedefaults": {
           "line": {
            "color": "#2a3f5f"
           }
          },
          "ternary": {
           "aaxis": {
            "gridcolor": "white",
            "linecolor": "white",
            "ticks": ""
           },
           "baxis": {
            "gridcolor": "white",
            "linecolor": "white",
            "ticks": ""
           },
           "bgcolor": "#E5ECF6",
           "caxis": {
            "gridcolor": "white",
            "linecolor": "white",
            "ticks": ""
           }
          },
          "title": {
           "x": 0.05
          },
          "xaxis": {
           "automargin": true,
           "gridcolor": "white",
           "linecolor": "white",
           "ticks": "",
           "title": {
            "standoff": 15
           },
           "zerolinecolor": "white",
           "zerolinewidth": 2
          },
          "yaxis": {
           "automargin": true,
           "gridcolor": "white",
           "linecolor": "white",
           "ticks": "",
           "title": {
            "standoff": 15
           },
           "zerolinecolor": "white",
           "zerolinewidth": 2
          }
         }
        },
        "title": {
         "font": {
          "size": 18
         },
         "text": "Total vs Engaged Population (Top 10 Counties, 65+ years old)",
         "x": 0.5,
         "xanchor": "center",
         "y": 0.86,
         "yanchor": "top"
        },
        "width": 900,
        "xaxis": {
         "tickangle": -45,
         "title": {
          "text": "County, State"
         }
        },
        "yaxis": {
         "title": {
          "text": "Population (People)"
         }
        }
       }
      }
     },
     "metadata": {},
     "output_type": "display_data"
    }
   ],
   "source": [
    "#visualization 1 -> bar chart for total vs engaged population (65+ y/o)\n",
    "fig1 = plt.Figure()\n",
    "fig1.add_trace(\n",
    "    plt.Bar(\n",
    "        x=county_labels,\n",
    "        y=vis2_county[\"population_65plus\"],\n",
    "        marker_color=\"#0277C8\",\n",
    "        name=\"Total 65+ Population\"\n",
    "    )\n",
    ")\n",
    "fig1.add_trace(\n",
    "    plt.Bar(\n",
    "        x=county_labels,\n",
    "        y=vis2_county[\"engaged\"],\n",
    "        marker_color=\"#33AD7A\",\n",
    "        name=\"Healthcare-Engaged 65+\"\n",
    "    )\n",
    ")\n",
    "fig1.update_layout(\n",
    "    barmode=\"group\",\n",
    "    height=500,\n",
    "    width=900,\n",
    "    title=dict(\n",
    "        text=\"Total vs Engaged Population (Top 10 Counties, 65+ years old)\",\n",
    "        y=0.86,\n",
    "        x=0.5,\n",
    "        xanchor=\"center\",\n",
    "        yanchor=\"top\",\n",
    "        font=dict(size=18)\n",
    "    ),\n",
    "    legend=dict(\n",
    "        orientation=\"h\",\n",
    "        x=0.02,\n",
    "        y=1,\n",
    "        font=dict(size=10)\n",
    "    ),\n",
    "    xaxis_tickangle=-45,\n",
    "    xaxis_title=\"County, State\",\n",
    "    yaxis_title=\"Population (People)\"\n",
    ")\n",
    "fig1.show()\n"
   ]
  },
  {
   "cell_type": "code",
   "execution_count": null,
   "id": "208045ad",
   "metadata": {},
   "outputs": [
    {
     "data": {
      "application/vnd.plotly.v1+json": {
       "config": {
        "plotlyServerURL": "https://plot.ly"
       },
       "data": [
        {
         "hovertemplate": "Subgroup=%{y}<br>Percent=%{x}<extra></extra>",
         "legendgroup": "Households w/ No Car & Low Access",
         "marker": {
          "color": "#0277C8",
          "pattern": {
           "shape": ""
          }
         },
         "name": "Households w/ No Car & Low Access",
         "orientation": "h",
         "showlegend": true,
         "textposition": "auto",
         "type": "bar",
         "x": {
          "bdata": "5kiL93W/GkA=",
          "dtype": "f8"
         },
         "xaxis": "x",
         "y": [
          "Households w/ No Car & Low Access"
         ],
         "yaxis": "y"
        },
        {
         "hovertemplate": "Subgroup=%{y}<br>Percent=%{x}<extra></extra>",
         "legendgroup": "SNAP Households & Low Access",
         "marker": {
          "color": "#33AD7A",
          "pattern": {
           "shape": ""
          }
         },
         "name": "SNAP Households & Low Access",
         "orientation": "h",
         "showlegend": true,
         "textposition": "auto",
         "type": "bar",
         "x": {
          "bdata": "OpjoFsrbKkA=",
          "dtype": "f8"
         },
         "xaxis": "x",
         "y": [
          "SNAP Households & Low Access"
         ],
         "yaxis": "y"
        },
        {
         "hovertemplate": "Subgroup=%{y}<br>Percent=%{x}<extra></extra>",
         "legendgroup": "Low Income & Low Access",
         "marker": {
          "color": "#304C64",
          "pattern": {
           "shape": ""
          }
         },
         "name": "Low Income & Low Access",
         "orientation": "h",
         "showlegend": true,
         "textposition": "auto",
         "type": "bar",
         "x": {
          "bdata": "aziqXY/4U0A=",
          "dtype": "f8"
         },
         "xaxis": "x",
         "y": [
          "Low Income & Low Access"
         ],
         "yaxis": "y"
        }
       ],
       "layout": {
        "barmode": "relative",
        "font": {
         "size": 12
        },
        "height": 400,
        "legend": {
         "title": {
          "text": "Subgroup"
         },
         "tracegroupgap": 0
        },
        "showlegend": false,
        "template": {
         "data": {
          "bar": [
           {
            "error_x": {
             "color": "#2a3f5f"
            },
            "error_y": {
             "color": "#2a3f5f"
            },
            "marker": {
             "line": {
              "color": "#E5ECF6",
              "width": 0.5
             },
             "pattern": {
              "fillmode": "overlay",
              "size": 10,
              "solidity": 0.2
             }
            },
            "type": "bar"
           }
          ],
          "barpolar": [
           {
            "marker": {
             "line": {
              "color": "#E5ECF6",
              "width": 0.5
             },
             "pattern": {
              "fillmode": "overlay",
              "size": 10,
              "solidity": 0.2
             }
            },
            "type": "barpolar"
           }
          ],
          "carpet": [
           {
            "aaxis": {
             "endlinecolor": "#2a3f5f",
             "gridcolor": "white",
             "linecolor": "white",
             "minorgridcolor": "white",
             "startlinecolor": "#2a3f5f"
            },
            "baxis": {
             "endlinecolor": "#2a3f5f",
             "gridcolor": "white",
             "linecolor": "white",
             "minorgridcolor": "white",
             "startlinecolor": "#2a3f5f"
            },
            "type": "carpet"
           }
          ],
          "choropleth": [
           {
            "colorbar": {
             "outlinewidth": 0,
             "ticks": ""
            },
            "type": "choropleth"
           }
          ],
          "contour": [
           {
            "colorbar": {
             "outlinewidth": 0,
             "ticks": ""
            },
            "colorscale": [
             [
              0,
              "#0d0887"
             ],
             [
              0.1111111111111111,
              "#46039f"
             ],
             [
              0.2222222222222222,
              "#7201a8"
             ],
             [
              0.3333333333333333,
              "#9c179e"
             ],
             [
              0.4444444444444444,
              "#bd3786"
             ],
             [
              0.5555555555555556,
              "#d8576b"
             ],
             [
              0.6666666666666666,
              "#ed7953"
             ],
             [
              0.7777777777777778,
              "#fb9f3a"
             ],
             [
              0.8888888888888888,
              "#fdca26"
             ],
             [
              1,
              "#f0f921"
             ]
            ],
            "type": "contour"
           }
          ],
          "contourcarpet": [
           {
            "colorbar": {
             "outlinewidth": 0,
             "ticks": ""
            },
            "type": "contourcarpet"
           }
          ],
          "heatmap": [
           {
            "colorbar": {
             "outlinewidth": 0,
             "ticks": ""
            },
            "colorscale": [
             [
              0,
              "#0d0887"
             ],
             [
              0.1111111111111111,
              "#46039f"
             ],
             [
              0.2222222222222222,
              "#7201a8"
             ],
             [
              0.3333333333333333,
              "#9c179e"
             ],
             [
              0.4444444444444444,
              "#bd3786"
             ],
             [
              0.5555555555555556,
              "#d8576b"
             ],
             [
              0.6666666666666666,
              "#ed7953"
             ],
             [
              0.7777777777777778,
              "#fb9f3a"
             ],
             [
              0.8888888888888888,
              "#fdca26"
             ],
             [
              1,
              "#f0f921"
             ]
            ],
            "type": "heatmap"
           }
          ],
          "histogram": [
           {
            "marker": {
             "pattern": {
              "fillmode": "overlay",
              "size": 10,
              "solidity": 0.2
             }
            },
            "type": "histogram"
           }
          ],
          "histogram2d": [
           {
            "colorbar": {
             "outlinewidth": 0,
             "ticks": ""
            },
            "colorscale": [
             [
              0,
              "#0d0887"
             ],
             [
              0.1111111111111111,
              "#46039f"
             ],
             [
              0.2222222222222222,
              "#7201a8"
             ],
             [
              0.3333333333333333,
              "#9c179e"
             ],
             [
              0.4444444444444444,
              "#bd3786"
             ],
             [
              0.5555555555555556,
              "#d8576b"
             ],
             [
              0.6666666666666666,
              "#ed7953"
             ],
             [
              0.7777777777777778,
              "#fb9f3a"
             ],
             [
              0.8888888888888888,
              "#fdca26"
             ],
             [
              1,
              "#f0f921"
             ]
            ],
            "type": "histogram2d"
           }
          ],
          "histogram2dcontour": [
           {
            "colorbar": {
             "outlinewidth": 0,
             "ticks": ""
            },
            "colorscale": [
             [
              0,
              "#0d0887"
             ],
             [
              0.1111111111111111,
              "#46039f"
             ],
             [
              0.2222222222222222,
              "#7201a8"
             ],
             [
              0.3333333333333333,
              "#9c179e"
             ],
             [
              0.4444444444444444,
              "#bd3786"
             ],
             [
              0.5555555555555556,
              "#d8576b"
             ],
             [
              0.6666666666666666,
              "#ed7953"
             ],
             [
              0.7777777777777778,
              "#fb9f3a"
             ],
             [
              0.8888888888888888,
              "#fdca26"
             ],
             [
              1,
              "#f0f921"
             ]
            ],
            "type": "histogram2dcontour"
           }
          ],
          "mesh3d": [
           {
            "colorbar": {
             "outlinewidth": 0,
             "ticks": ""
            },
            "type": "mesh3d"
           }
          ],
          "parcoords": [
           {
            "line": {
             "colorbar": {
              "outlinewidth": 0,
              "ticks": ""
             }
            },
            "type": "parcoords"
           }
          ],
          "pie": [
           {
            "automargin": true,
            "type": "pie"
           }
          ],
          "scatter": [
           {
            "fillpattern": {
             "fillmode": "overlay",
             "size": 10,
             "solidity": 0.2
            },
            "type": "scatter"
           }
          ],
          "scatter3d": [
           {
            "line": {
             "colorbar": {
              "outlinewidth": 0,
              "ticks": ""
             }
            },
            "marker": {
             "colorbar": {
              "outlinewidth": 0,
              "ticks": ""
             }
            },
            "type": "scatter3d"
           }
          ],
          "scattercarpet": [
           {
            "marker": {
             "colorbar": {
              "outlinewidth": 0,
              "ticks": ""
             }
            },
            "type": "scattercarpet"
           }
          ],
          "scattergeo": [
           {
            "marker": {
             "colorbar": {
              "outlinewidth": 0,
              "ticks": ""
             }
            },
            "type": "scattergeo"
           }
          ],
          "scattergl": [
           {
            "marker": {
             "colorbar": {
              "outlinewidth": 0,
              "ticks": ""
             }
            },
            "type": "scattergl"
           }
          ],
          "scattermap": [
           {
            "marker": {
             "colorbar": {
              "outlinewidth": 0,
              "ticks": ""
             }
            },
            "type": "scattermap"
           }
          ],
          "scattermapbox": [
           {
            "marker": {
             "colorbar": {
              "outlinewidth": 0,
              "ticks": ""
             }
            },
            "type": "scattermapbox"
           }
          ],
          "scatterpolar": [
           {
            "marker": {
             "colorbar": {
              "outlinewidth": 0,
              "ticks": ""
             }
            },
            "type": "scatterpolar"
           }
          ],
          "scatterpolargl": [
           {
            "marker": {
             "colorbar": {
              "outlinewidth": 0,
              "ticks": ""
             }
            },
            "type": "scatterpolargl"
           }
          ],
          "scatterternary": [
           {
            "marker": {
             "colorbar": {
              "outlinewidth": 0,
              "ticks": ""
             }
            },
            "type": "scatterternary"
           }
          ],
          "surface": [
           {
            "colorbar": {
             "outlinewidth": 0,
             "ticks": ""
            },
            "colorscale": [
             [
              0,
              "#0d0887"
             ],
             [
              0.1111111111111111,
              "#46039f"
             ],
             [
              0.2222222222222222,
              "#7201a8"
             ],
             [
              0.3333333333333333,
              "#9c179e"
             ],
             [
              0.4444444444444444,
              "#bd3786"
             ],
             [
              0.5555555555555556,
              "#d8576b"
             ],
             [
              0.6666666666666666,
              "#ed7953"
             ],
             [
              0.7777777777777778,
              "#fb9f3a"
             ],
             [
              0.8888888888888888,
              "#fdca26"
             ],
             [
              1,
              "#f0f921"
             ]
            ],
            "type": "surface"
           }
          ],
          "table": [
           {
            "cells": {
             "fill": {
              "color": "#EBF0F8"
             },
             "line": {
              "color": "white"
             }
            },
            "header": {
             "fill": {
              "color": "#C8D4E3"
             },
             "line": {
              "color": "white"
             }
            },
            "type": "table"
           }
          ]
         },
         "layout": {
          "annotationdefaults": {
           "arrowcolor": "#2a3f5f",
           "arrowhead": 0,
           "arrowwidth": 1
          },
          "autotypenumbers": "strict",
          "coloraxis": {
           "colorbar": {
            "outlinewidth": 0,
            "ticks": ""
           }
          },
          "colorscale": {
           "diverging": [
            [
             0,
             "#8e0152"
            ],
            [
             0.1,
             "#c51b7d"
            ],
            [
             0.2,
             "#de77ae"
            ],
            [
             0.3,
             "#f1b6da"
            ],
            [
             0.4,
             "#fde0ef"
            ],
            [
             0.5,
             "#f7f7f7"
            ],
            [
             0.6,
             "#e6f5d0"
            ],
            [
             0.7,
             "#b8e186"
            ],
            [
             0.8,
             "#7fbc41"
            ],
            [
             0.9,
             "#4d9221"
            ],
            [
             1,
             "#276419"
            ]
           ],
           "sequential": [
            [
             0,
             "#0d0887"
            ],
            [
             0.1111111111111111,
             "#46039f"
            ],
            [
             0.2222222222222222,
             "#7201a8"
            ],
            [
             0.3333333333333333,
             "#9c179e"
            ],
            [
             0.4444444444444444,
             "#bd3786"
            ],
            [
             0.5555555555555556,
             "#d8576b"
            ],
            [
             0.6666666666666666,
             "#ed7953"
            ],
            [
             0.7777777777777778,
             "#fb9f3a"
            ],
            [
             0.8888888888888888,
             "#fdca26"
            ],
            [
             1,
             "#f0f921"
            ]
           ],
           "sequentialminus": [
            [
             0,
             "#0d0887"
            ],
            [
             0.1111111111111111,
             "#46039f"
            ],
            [
             0.2222222222222222,
             "#7201a8"
            ],
            [
             0.3333333333333333,
             "#9c179e"
            ],
            [
             0.4444444444444444,
             "#bd3786"
            ],
            [
             0.5555555555555556,
             "#d8576b"
            ],
            [
             0.6666666666666666,
             "#ed7953"
            ],
            [
             0.7777777777777778,
             "#fb9f3a"
            ],
            [
             0.8888888888888888,
             "#fdca26"
            ],
            [
             1,
             "#f0f921"
            ]
           ]
          },
          "colorway": [
           "#636efa",
           "#EF553B",
           "#00cc96",
           "#ab63fa",
           "#FFA15A",
           "#19d3f3",
           "#FF6692",
           "#B6E880",
           "#FF97FF",
           "#FECB52"
          ],
          "font": {
           "color": "#2a3f5f"
          },
          "geo": {
           "bgcolor": "white",
           "lakecolor": "white",
           "landcolor": "#E5ECF6",
           "showlakes": true,
           "showland": true,
           "subunitcolor": "white"
          },
          "hoverlabel": {
           "align": "left"
          },
          "hovermode": "closest",
          "mapbox": {
           "style": "light"
          },
          "paper_bgcolor": "white",
          "plot_bgcolor": "#E5ECF6",
          "polar": {
           "angularaxis": {
            "gridcolor": "white",
            "linecolor": "white",
            "ticks": ""
           },
           "bgcolor": "#E5ECF6",
           "radialaxis": {
            "gridcolor": "white",
            "linecolor": "white",
            "ticks": ""
           }
          },
          "scene": {
           "xaxis": {
            "backgroundcolor": "#E5ECF6",
            "gridcolor": "white",
            "gridwidth": 2,
            "linecolor": "white",
            "showbackground": true,
            "ticks": "",
            "zerolinecolor": "white"
           },
           "yaxis": {
            "backgroundcolor": "#E5ECF6",
            "gridcolor": "white",
            "gridwidth": 2,
            "linecolor": "white",
            "showbackground": true,
            "ticks": "",
            "zerolinecolor": "white"
           },
           "zaxis": {
            "backgroundcolor": "#E5ECF6",
            "gridcolor": "white",
            "gridwidth": 2,
            "linecolor": "white",
            "showbackground": true,
            "ticks": "",
            "zerolinecolor": "white"
           }
          },
          "shapedefaults": {
           "line": {
            "color": "#2a3f5f"
           }
          },
          "ternary": {
           "aaxis": {
            "gridcolor": "white",
            "linecolor": "white",
            "ticks": ""
           },
           "baxis": {
            "gridcolor": "white",
            "linecolor": "white",
            "ticks": ""
           },
           "bgcolor": "#E5ECF6",
           "caxis": {
            "gridcolor": "white",
            "linecolor": "white",
            "ticks": ""
           }
          },
          "title": {
           "x": 0.05
          },
          "xaxis": {
           "automargin": true,
           "gridcolor": "white",
           "linecolor": "white",
           "ticks": "",
           "title": {
            "standoff": 15
           },
           "zerolinecolor": "white",
           "zerolinewidth": 2
          },
          "yaxis": {
           "automargin": true,
           "gridcolor": "white",
           "linecolor": "white",
           "ticks": "",
           "title": {
            "standoff": 15
           },
           "zerolinecolor": "white",
           "zerolinewidth": 2
          }
         }
        },
        "title": {
         "text": "Household-Based Subgroups Affected by Low Food Access"
        },
        "width": 700,
        "xaxis": {
         "anchor": "y",
         "domain": [
          0,
          1
         ],
         "ticksuffix": "%",
         "title": {
          "text": "Percent of Total Household-Based Population"
         }
        },
        "yaxis": {
         "anchor": "x",
         "categoryarray": [
          "Low Income & Low Access",
          "SNAP Households & Low Access",
          "Households w/ No Car & Low Access"
         ],
         "categoryorder": "array",
         "domain": [
          0,
          1
         ],
         "title": {
          "text": ""
         }
        }
       }
      }
     },
     "metadata": {},
     "output_type": "display_data"
    },
    {
     "data": {
      "application/vnd.plotly.v1+json": {
       "config": {
        "plotlyServerURL": "https://plot.ly"
       },
       "data": [
        {
         "domain": {
          "x": [
           0,
           1
          ],
          "y": [
           0,
           1
          ]
         },
         "hole": 0.45,
         "hovertemplate": "Subgroup=%{label}<br>Percent=%{value}<extra></extra>",
         "insidetextorientation": "horizontal",
         "labels": [
          "White & Low Access",
          "Children & Low Access",
          "Black & Low Access",
          "Seniors & Low Access",
          "Other"
         ],
         "legendgroup": "",
         "name": "",
         "showlegend": true,
         "textinfo": "label+percent",
         "type": "pie",
         "values": {
          "bdata": "DJAkStp7SkAmeECsykgxQFb41oLk7i1AYOPBkPKbJECf56fWVOgRQA==",
          "dtype": "f8"
         }
        }
       ],
       "layout": {
        "font": {
         "size": 12
        },
        "height": 450,
        "legend": {
         "tracegroupgap": 0
        },
        "piecolorway": [
         "rgb(5,48,97)",
         "rgb(33,102,172)",
         "rgb(67,147,195)",
         "rgb(146,197,222)",
         "rgb(209,229,240)",
         "rgb(247,247,247)",
         "rgb(253,219,199)",
         "rgb(244,165,130)",
         "rgb(214,96,77)",
         "rgb(178,24,43)",
         "rgb(103,0,31)"
        ],
        "showlegend": false,
        "template": {
         "data": {
          "bar": [
           {
            "error_x": {
             "color": "#2a3f5f"
            },
            "error_y": {
             "color": "#2a3f5f"
            },
            "marker": {
             "line": {
              "color": "#E5ECF6",
              "width": 0.5
             },
             "pattern": {
              "fillmode": "overlay",
              "size": 10,
              "solidity": 0.2
             }
            },
            "type": "bar"
           }
          ],
          "barpolar": [
           {
            "marker": {
             "line": {
              "color": "#E5ECF6",
              "width": 0.5
             },
             "pattern": {
              "fillmode": "overlay",
              "size": 10,
              "solidity": 0.2
             }
            },
            "type": "barpolar"
           }
          ],
          "carpet": [
           {
            "aaxis": {
             "endlinecolor": "#2a3f5f",
             "gridcolor": "white",
             "linecolor": "white",
             "minorgridcolor": "white",
             "startlinecolor": "#2a3f5f"
            },
            "baxis": {
             "endlinecolor": "#2a3f5f",
             "gridcolor": "white",
             "linecolor": "white",
             "minorgridcolor": "white",
             "startlinecolor": "#2a3f5f"
            },
            "type": "carpet"
           }
          ],
          "choropleth": [
           {
            "colorbar": {
             "outlinewidth": 0,
             "ticks": ""
            },
            "type": "choropleth"
           }
          ],
          "contour": [
           {
            "colorbar": {
             "outlinewidth": 0,
             "ticks": ""
            },
            "colorscale": [
             [
              0,
              "#0d0887"
             ],
             [
              0.1111111111111111,
              "#46039f"
             ],
             [
              0.2222222222222222,
              "#7201a8"
             ],
             [
              0.3333333333333333,
              "#9c179e"
             ],
             [
              0.4444444444444444,
              "#bd3786"
             ],
             [
              0.5555555555555556,
              "#d8576b"
             ],
             [
              0.6666666666666666,
              "#ed7953"
             ],
             [
              0.7777777777777778,
              "#fb9f3a"
             ],
             [
              0.8888888888888888,
              "#fdca26"
             ],
             [
              1,
              "#f0f921"
             ]
            ],
            "type": "contour"
           }
          ],
          "contourcarpet": [
           {
            "colorbar": {
             "outlinewidth": 0,
             "ticks": ""
            },
            "type": "contourcarpet"
           }
          ],
          "heatmap": [
           {
            "colorbar": {
             "outlinewidth": 0,
             "ticks": ""
            },
            "colorscale": [
             [
              0,
              "#0d0887"
             ],
             [
              0.1111111111111111,
              "#46039f"
             ],
             [
              0.2222222222222222,
              "#7201a8"
             ],
             [
              0.3333333333333333,
              "#9c179e"
             ],
             [
              0.4444444444444444,
              "#bd3786"
             ],
             [
              0.5555555555555556,
              "#d8576b"
             ],
             [
              0.6666666666666666,
              "#ed7953"
             ],
             [
              0.7777777777777778,
              "#fb9f3a"
             ],
             [
              0.8888888888888888,
              "#fdca26"
             ],
             [
              1,
              "#f0f921"
             ]
            ],
            "type": "heatmap"
           }
          ],
          "histogram": [
           {
            "marker": {
             "pattern": {
              "fillmode": "overlay",
              "size": 10,
              "solidity": 0.2
             }
            },
            "type": "histogram"
           }
          ],
          "histogram2d": [
           {
            "colorbar": {
             "outlinewidth": 0,
             "ticks": ""
            },
            "colorscale": [
             [
              0,
              "#0d0887"
             ],
             [
              0.1111111111111111,
              "#46039f"
             ],
             [
              0.2222222222222222,
              "#7201a8"
             ],
             [
              0.3333333333333333,
              "#9c179e"
             ],
             [
              0.4444444444444444,
              "#bd3786"
             ],
             [
              0.5555555555555556,
              "#d8576b"
             ],
             [
              0.6666666666666666,
              "#ed7953"
             ],
             [
              0.7777777777777778,
              "#fb9f3a"
             ],
             [
              0.8888888888888888,
              "#fdca26"
             ],
             [
              1,
              "#f0f921"
             ]
            ],
            "type": "histogram2d"
           }
          ],
          "histogram2dcontour": [
           {
            "colorbar": {
             "outlinewidth": 0,
             "ticks": ""
            },
            "colorscale": [
             [
              0,
              "#0d0887"
             ],
             [
              0.1111111111111111,
              "#46039f"
             ],
             [
              0.2222222222222222,
              "#7201a8"
             ],
             [
              0.3333333333333333,
              "#9c179e"
             ],
             [
              0.4444444444444444,
              "#bd3786"
             ],
             [
              0.5555555555555556,
              "#d8576b"
             ],
             [
              0.6666666666666666,
              "#ed7953"
             ],
             [
              0.7777777777777778,
              "#fb9f3a"
             ],
             [
              0.8888888888888888,
              "#fdca26"
             ],
             [
              1,
              "#f0f921"
             ]
            ],
            "type": "histogram2dcontour"
           }
          ],
          "mesh3d": [
           {
            "colorbar": {
             "outlinewidth": 0,
             "ticks": ""
            },
            "type": "mesh3d"
           }
          ],
          "parcoords": [
           {
            "line": {
             "colorbar": {
              "outlinewidth": 0,
              "ticks": ""
             }
            },
            "type": "parcoords"
           }
          ],
          "pie": [
           {
            "automargin": true,
            "type": "pie"
           }
          ],
          "scatter": [
           {
            "fillpattern": {
             "fillmode": "overlay",
             "size": 10,
             "solidity": 0.2
            },
            "type": "scatter"
           }
          ],
          "scatter3d": [
           {
            "line": {
             "colorbar": {
              "outlinewidth": 0,
              "ticks": ""
             }
            },
            "marker": {
             "colorbar": {
              "outlinewidth": 0,
              "ticks": ""
             }
            },
            "type": "scatter3d"
           }
          ],
          "scattercarpet": [
           {
            "marker": {
             "colorbar": {
              "outlinewidth": 0,
              "ticks": ""
             }
            },
            "type": "scattercarpet"
           }
          ],
          "scattergeo": [
           {
            "marker": {
             "colorbar": {
              "outlinewidth": 0,
              "ticks": ""
             }
            },
            "type": "scattergeo"
           }
          ],
          "scattergl": [
           {
            "marker": {
             "colorbar": {
              "outlinewidth": 0,
              "ticks": ""
             }
            },
            "type": "scattergl"
           }
          ],
          "scattermap": [
           {
            "marker": {
             "colorbar": {
              "outlinewidth": 0,
              "ticks": ""
             }
            },
            "type": "scattermap"
           }
          ],
          "scattermapbox": [
           {
            "marker": {
             "colorbar": {
              "outlinewidth": 0,
              "ticks": ""
             }
            },
            "type": "scattermapbox"
           }
          ],
          "scatterpolar": [
           {
            "marker": {
             "colorbar": {
              "outlinewidth": 0,
              "ticks": ""
             }
            },
            "type": "scatterpolar"
           }
          ],
          "scatterpolargl": [
           {
            "marker": {
             "colorbar": {
              "outlinewidth": 0,
              "ticks": ""
             }
            },
            "type": "scatterpolargl"
           }
          ],
          "scatterternary": [
           {
            "marker": {
             "colorbar": {
              "outlinewidth": 0,
              "ticks": ""
             }
            },
            "type": "scatterternary"
           }
          ],
          "surface": [
           {
            "colorbar": {
             "outlinewidth": 0,
             "ticks": ""
            },
            "colorscale": [
             [
              0,
              "#0d0887"
             ],
             [
              0.1111111111111111,
              "#46039f"
             ],
             [
              0.2222222222222222,
              "#7201a8"
             ],
             [
              0.3333333333333333,
              "#9c179e"
             ],
             [
              0.4444444444444444,
              "#bd3786"
             ],
             [
              0.5555555555555556,
              "#d8576b"
             ],
             [
              0.6666666666666666,
              "#ed7953"
             ],
             [
              0.7777777777777778,
              "#fb9f3a"
             ],
             [
              0.8888888888888888,
              "#fdca26"
             ],
             [
              1,
              "#f0f921"
             ]
            ],
            "type": "surface"
           }
          ],
          "table": [
           {
            "cells": {
             "fill": {
              "color": "#EBF0F8"
             },
             "line": {
              "color": "white"
             }
            },
            "header": {
             "fill": {
              "color": "#C8D4E3"
             },
             "line": {
              "color": "white"
             }
            },
            "type": "table"
           }
          ]
         },
         "layout": {
          "annotationdefaults": {
           "arrowcolor": "#2a3f5f",
           "arrowhead": 0,
           "arrowwidth": 1
          },
          "autotypenumbers": "strict",
          "coloraxis": {
           "colorbar": {
            "outlinewidth": 0,
            "ticks": ""
           }
          },
          "colorscale": {
           "diverging": [
            [
             0,
             "#8e0152"
            ],
            [
             0.1,
             "#c51b7d"
            ],
            [
             0.2,
             "#de77ae"
            ],
            [
             0.3,
             "#f1b6da"
            ],
            [
             0.4,
             "#fde0ef"
            ],
            [
             0.5,
             "#f7f7f7"
            ],
            [
             0.6,
             "#e6f5d0"
            ],
            [
             0.7,
             "#b8e186"
            ],
            [
             0.8,
             "#7fbc41"
            ],
            [
             0.9,
             "#4d9221"
            ],
            [
             1,
             "#276419"
            ]
           ],
           "sequential": [
            [
             0,
             "#0d0887"
            ],
            [
             0.1111111111111111,
             "#46039f"
            ],
            [
             0.2222222222222222,
             "#7201a8"
            ],
            [
             0.3333333333333333,
             "#9c179e"
            ],
            [
             0.4444444444444444,
             "#bd3786"
            ],
            [
             0.5555555555555556,
             "#d8576b"
            ],
            [
             0.6666666666666666,
             "#ed7953"
            ],
            [
             0.7777777777777778,
             "#fb9f3a"
            ],
            [
             0.8888888888888888,
             "#fdca26"
            ],
            [
             1,
             "#f0f921"
            ]
           ],
           "sequentialminus": [
            [
             0,
             "#0d0887"
            ],
            [
             0.1111111111111111,
             "#46039f"
            ],
            [
             0.2222222222222222,
             "#7201a8"
            ],
            [
             0.3333333333333333,
             "#9c179e"
            ],
            [
             0.4444444444444444,
             "#bd3786"
            ],
            [
             0.5555555555555556,
             "#d8576b"
            ],
            [
             0.6666666666666666,
             "#ed7953"
            ],
            [
             0.7777777777777778,
             "#fb9f3a"
            ],
            [
             0.8888888888888888,
             "#fdca26"
            ],
            [
             1,
             "#f0f921"
            ]
           ]
          },
          "colorway": [
           "#636efa",
           "#EF553B",
           "#00cc96",
           "#ab63fa",
           "#FFA15A",
           "#19d3f3",
           "#FF6692",
           "#B6E880",
           "#FF97FF",
           "#FECB52"
          ],
          "font": {
           "color": "#2a3f5f"
          },
          "geo": {
           "bgcolor": "white",
           "lakecolor": "white",
           "landcolor": "#E5ECF6",
           "showlakes": true,
           "showland": true,
           "subunitcolor": "white"
          },
          "hoverlabel": {
           "align": "left"
          },
          "hovermode": "closest",
          "mapbox": {
           "style": "light"
          },
          "paper_bgcolor": "white",
          "plot_bgcolor": "#E5ECF6",
          "polar": {
           "angularaxis": {
            "gridcolor": "white",
            "linecolor": "white",
            "ticks": ""
           },
           "bgcolor": "#E5ECF6",
           "radialaxis": {
            "gridcolor": "white",
            "linecolor": "white",
            "ticks": ""
           }
          },
          "scene": {
           "xaxis": {
            "backgroundcolor": "#E5ECF6",
            "gridcolor": "white",
            "gridwidth": 2,
            "linecolor": "white",
            "showbackground": true,
            "ticks": "",
            "zerolinecolor": "white"
           },
           "yaxis": {
            "backgroundcolor": "#E5ECF6",
            "gridcolor": "white",
            "gridwidth": 2,
            "linecolor": "white",
            "showbackground": true,
            "ticks": "",
            "zerolinecolor": "white"
           },
           "zaxis": {
            "backgroundcolor": "#E5ECF6",
            "gridcolor": "white",
            "gridwidth": 2,
            "linecolor": "white",
            "showbackground": true,
            "ticks": "",
            "zerolinecolor": "white"
           }
          },
          "shapedefaults": {
           "line": {
            "color": "#2a3f5f"
           }
          },
          "ternary": {
           "aaxis": {
            "gridcolor": "white",
            "linecolor": "white",
            "ticks": ""
           },
           "baxis": {
            "gridcolor": "white",
            "linecolor": "white",
            "ticks": ""
           },
           "bgcolor": "#E5ECF6",
           "caxis": {
            "gridcolor": "white",
            "linecolor": "white",
            "ticks": ""
           }
          },
          "title": {
           "x": 0.05
          },
          "xaxis": {
           "automargin": true,
           "gridcolor": "white",
           "linecolor": "white",
           "ticks": "",
           "title": {
            "standoff": 15
           },
           "zerolinecolor": "white",
           "zerolinewidth": 2
          },
          "yaxis": {
           "automargin": true,
           "gridcolor": "white",
           "linecolor": "white",
           "ticks": "",
           "title": {
            "standoff": 15
           },
           "zerolinecolor": "white",
           "zerolinewidth": 2
          }
         }
        },
        "title": {
         "text": "Demographic-Based Subgroups Affected (Top 5 + Other)",
         "y": 0.9
        },
        "width": 700
       }
      }
     },
     "metadata": {},
     "output_type": "display_data"
    }
   ],
   "source": [
    "#visualization 2: subgroup analysis for the top 10 counties, where we group the subgroups into household demographics\n",
    "#and other demographics\n",
    "subgroup_summary = subgroup_data.groupby(\"Subgroup\")[\"Affected\"].sum().reset_index()\n",
    "household_groups = subgroup_summary[subgroup_summary[\"Subgroup\"].isin([\n",
    "    \"Low Income & Low Access\",\n",
    "    \"Households w/ No Car & Low Access\",\n",
    "    \"SNAP Households & Low Access\"\n",
    "])].copy()\n",
    "household_groups[\"Percent\"] = household_groups[\"Affected\"] / household_groups[\"Affected\"].sum() * 100\n",
    "\n",
    "#horizontal bar chart for household-based graph\n",
    "fig_household = px.bar(\n",
    "    household_groups.sort_values(\"Percent\", ascending=True),\n",
    "    x=\"Percent\",\n",
    "    y=\"Subgroup\",\n",
    "    orientation=\"h\",\n",
    "    color=\"Subgroup\",\n",
    "    color_discrete_sequence=[\"#0277C8\", \"#33AD7A\", \"#304C64\"],\n",
    "    title=\"Household-Based Subgroups Affected by Low Food Access\"\n",
    ")\n",
    "fig_household.update_layout(\n",
    "    height=400,\n",
    "    width=700,\n",
    "    xaxis_title=\"Percent of Total Household-Based Population\",\n",
    "    yaxis_title=\"\",\n",
    "    legend_title=\"Subgroup\",\n",
    "    showlegend=False,\n",
    "    xaxis=dict(ticksuffix=\"%\"),\n",
    "    font=dict(size=12)\n",
    ")\n",
    "fig_household.show()\n",
    "\n",
    "\n",
    "demographic_groups = subgroup_summary[subgroup_summary[\"Subgroup\"].isin([\n",
    "    \"Children & Low Access\",\n",
    "    \"Seniors & Low Access\",\n",
    "    \"White & Low Access\",\n",
    "    \"Black & Low Access\",\n",
    "    \"Hispanic & Low Access\",\n",
    "    \"Asian & Low Access\",\n",
    "    \"American Indian/Alaska Native & Low Access\",\n",
    "    \"Hawaiian/Pacific Islander & Low Access\",\n",
    "    \"Multiracial & Low Access\"\n",
    "])].copy()\n",
    "\n",
    "#sorting by affected count and grouping everything after the top 5 into \"other\" for better visualization\n",
    "demographic_groups = demographic_groups.sort_values(\"Affected\", ascending=False)\n",
    "top5 = demographic_groups.head(5).copy()\n",
    "other_sum = demographic_groups.iloc[5:][\"Affected\"].sum()\n",
    "\n",
    "# Add \"Other\" as a combined category\n",
    "top5.loc[len(top5)] = [\"Other\", other_sum]\n",
    "top5[\"Percent\"] = top5[\"Affected\"] / top5[\"Affected\"].sum() * 100\n",
    "\n",
    "#donut chart for demographic-based (top 5 + other)\n",
    "fig_demo = px.pie(\n",
    "    top5,\n",
    "    names=\"Subgroup\",\n",
    "    values=\"Percent\",\n",
    "    hole=0.45,\n",
    "    color_discrete_sequence=px.colors.diverging.RdBu_r,\n",
    "    title=\"Demographic-Based Subgroups Affected (Top 5 + Other)\"\n",
    ")\n",
    "fig_demo.update_traces(\n",
    "    textinfo=\"label+percent\",\n",
    "    insidetextorientation=\"horizontal\"\n",
    ")\n",
    "fig_demo.update_layout(\n",
    "    height=450,\n",
    "    width=700,\n",
    "    showlegend=False,\n",
    "    title_y=0.9,\n",
    "    font=dict(size=12)\n",
    ")\n",
    "fig_demo.show()\n"
   ]
  },
  {
   "cell_type": "markdown",
   "id": "0ff9236c",
   "metadata": {},
   "source": [
    "## Putting it all together: The Impact\n",
    "This section aims to supplement the guiding question **\"what is the projected impact of this program?\"**\n",
    "\n",
    "Given all of the information we collected above, we can form a pretty good picture of what the impact of such a food access program deployed by this National Medicare Advantage plan might be.\n",
    "\n",
    "First, from the first section, we know which top 10 counties which have the highest priority score (due to having the highest rates of low-access to grocery stores AND highest rates of the 5 diseases most affected by low food access). \n",
    "\n",
    "From these top 10 counties, we also know generally a total number of adults that are Medicare-eligible (adults aged 65+), and from these adults which are most actively engaged in healthcare services from the second section. Additionally, from the section section, we know which subgroups within these counties (not specifically all 65+) are most affected within these 10 counties due to low food access and therefore have a general idea of which subgroups (demographic and household-based) to prioritize for outreach."
   ]
  },
  {
   "cell_type": "markdown",
   "id": "2d196ed3",
   "metadata": {},
   "source": [
    "Given all this information, we can first calculate an engagement rate percentage as the total 65+ adults that are engaged in healthcare services divided by the total number of 65+ adults within these 10 counties times 100. Then, we can conservatively estimate that of those that are engaged, ~50% of those will be reached and will be engaged for this food access program."
   ]
  },
  {
   "cell_type": "code",
   "execution_count": 12,
   "id": "9c214081",
   "metadata": {},
   "outputs": [
    {
     "name": "stdout",
     "output_type": "stream",
     "text": [
      "engagement rate: 27%\n",
      "estimated reach: 28,311 members\n"
     ]
    }
   ],
   "source": [
    "total_65plus = vis2_county[\"population_65plus\"].sum()\n",
    "total_engaged = vis2_county[\"engaged\"].sum()\n",
    "engagement_rate = (total_engaged / total_65plus) * 100\n",
    "print(\"engagement rate: \" + str(int(engagement_rate)) + \"%\")\n",
    "\n",
    "estimated_reach = 0.5 * total_engaged\n",
    "print(f\"estimated reach: {int(estimated_reach):,} members\")"
   ]
  },
  {
   "cell_type": "markdown",
   "id": "92e6d14a",
   "metadata": {},
   "source": [
    "Then, what we can do is estimate potential health improvement given the average mean chronic disease prevalence within the top 10 counties for the 5 diseases that are most affected by low food access. If we assume that we have a 5% relative reduction in chronic disease healthcare costs among participants due to better food access, we can estimate:"
   ]
  },
  {
   "cell_type": "code",
   "execution_count": 13,
   "id": "9f423101",
   "metadata": {},
   "outputs": [
    {
     "name": "stdout",
     "output_type": "stream",
     "text": [
      "potential impact: improving management for ~224 members with chronic diseases\n"
     ]
    }
   ],
   "source": [
    "disease_avg_mean = vis1_data[\"disease_avg\"].mean() / 100\n",
    "potential_health_improvement = estimated_reach * 0.05 * disease_avg_mean\n",
    "print(f\"potential impact: improving management for ~{int(potential_health_improvement)} members with chronic diseases\")"
   ]
  },
  {
   "cell_type": "markdown",
   "id": "477ef31b",
   "metadata": {},
   "source": [
    "Now, what we can do is translate the reduction to cost impact for the Medicare Advantage plan. \n",
    "\n",
    "The 5 chronic diseases that are most affected by low food access are:\n",
    "- high blood pressure (hypertension)\n",
    "- COPD\n",
    "- asthma\n",
    "- diabetes\n",
    "- arthritis\n",
    "\n",
    "The following studies & articles I found covered the healthcare costs of these 5 chronic diseases (per person, per year):\n",
    "- Wang, Yu et al. “Health Care Expenditures and Use Associated with Hypertension Among U.S. Adults.” American journal of preventive medicine vol. 67,6 (2024): 820-831. doi:10.1016/j.amepre.2024.07.005 -> $2,759\n",
    "- Mannino, David M., et al. “National and Local Direct Medical Cost Burden of COPD in the United States From 2016 to 2019 and Projections Through 2029.” CHEST, vol. 165, no. 5, May 2024, pp. 1093–106. journal.chestnet.org, https://doi.org/10.1016/j.chest.2023.11.040. -> $1,795\n",
    "- https://aafa.org/advocacy/key-issues/access-to-health-care/cost-of-asthma-on-society/ -> $3,728\n",
    "- Olga A. Khavjou, Minglu Sun, Sophia R. D’Angelo, Simon J. Neuwahl, Thomas J. Hoerger, Pyone Cho, Kristopher Myers, Ping Zhang; Economic Costs Attributed to Diagnosed Diabetes in Each U.S. State and the District of Columbia: 2021. Diabetes Care 20 June 2025; 48 (7): 1164–1171. https://doi.org/10.2337/dc24-0832 -> $8,474 (Medicare cost specifically)\n",
    "- Zhao, X., et al. “Clinical, Humanistic, and Economic Burden of Osteoarthritis among Noninstitutionalized Adults in the United States.” Osteoarthritis and Cartilage, vol. 27, no. 11, Nov. 2019, pp. 1618–26. www.oarsijournal.com, https://doi.org/10.1016/j.joca.2019.07.002. -> $1,778\n",
    "\n",
    "So, given these numbers, we can take an average of these per person, per year costs for these chronic diseases and multiply it by the above number of chronic disease cases we can prevent with this food access program to find the cost avoidance benefit of this program."
   ]
  },
  {
   "cell_type": "code",
   "execution_count": 14,
   "id": "200eeece",
   "metadata": {},
   "outputs": [
    {
     "name": "stdout",
     "output_type": "stream",
     "text": [
      "estimated annual cost avoidance: $830,559\n",
      "this represents potential savings of $29 per engaged member\n"
     ]
    }
   ],
   "source": [
    "average_cost = (2759 + 1795 + 3728 + 8474 + 1778) / 5\n",
    "overall_cost_benefit = potential_health_improvement * average_cost\n",
    "print(f\"estimated annual cost avoidance: ${int(overall_cost_benefit):,}\")\n",
    "print(f\"this represents potential savings of ${int(overall_cost_benefit/estimated_reach):,} per engaged member\")"
   ]
  }
 ],
 "metadata": {
  "kernelspec": {
   "display_name": "Python 3",
   "language": "python",
   "name": "python3"
  },
  "language_info": {
   "codemirror_mode": {
    "name": "ipython",
    "version": 3
   },
   "file_extension": ".py",
   "mimetype": "text/x-python",
   "name": "python",
   "nbconvert_exporter": "python",
   "pygments_lexer": "ipython3",
   "version": "3.12.6"
  }
 },
 "nbformat": 4,
 "nbformat_minor": 5
}
